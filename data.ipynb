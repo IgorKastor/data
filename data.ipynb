{
 "cells": [
  {
   "cell_type": "markdown",
   "id": "d27c7c2b",
   "metadata": {
    "id": "c81daeeb"
   },
   "source": [
    "# Экспресс-исследование надежности заемщиков"
   ]
  },
  {
   "cell_type": "markdown",
   "id": "3f607bed",
   "metadata": {
    "toc": true
   },
   "source": [
    "<h1>Содержание<span class=\"tocSkip\"></span></h1>\n",
    "<div class=\"toc\"><ul class=\"toc-item\"><li><span><a href=\"#Аннотация\" data-toc-modified-id=\"Аннотация-1\"><span class=\"toc-item-num\">1&nbsp;&nbsp;</span>Аннотация</a></span></li><li><span><a href=\"#Загрузка-данных\" data-toc-modified-id=\"Загрузка-данных-2\"><span class=\"toc-item-num\">2&nbsp;&nbsp;</span>Загрузка данных</a></span></li><li><span><a href=\"#Предобработка-данных\" data-toc-modified-id=\"Предобработка-данных-3\"><span class=\"toc-item-num\">3&nbsp;&nbsp;</span>Предобработка данных</a></span><ul class=\"toc-item\"><li><span><a href=\"#Удаление-пропусков\" data-toc-modified-id=\"Удаление-пропусков-3.1\"><span class=\"toc-item-num\">3.1&nbsp;&nbsp;</span>Удаление пропусков</a></span></li><li><span><a href=\"#Обработка-аномальных-значений\" data-toc-modified-id=\"Обработка-аномальных-значений-3.2\"><span class=\"toc-item-num\">3.2&nbsp;&nbsp;</span>Обработка аномальных значений</a></span></li><li><span><a href=\"#Обработка-дубликатов\" data-toc-modified-id=\"Обработка-дубликатов-3.3\"><span class=\"toc-item-num\">3.3&nbsp;&nbsp;</span>Обработка дубликатов</a></span></li><li><span><a href=\"#Категоризация-заемщиков-по-величине-дохода-и-по-цели-взятия-кредита\" data-toc-modified-id=\"Категоризация-заемщиков-по-величине-дохода-и-по-цели-взятия-кредита-3.4\"><span class=\"toc-item-num\">3.4&nbsp;&nbsp;</span>Категоризация заемщиков по величине дохода и по цели взятия кредита</a></span></li></ul></li><li><span><a href=\"#Исследовательский-анализ\" data-toc-modified-id=\"Исследовательский-анализ-4\"><span class=\"toc-item-num\">4&nbsp;&nbsp;</span>Исследовательский анализ</a></span><ul class=\"toc-item\"><li><span><a href=\"#Зависимость-между-количеством-детей-и-возвратом-кредита-в-срок\" data-toc-modified-id=\"Зависимость-между-количеством-детей-и-возвратом-кредита-в-срок-4.1\"><span class=\"toc-item-num\">4.1&nbsp;&nbsp;</span>Зависимость между количеством детей и возвратом кредита в срок</a></span></li><li><span><a href=\"#Влияние-семейного-положения-на-возврат-кредита\" data-toc-modified-id=\"Влияние-семейного-положения-на-возврат-кредита-4.2\"><span class=\"toc-item-num\">4.2&nbsp;&nbsp;</span>Влияние семейного положения на возврат кредита</a></span></li><li><span><a href=\"#Уровень-дохода-и-возврат-кредита-в-срок\" data-toc-modified-id=\"Уровень-дохода-и-возврат-кредита-в-срок-4.3\"><span class=\"toc-item-num\">4.3&nbsp;&nbsp;</span>Уровень дохода и возврат кредита в срок</a></span></li><li><span><a href=\"#Влияние-цели-взятия-кредита-на-его-возврат\" data-toc-modified-id=\"Влияние-цели-взятия-кредита-на-его-возврат-4.4\"><span class=\"toc-item-num\">4.4&nbsp;&nbsp;</span>Влияние цели взятия кредита на его возврат</a></span></li></ul></li><li><span><a href=\"#Общий-вывод\" data-toc-modified-id=\"Общий-вывод-5\"><span class=\"toc-item-num\">5&nbsp;&nbsp;</span>Общий вывод</a></span><ul class=\"toc-item\"><li><span><a href=\"#Пропуски-в-исходных-данных\" data-toc-modified-id=\"Пропуски-в-исходных-данных-5.1\"><span class=\"toc-item-num\">5.1&nbsp;&nbsp;</span>Пропуски в исходных данных</a></span></li><li><span><a href=\"#Демографические-факторы\" data-toc-modified-id=\"Демографические-факторы-5.2\"><span class=\"toc-item-num\">5.2&nbsp;&nbsp;</span>Демографические факторы</a></span></li><li><span><a href=\"#Уровень-доходов\" data-toc-modified-id=\"Уровень-доходов-5.3\"><span class=\"toc-item-num\">5.3&nbsp;&nbsp;</span>Уровень доходов</a></span></li><li><span><a href=\"#Цель-кредитования\" data-toc-modified-id=\"Цель-кредитования-5.4\"><span class=\"toc-item-num\">5.4&nbsp;&nbsp;</span>Цель кредитования</a></span></li></ul></li></ul></div>"
   ]
  },
  {
   "cell_type": "markdown",
   "id": "21925418",
   "metadata": {
    "id": "827c20bf"
   },
   "source": [
    "## Аннотация\n",
    "**Цель.** Определить, влияет ли семейное положение, количество детей, уровень дохода и цель взятия кредита на погашение кредита в срок. Полученные результаты могут быть учтены при построении модели *кредитного скоринга*, которая оценивает платежеспособность потенциального заемщика.\n",
    "\n",
    "**Данные:**\n",
    "- `children` — количество детей в семье;\n",
    "- `days_employed` — общий трудовой стаж в днях;\n",
    "- `dob_years` — возраст клиента в годах;\n",
    "- `education` — уровень образования клиента;\n",
    "- `education_id` — идентификатор уровня образования;\n",
    "- `family_status` — семейное положение;\n",
    "- `family_status_id` — идентификатор семейного положения;\n",
    "- `gender` — пол клиента;\n",
    "- `income_type` — тип занятости;\n",
    "- `debt` — имел ли задолженность по возврату кредитов;\n",
    "- `total_income` — ежемесячный доход;\n",
    "- `purpose` — цель получения кредита;"
   ]
  },
  {
   "cell_type": "code",
   "execution_count": 1,
   "id": "acfd6d2c",
   "metadata": {},
   "outputs": [],
   "source": [
    "import pandas as pd\n",
    "import matplotlib.pyplot as plt"
   ]
  },
  {
   "cell_type": "code",
   "execution_count": 2,
   "id": "ed35c7dc",
   "metadata": {},
   "outputs": [],
   "source": [
    "pd.set_option('future.no_silent_downcasting', True)"
   ]
  },
  {
   "cell_type": "markdown",
   "id": "8f117dca",
   "metadata": {
    "id": "744d7639"
   },
   "source": [
    "## Загрузка данных"
   ]
  },
  {
   "cell_type": "code",
   "execution_count": 3,
   "id": "7c7c9395",
   "metadata": {
    "id": "7bcf75c9"
   },
   "outputs": [],
   "source": [
    "try:\n",
    "    data = pd.read_csv('/datasets/data.csv')\n",
    "except:\n",
    "    data = pd.read_csv('https://code.s3.yandex.net/datasets/data.csv')"
   ]
  },
  {
   "cell_type": "code",
   "execution_count": 4,
   "id": "fd275987",
   "metadata": {
    "id": "2a7cab99",
    "outputId": "1a8f3ef2-d323-4ec2-ddf7-89670b5944c4"
   },
   "outputs": [
    {
     "data": {
      "text/html": [
       "<div>\n",
       "<style scoped>\n",
       "    .dataframe tbody tr th:only-of-type {\n",
       "        vertical-align: middle;\n",
       "    }\n",
       "\n",
       "    .dataframe tbody tr th {\n",
       "        vertical-align: top;\n",
       "    }\n",
       "\n",
       "    .dataframe thead th {\n",
       "        text-align: right;\n",
       "    }\n",
       "</style>\n",
       "<table border=\"1\" class=\"dataframe\">\n",
       "  <thead>\n",
       "    <tr style=\"text-align: right;\">\n",
       "      <th></th>\n",
       "      <th>children</th>\n",
       "      <th>days_employed</th>\n",
       "      <th>dob_years</th>\n",
       "      <th>education</th>\n",
       "      <th>education_id</th>\n",
       "      <th>family_status</th>\n",
       "      <th>family_status_id</th>\n",
       "      <th>gender</th>\n",
       "      <th>income_type</th>\n",
       "      <th>debt</th>\n",
       "      <th>total_income</th>\n",
       "      <th>purpose</th>\n",
       "    </tr>\n",
       "  </thead>\n",
       "  <tbody>\n",
       "    <tr>\n",
       "      <th>0</th>\n",
       "      <td>1</td>\n",
       "      <td>-8437.673028</td>\n",
       "      <td>42</td>\n",
       "      <td>высшее</td>\n",
       "      <td>0</td>\n",
       "      <td>женат / замужем</td>\n",
       "      <td>0</td>\n",
       "      <td>F</td>\n",
       "      <td>сотрудник</td>\n",
       "      <td>0</td>\n",
       "      <td>253875.639453</td>\n",
       "      <td>покупка жилья</td>\n",
       "    </tr>\n",
       "    <tr>\n",
       "      <th>1</th>\n",
       "      <td>1</td>\n",
       "      <td>-4024.803754</td>\n",
       "      <td>36</td>\n",
       "      <td>среднее</td>\n",
       "      <td>1</td>\n",
       "      <td>женат / замужем</td>\n",
       "      <td>0</td>\n",
       "      <td>F</td>\n",
       "      <td>сотрудник</td>\n",
       "      <td>0</td>\n",
       "      <td>112080.014102</td>\n",
       "      <td>приобретение автомобиля</td>\n",
       "    </tr>\n",
       "    <tr>\n",
       "      <th>2</th>\n",
       "      <td>0</td>\n",
       "      <td>-5623.422610</td>\n",
       "      <td>33</td>\n",
       "      <td>Среднее</td>\n",
       "      <td>1</td>\n",
       "      <td>женат / замужем</td>\n",
       "      <td>0</td>\n",
       "      <td>M</td>\n",
       "      <td>сотрудник</td>\n",
       "      <td>0</td>\n",
       "      <td>145885.952297</td>\n",
       "      <td>покупка жилья</td>\n",
       "    </tr>\n",
       "    <tr>\n",
       "      <th>3</th>\n",
       "      <td>3</td>\n",
       "      <td>-4124.747207</td>\n",
       "      <td>32</td>\n",
       "      <td>среднее</td>\n",
       "      <td>1</td>\n",
       "      <td>женат / замужем</td>\n",
       "      <td>0</td>\n",
       "      <td>M</td>\n",
       "      <td>сотрудник</td>\n",
       "      <td>0</td>\n",
       "      <td>267628.550329</td>\n",
       "      <td>дополнительное образование</td>\n",
       "    </tr>\n",
       "    <tr>\n",
       "      <th>4</th>\n",
       "      <td>0</td>\n",
       "      <td>340266.072047</td>\n",
       "      <td>53</td>\n",
       "      <td>среднее</td>\n",
       "      <td>1</td>\n",
       "      <td>гражданский брак</td>\n",
       "      <td>1</td>\n",
       "      <td>F</td>\n",
       "      <td>пенсионер</td>\n",
       "      <td>0</td>\n",
       "      <td>158616.077870</td>\n",
       "      <td>сыграть свадьбу</td>\n",
       "    </tr>\n",
       "  </tbody>\n",
       "</table>\n",
       "</div>"
      ],
      "text/plain": [
       "   children  days_employed  dob_years education  education_id  \\\n",
       "0         1   -8437.673028         42    высшее             0   \n",
       "1         1   -4024.803754         36   среднее             1   \n",
       "2         0   -5623.422610         33   Среднее             1   \n",
       "3         3   -4124.747207         32   среднее             1   \n",
       "4         0  340266.072047         53   среднее             1   \n",
       "\n",
       "      family_status  family_status_id gender income_type  debt   total_income  \\\n",
       "0   женат / замужем                 0      F   сотрудник     0  253875.639453   \n",
       "1   женат / замужем                 0      F   сотрудник     0  112080.014102   \n",
       "2   женат / замужем                 0      M   сотрудник     0  145885.952297   \n",
       "3   женат / замужем                 0      M   сотрудник     0  267628.550329   \n",
       "4  гражданский брак                 1      F   пенсионер     0  158616.077870   \n",
       "\n",
       "                      purpose  \n",
       "0               покупка жилья  \n",
       "1     приобретение автомобиля  \n",
       "2               покупка жилья  \n",
       "3  дополнительное образование  \n",
       "4             сыграть свадьбу  "
      ]
     },
     "execution_count": 4,
     "metadata": {},
     "output_type": "execute_result"
    }
   ],
   "source": [
    "data.head(5)"
   ]
  },
  {
   "cell_type": "code",
   "execution_count": 5,
   "id": "e1fb14b5",
   "metadata": {
    "id": "2b757bca",
    "outputId": "15376089-8dad-46c9-b520-c05248d43158"
   },
   "outputs": [
    {
     "name": "stdout",
     "output_type": "stream",
     "text": [
      "<class 'pandas.core.frame.DataFrame'>\n",
      "RangeIndex: 21525 entries, 0 to 21524\n",
      "Data columns (total 12 columns):\n",
      " #   Column            Non-Null Count  Dtype  \n",
      "---  ------            --------------  -----  \n",
      " 0   children          21525 non-null  int64  \n",
      " 1   days_employed     19351 non-null  float64\n",
      " 2   dob_years         21525 non-null  int64  \n",
      " 3   education         21525 non-null  object \n",
      " 4   education_id      21525 non-null  int64  \n",
      " 5   family_status     21525 non-null  object \n",
      " 6   family_status_id  21525 non-null  int64  \n",
      " 7   gender            21525 non-null  object \n",
      " 8   income_type       21525 non-null  object \n",
      " 9   debt              21525 non-null  int64  \n",
      " 10  total_income      19351 non-null  float64\n",
      " 11  purpose           21525 non-null  object \n",
      "dtypes: float64(2), int64(5), object(5)\n",
      "memory usage: 2.0+ MB\n"
     ]
    }
   ],
   "source": [
    "data.info()"
   ]
  },
  {
   "cell_type": "markdown",
   "id": "fae72115",
   "metadata": {
    "id": "333ec665"
   },
   "source": [
    "## Предобработка данных"
   ]
  },
  {
   "cell_type": "markdown",
   "id": "b1a76e96",
   "metadata": {
    "id": "02d92d53"
   },
   "source": [
    "### Удаление пропусков"
   ]
  },
  {
   "cell_type": "code",
   "execution_count": 6,
   "id": "c65524da",
   "metadata": {
    "id": "7f9b2309",
    "outputId": "81f4d817-781c-465c-ed15-91ce4446810d",
    "scrolled": true
   },
   "outputs": [
    {
     "data": {
      "text/plain": [
       "children               0\n",
       "days_employed       2174\n",
       "dob_years              0\n",
       "education              0\n",
       "education_id           0\n",
       "family_status          0\n",
       "family_status_id       0\n",
       "gender                 0\n",
       "income_type            0\n",
       "debt                   0\n",
       "total_income        2174\n",
       "purpose                0\n",
       "dtype: int64"
      ]
     },
     "execution_count": 6,
     "metadata": {},
     "output_type": "execute_result"
    }
   ],
   "source": [
    "data.isna().sum()"
   ]
  },
  {
   "cell_type": "markdown",
   "id": "fdc216ba",
   "metadata": {
    "id": "db86e27b"
   },
   "source": [
    "**Вывод.** В двух столбцах есть пропущенные значения. На сумму дохода сильнее всего влияет тип занятости, поэтому заполнить пропуски в этом столбце будем медианным значением по каждому типу дохода. \n",
    "\n",
    "Например, у человека с типом занятости `сотрудник` пропуск `total_income` заполним медианным доходом среди всех записей с тем же типом."
   ]
  },
  {
   "cell_type": "code",
   "execution_count": 7,
   "id": "cbe45c45",
   "metadata": {
    "id": "42006a93"
   },
   "outputs": [],
   "source": [
    "for t in data['income_type'].unique():\n",
    "    data.loc[(data['income_type'] == t) & (data['total_income'].isna()), 'total_income'] = \\\n",
    "    data.loc[(data['income_type'] == t), 'total_income'].median()"
   ]
  },
  {
   "cell_type": "code",
   "execution_count": 8,
   "id": "4ec23a73",
   "metadata": {
    "id": "7f9b2309",
    "outputId": "81f4d817-781c-465c-ed15-91ce4446810d",
    "scrolled": true
   },
   "outputs": [
    {
     "data": {
      "text/plain": [
       "0"
      ]
     },
     "execution_count": 8,
     "metadata": {},
     "output_type": "execute_result"
    }
   ],
   "source": [
    "# проверка\n",
    "data['income_type'].isna().sum()"
   ]
  },
  {
   "cell_type": "markdown",
   "id": "4c777c09",
   "metadata": {
    "id": "89da5ece"
   },
   "source": [
    "### Обработка аномальных значений"
   ]
  },
  {
   "cell_type": "code",
   "execution_count": 9,
   "id": "a4f4047c",
   "metadata": {},
   "outputs": [
    {
     "data": {
      "text/plain": [
       "0         -8437.673028\n",
       "1         -4024.803754\n",
       "2         -5623.422610\n",
       "3         -4124.747207\n",
       "4        340266.072047\n",
       "             ...      \n",
       "21520     -4529.316663\n",
       "21521    343937.404131\n",
       "21522     -2113.346888\n",
       "21523     -3112.481705\n",
       "21524     -1984.507589\n",
       "Name: days_employed, Length: 21525, dtype: float64"
      ]
     },
     "execution_count": 9,
     "metadata": {},
     "output_type": "execute_result"
    }
   ],
   "source": [
    "data['days_employed']"
   ]
  },
  {
   "cell_type": "markdown",
   "id": "f6ebec05",
   "metadata": {
    "id": "57964554"
   },
   "source": [
    "У нас есть *артефакты (аномалии)* — значения, которые не отражают действительность и появились по какой-то ошибке, например, отрицательное значение стажа заменим положительным."
   ]
  },
  {
   "cell_type": "code",
   "execution_count": 10,
   "id": "85be46cf",
   "metadata": {
    "id": "f6f055bf"
   },
   "outputs": [
    {
     "data": {
      "text/plain": [
       "0          8437.673028\n",
       "1          4024.803754\n",
       "2          5623.422610\n",
       "3          4124.747207\n",
       "4        340266.072047\n",
       "             ...      \n",
       "21520      4529.316663\n",
       "21521    343937.404131\n",
       "21522      2113.346888\n",
       "21523      3112.481705\n",
       "21524      1984.507589\n",
       "Name: days_employed, Length: 21525, dtype: float64"
      ]
     },
     "execution_count": 10,
     "metadata": {},
     "output_type": "execute_result"
    }
   ],
   "source": [
    "data['days_employed'] = data['days_employed'].abs()\n",
    "data['days_employed']"
   ]
  },
  {
   "cell_type": "markdown",
   "id": "fbae9918",
   "metadata": {
    "id": "6107dd2f"
   },
   "source": [
    "Для каждого типа занятости посмотрим медианное значение трудового стажа"
   ]
  },
  {
   "cell_type": "code",
   "execution_count": 11,
   "id": "94a7c012",
   "metadata": {
    "id": "85a5faf6",
    "outputId": "801ef80e-522b-4668-f34e-565af7432bcf",
    "scrolled": true
   },
   "outputs": [
    {
     "data": {
      "text/plain": [
       "income_type\n",
       "безработный        366413.652744\n",
       "в декрете            3296.759962\n",
       "госслужащий          2689.368353\n",
       "компаньон            1547.382223\n",
       "пенсионер          365213.306266\n",
       "предприниматель       520.848083\n",
       "сотрудник            1574.202821\n",
       "студент               578.751554\n",
       "Name: days_employed, dtype: float64"
      ]
     },
     "execution_count": 11,
     "metadata": {},
     "output_type": "execute_result"
    }
   ],
   "source": [
    "data.groupby('income_type')['days_employed'].agg('median')"
   ]
  },
  {
   "cell_type": "markdown",
   "id": "c1a13b26",
   "metadata": {
    "id": "38d1a030"
   },
   "source": [
    "**Вывод.** У двух типов (безработные и пенсионеры) получатся аномально большие значения. Исправить такие значения сложно, т.к. неясен источник ошибки. Возможно, 365000 дней, т.е. 1000 лет - это условное указание на то, что человек никогда не работал или, наоборот, давно на пенсии. Оставим, как есть, поскольку этот столбец не понадобится для дальнейшего исследования."
   ]
  },
  {
   "cell_type": "code",
   "execution_count": 12,
   "id": "4720f883",
   "metadata": {
    "id": "ef5056eb",
    "outputId": "6975b15c-7f95-4697-d16d-a0c79b657b03",
    "scrolled": true
   },
   "outputs": [
    {
     "data": {
      "text/plain": [
       "array([ 1,  0,  3,  2, -1,  4, 20,  5], dtype=int64)"
      ]
     },
     "execution_count": 12,
     "metadata": {},
     "output_type": "execute_result"
    }
   ],
   "source": [
    "data['children'].unique()"
   ]
  },
  {
   "cell_type": "markdown",
   "id": "50f97955",
   "metadata": {
    "id": "40b9ebf2"
   },
   "source": [
    "В столбце `children` есть два аномальных значения. Удалим строки, в которых они встречаются"
   ]
  },
  {
   "cell_type": "code",
   "execution_count": 13,
   "id": "f400ac66",
   "metadata": {
    "id": "3ff9801d"
   },
   "outputs": [],
   "source": [
    "data = data[(data['children'] != -1) & (data['children'] != 20)]"
   ]
  },
  {
   "cell_type": "code",
   "execution_count": 14,
   "id": "5d018ca8",
   "metadata": {
    "id": "ef5056eb",
    "outputId": "6975b15c-7f95-4697-d16d-a0c79b657b03",
    "scrolled": false
   },
   "outputs": [
    {
     "data": {
      "text/plain": [
       "array([1, 0, 3, 2, 4, 5], dtype=int64)"
      ]
     },
     "execution_count": 14,
     "metadata": {},
     "output_type": "execute_result"
    }
   ],
   "source": [
    "# проверка\n",
    "data['children'].unique()"
   ]
  },
  {
   "cell_type": "markdown",
   "id": "07743a40",
   "metadata": {
    "id": "f4ea573f"
   },
   "source": [
    "Пропуски в столбце `days_employed` заполним медианными значениями по каждому типу занятости `income_type`"
   ]
  },
  {
   "cell_type": "code",
   "execution_count": 15,
   "id": "3b95cbc9",
   "metadata": {
    "id": "af6b1a7e"
   },
   "outputs": [],
   "source": [
    "for t in data['income_type'].unique():\n",
    "    data.loc[(data['income_type'] == t) & (data['days_employed'].isna()), 'days_employed'] = \\\n",
    "    data.loc[(data['income_type'] == t), 'days_employed'].median()"
   ]
  },
  {
   "cell_type": "code",
   "execution_count": 16,
   "id": "c1a7afe8",
   "metadata": {
    "id": "55f78bc2",
    "outputId": "8da1e4e1-358e-4e87-98c9-f261bce0a7b2"
   },
   "outputs": [
    {
     "data": {
      "text/plain": [
       "0"
      ]
     },
     "execution_count": 16,
     "metadata": {},
     "output_type": "execute_result"
    }
   ],
   "source": [
    "data['days_employed'].isna().sum()"
   ]
  },
  {
   "cell_type": "markdown",
   "id": "d5eff8e7",
   "metadata": {
    "id": "80c420ba"
   },
   "source": [
    "### Обработка дубликатов"
   ]
  },
  {
   "cell_type": "code",
   "execution_count": 17,
   "id": "9d1e95bb",
   "metadata": {},
   "outputs": [
    {
     "data": {
      "text/plain": [
       "array(['высшее', 'среднее', 'Среднее', 'СРЕДНЕЕ', 'ВЫСШЕЕ',\n",
       "       'неоконченное высшее', 'начальное', 'Высшее',\n",
       "       'НЕОКОНЧЕННОЕ ВЫСШЕЕ', 'Неоконченное высшее', 'НАЧАЛЬНОЕ',\n",
       "       'Начальное', 'Ученая степень', 'УЧЕНАЯ СТЕПЕНЬ', 'ученая степень'],\n",
       "      dtype=object)"
      ]
     },
     "execution_count": 17,
     "metadata": {},
     "output_type": "execute_result"
    }
   ],
   "source": [
    "data['education'].unique()"
   ]
  },
  {
   "cell_type": "markdown",
   "id": "f4d2eee8",
   "metadata": {},
   "source": [
    "Видим, что есть неявные дубликаты в столбце `education`. Приведем их к нижнему регистру"
   ]
  },
  {
   "cell_type": "code",
   "execution_count": 18,
   "id": "2dbd7130",
   "metadata": {},
   "outputs": [],
   "source": [
    "data['education'] = data['education'].str.lower()"
   ]
  },
  {
   "cell_type": "markdown",
   "id": "a080a881",
   "metadata": {
    "id": "dc587695"
   },
   "source": [
    "Смотрим количество записей-дубликатов и удаляем их"
   ]
  },
  {
   "cell_type": "code",
   "execution_count": 19,
   "id": "af84305c",
   "metadata": {
    "id": "3ee445e4",
    "outputId": "9684deba-1934-42d1-99e1-cda61740f822"
   },
   "outputs": [
    {
     "data": {
      "text/html": [
       "<div>\n",
       "<style scoped>\n",
       "    .dataframe tbody tr th:only-of-type {\n",
       "        vertical-align: middle;\n",
       "    }\n",
       "\n",
       "    .dataframe tbody tr th {\n",
       "        vertical-align: top;\n",
       "    }\n",
       "\n",
       "    .dataframe thead th {\n",
       "        text-align: right;\n",
       "    }\n",
       "</style>\n",
       "<table border=\"1\" class=\"dataframe\">\n",
       "  <thead>\n",
       "    <tr style=\"text-align: right;\">\n",
       "      <th></th>\n",
       "      <th>children</th>\n",
       "      <th>days_employed</th>\n",
       "      <th>dob_years</th>\n",
       "      <th>education</th>\n",
       "      <th>education_id</th>\n",
       "      <th>family_status</th>\n",
       "      <th>family_status_id</th>\n",
       "      <th>gender</th>\n",
       "      <th>income_type</th>\n",
       "      <th>debt</th>\n",
       "      <th>total_income</th>\n",
       "      <th>purpose</th>\n",
       "    </tr>\n",
       "  </thead>\n",
       "  <tbody>\n",
       "    <tr>\n",
       "      <th>2849</th>\n",
       "      <td>0</td>\n",
       "      <td>1572.328285</td>\n",
       "      <td>41</td>\n",
       "      <td>среднее</td>\n",
       "      <td>1</td>\n",
       "      <td>женат / замужем</td>\n",
       "      <td>0</td>\n",
       "      <td>F</td>\n",
       "      <td>сотрудник</td>\n",
       "      <td>0</td>\n",
       "      <td>142594.396847</td>\n",
       "      <td>покупка жилья для семьи</td>\n",
       "    </tr>\n",
       "    <tr>\n",
       "      <th>3290</th>\n",
       "      <td>0</td>\n",
       "      <td>365286.622650</td>\n",
       "      <td>58</td>\n",
       "      <td>среднее</td>\n",
       "      <td>1</td>\n",
       "      <td>гражданский брак</td>\n",
       "      <td>1</td>\n",
       "      <td>F</td>\n",
       "      <td>пенсионер</td>\n",
       "      <td>0</td>\n",
       "      <td>118514.486412</td>\n",
       "      <td>сыграть свадьбу</td>\n",
       "    </tr>\n",
       "    <tr>\n",
       "      <th>4182</th>\n",
       "      <td>1</td>\n",
       "      <td>1572.328285</td>\n",
       "      <td>34</td>\n",
       "      <td>высшее</td>\n",
       "      <td>0</td>\n",
       "      <td>гражданский брак</td>\n",
       "      <td>1</td>\n",
       "      <td>F</td>\n",
       "      <td>сотрудник</td>\n",
       "      <td>0</td>\n",
       "      <td>142594.396847</td>\n",
       "      <td>свадьба</td>\n",
       "    </tr>\n",
       "    <tr>\n",
       "      <th>4851</th>\n",
       "      <td>0</td>\n",
       "      <td>365286.622650</td>\n",
       "      <td>60</td>\n",
       "      <td>среднее</td>\n",
       "      <td>1</td>\n",
       "      <td>гражданский брак</td>\n",
       "      <td>1</td>\n",
       "      <td>F</td>\n",
       "      <td>пенсионер</td>\n",
       "      <td>0</td>\n",
       "      <td>118514.486412</td>\n",
       "      <td>свадьба</td>\n",
       "    </tr>\n",
       "    <tr>\n",
       "      <th>5557</th>\n",
       "      <td>0</td>\n",
       "      <td>365286.622650</td>\n",
       "      <td>58</td>\n",
       "      <td>среднее</td>\n",
       "      <td>1</td>\n",
       "      <td>гражданский брак</td>\n",
       "      <td>1</td>\n",
       "      <td>F</td>\n",
       "      <td>пенсионер</td>\n",
       "      <td>0</td>\n",
       "      <td>118514.486412</td>\n",
       "      <td>сыграть свадьбу</td>\n",
       "    </tr>\n",
       "  </tbody>\n",
       "</table>\n",
       "</div>"
      ],
      "text/plain": [
       "      children  days_employed  dob_years education  education_id  \\\n",
       "2849         0    1572.328285         41   среднее             1   \n",
       "3290         0  365286.622650         58   среднее             1   \n",
       "4182         1    1572.328285         34    высшее             0   \n",
       "4851         0  365286.622650         60   среднее             1   \n",
       "5557         0  365286.622650         58   среднее             1   \n",
       "\n",
       "         family_status  family_status_id gender income_type  debt  \\\n",
       "2849   женат / замужем                 0      F   сотрудник     0   \n",
       "3290  гражданский брак                 1      F   пенсионер     0   \n",
       "4182  гражданский брак                 1      F   сотрудник     0   \n",
       "4851  гражданский брак                 1      F   пенсионер     0   \n",
       "5557  гражданский брак                 1      F   пенсионер     0   \n",
       "\n",
       "       total_income                  purpose  \n",
       "2849  142594.396847  покупка жилья для семьи  \n",
       "3290  118514.486412          сыграть свадьбу  \n",
       "4182  142594.396847                  свадьба  \n",
       "4851  118514.486412                  свадьба  \n",
       "5557  118514.486412          сыграть свадьбу  "
      ]
     },
     "execution_count": 19,
     "metadata": {},
     "output_type": "execute_result"
    }
   ],
   "source": [
    "data[data.duplicated() == True].head()"
   ]
  },
  {
   "cell_type": "code",
   "execution_count": 20,
   "id": "134dede7",
   "metadata": {
    "id": "3ee445e4",
    "outputId": "9684deba-1934-42d1-99e1-cda61740f822"
   },
   "outputs": [
    {
     "data": {
      "text/plain": [
       "71"
      ]
     },
     "execution_count": 20,
     "metadata": {},
     "output_type": "execute_result"
    }
   ],
   "source": [
    "data.duplicated().sum()"
   ]
  },
  {
   "cell_type": "code",
   "execution_count": 21,
   "id": "09051a7b",
   "metadata": {
    "id": "8575fe05"
   },
   "outputs": [
    {
     "data": {
      "text/plain": [
       "0"
      ]
     },
     "execution_count": 21,
     "metadata": {},
     "output_type": "execute_result"
    }
   ],
   "source": [
    "data = data.drop_duplicates()\n",
    "data.duplicated().sum()"
   ]
  },
  {
   "cell_type": "markdown",
   "id": "c31ed7b2",
   "metadata": {
    "id": "9904cf55"
   },
   "source": [
    "### Категоризация заемщиков по величине дохода и по цели взятия кредита"
   ]
  },
  {
   "cell_type": "markdown",
   "id": "a881caf6",
   "metadata": {
    "id": "72fcc8a2"
   },
   "source": [
    "На основании диапазонов дохода, указанных ниже, создадим столбец `total_income_category`:\n",
    "- 0–30000 — `'E'`;\n",
    "- 30001–50000 — `'D'`;\n",
    "- 50001–200000 — `'C'`;\n",
    "- 200001–1000000 — `'B'`;\n",
    "- 1000001 и выше — `'A'`"
   ]
  },
  {
   "cell_type": "code",
   "execution_count": 22,
   "id": "e39ec59a",
   "metadata": {
    "id": "e1771346"
   },
   "outputs": [],
   "source": [
    "def categorize_income(income):\n",
    "    try:\n",
    "        if 0 <= income <= 30000:\n",
    "            return 'E'\n",
    "        elif 30001 <= income <= 50000:\n",
    "            return 'D'\n",
    "        elif 50001 <= income <= 200000:\n",
    "            return 'C'\n",
    "        elif 200001 <= income <= 1000000:\n",
    "            return 'B'\n",
    "        elif income >= 1000001:\n",
    "            return 'A'\n",
    "    except:\n",
    "        pass"
   ]
  },
  {
   "cell_type": "code",
   "execution_count": 23,
   "id": "f47605cd",
   "metadata": {
    "id": "d5f3586d"
   },
   "outputs": [
    {
     "data": {
      "text/html": [
       "<div>\n",
       "<style scoped>\n",
       "    .dataframe tbody tr th:only-of-type {\n",
       "        vertical-align: middle;\n",
       "    }\n",
       "\n",
       "    .dataframe tbody tr th {\n",
       "        vertical-align: top;\n",
       "    }\n",
       "\n",
       "    .dataframe thead th {\n",
       "        text-align: right;\n",
       "    }\n",
       "</style>\n",
       "<table border=\"1\" class=\"dataframe\">\n",
       "  <thead>\n",
       "    <tr style=\"text-align: right;\">\n",
       "      <th></th>\n",
       "      <th>total_income</th>\n",
       "      <th>total_income_category</th>\n",
       "    </tr>\n",
       "  </thead>\n",
       "  <tbody>\n",
       "    <tr>\n",
       "      <th>0</th>\n",
       "      <td>253875.639453</td>\n",
       "      <td>B</td>\n",
       "    </tr>\n",
       "    <tr>\n",
       "      <th>1</th>\n",
       "      <td>112080.014102</td>\n",
       "      <td>C</td>\n",
       "    </tr>\n",
       "    <tr>\n",
       "      <th>2</th>\n",
       "      <td>145885.952297</td>\n",
       "      <td>C</td>\n",
       "    </tr>\n",
       "    <tr>\n",
       "      <th>3</th>\n",
       "      <td>267628.550329</td>\n",
       "      <td>B</td>\n",
       "    </tr>\n",
       "    <tr>\n",
       "      <th>4</th>\n",
       "      <td>158616.077870</td>\n",
       "      <td>C</td>\n",
       "    </tr>\n",
       "  </tbody>\n",
       "</table>\n",
       "</div>"
      ],
      "text/plain": [
       "    total_income total_income_category\n",
       "0  253875.639453                     B\n",
       "1  112080.014102                     C\n",
       "2  145885.952297                     C\n",
       "3  267628.550329                     B\n",
       "4  158616.077870                     C"
      ]
     },
     "execution_count": 23,
     "metadata": {},
     "output_type": "execute_result"
    }
   ],
   "source": [
    "data['total_income_category'] = data['total_income'].apply(categorize_income)\n",
    "data[['total_income', 'total_income_category']].head()"
   ]
  },
  {
   "cell_type": "markdown",
   "id": "194171a6",
   "metadata": {
    "id": "dde49b5c"
   },
   "source": [
    "Смотрим цели взятия кредита"
   ]
  },
  {
   "cell_type": "code",
   "execution_count": 24,
   "id": "a57a417e",
   "metadata": {
    "id": "f67ce9b3",
    "outputId": "673c12d9-7d7e-4ae0-9812-c622c89dd244",
    "scrolled": true
   },
   "outputs": [
    {
     "data": {
      "text/plain": [
       "array(['покупка жилья', 'приобретение автомобиля',\n",
       "       'дополнительное образование', 'сыграть свадьбу',\n",
       "       'операции с жильем', 'образование', 'на проведение свадьбы',\n",
       "       'покупка жилья для семьи', 'покупка недвижимости',\n",
       "       'покупка коммерческой недвижимости', 'покупка жилой недвижимости',\n",
       "       'строительство собственной недвижимости', 'недвижимость',\n",
       "       'строительство недвижимости', 'на покупку подержанного автомобиля',\n",
       "       'на покупку своего автомобиля',\n",
       "       'операции с коммерческой недвижимостью',\n",
       "       'строительство жилой недвижимости', 'жилье',\n",
       "       'операции со своей недвижимостью', 'автомобили',\n",
       "       'заняться образованием', 'сделка с подержанным автомобилем',\n",
       "       'получение образования', 'автомобиль', 'свадьба',\n",
       "       'получение дополнительного образования', 'покупка своего жилья',\n",
       "       'операции с недвижимостью', 'получение высшего образования',\n",
       "       'свой автомобиль', 'сделка с автомобилем',\n",
       "       'профильное образование', 'высшее образование',\n",
       "       'покупка жилья для сдачи', 'на покупку автомобиля', 'ремонт жилью',\n",
       "       'заняться высшим образованием'], dtype=object)"
      ]
     },
     "execution_count": 24,
     "metadata": {},
     "output_type": "execute_result"
    }
   ],
   "source": [
    "data['purpose'].unique()"
   ]
  },
  {
   "cell_type": "markdown",
   "id": "6e68902b",
   "metadata": {
    "id": "85d0aef0"
   },
   "source": [
    "Сформируем новый столбец `purpose_category`, в который войдут следующие категории:\n",
    "- `'операции с автомобилем'`,\n",
    "- `'операции с недвижимостью'`,\n",
    "- `'проведение свадьбы'`,\n",
    "- `'получение образования'`."
   ]
  },
  {
   "cell_type": "code",
   "execution_count": 25,
   "id": "8ae964ae",
   "metadata": {
    "id": "e149fab4"
   },
   "outputs": [],
   "source": [
    "def categorize_purpose(row):\n",
    "    try:\n",
    "        if 'автом' in row:\n",
    "            return 'операции с автомобилем'\n",
    "        elif 'жил' in row or 'недвиж' in row:\n",
    "            return 'операции с недвижимостью'\n",
    "        elif 'свад' in row:\n",
    "            return 'проведение свадьбы'\n",
    "        elif 'образов' in row:\n",
    "            return 'получение образования'\n",
    "    except:\n",
    "        return 'нет категории'"
   ]
  },
  {
   "cell_type": "code",
   "execution_count": 26,
   "id": "d7709535",
   "metadata": {
    "id": "bf36e69b"
   },
   "outputs": [
    {
     "data": {
      "text/html": [
       "<div>\n",
       "<style scoped>\n",
       "    .dataframe tbody tr th:only-of-type {\n",
       "        vertical-align: middle;\n",
       "    }\n",
       "\n",
       "    .dataframe tbody tr th {\n",
       "        vertical-align: top;\n",
       "    }\n",
       "\n",
       "    .dataframe thead th {\n",
       "        text-align: right;\n",
       "    }\n",
       "</style>\n",
       "<table border=\"1\" class=\"dataframe\">\n",
       "  <thead>\n",
       "    <tr style=\"text-align: right;\">\n",
       "      <th></th>\n",
       "      <th>purpose</th>\n",
       "      <th>purpose_category</th>\n",
       "    </tr>\n",
       "  </thead>\n",
       "  <tbody>\n",
       "    <tr>\n",
       "      <th>0</th>\n",
       "      <td>покупка жилья</td>\n",
       "      <td>операции с недвижимостью</td>\n",
       "    </tr>\n",
       "    <tr>\n",
       "      <th>1</th>\n",
       "      <td>приобретение автомобиля</td>\n",
       "      <td>операции с автомобилем</td>\n",
       "    </tr>\n",
       "    <tr>\n",
       "      <th>2</th>\n",
       "      <td>покупка жилья</td>\n",
       "      <td>операции с недвижимостью</td>\n",
       "    </tr>\n",
       "    <tr>\n",
       "      <th>3</th>\n",
       "      <td>дополнительное образование</td>\n",
       "      <td>получение образования</td>\n",
       "    </tr>\n",
       "    <tr>\n",
       "      <th>4</th>\n",
       "      <td>сыграть свадьбу</td>\n",
       "      <td>проведение свадьбы</td>\n",
       "    </tr>\n",
       "  </tbody>\n",
       "</table>\n",
       "</div>"
      ],
      "text/plain": [
       "                      purpose          purpose_category\n",
       "0               покупка жилья  операции с недвижимостью\n",
       "1     приобретение автомобиля    операции с автомобилем\n",
       "2               покупка жилья  операции с недвижимостью\n",
       "3  дополнительное образование     получение образования\n",
       "4             сыграть свадьбу        проведение свадьбы"
      ]
     },
     "execution_count": 26,
     "metadata": {},
     "output_type": "execute_result"
    }
   ],
   "source": [
    "data['purpose_category'] = data['purpose'].apply(categorize_purpose)\n",
    "data[['purpose', 'purpose_category']].head()"
   ]
  },
  {
   "cell_type": "markdown",
   "id": "9061bbad",
   "metadata": {
    "id": "09b242bf"
   },
   "source": [
    "## Исследовательский анализ"
   ]
  },
  {
   "cell_type": "markdown",
   "id": "505282f5",
   "metadata": {
    "id": "c5d66278"
   },
   "source": [
    "### Зависимость между количеством детей и возвратом кредита в срок"
   ]
  },
  {
   "cell_type": "code",
   "execution_count": 27,
   "id": "6dda123f",
   "metadata": {
    "id": "2cacfc4a"
   },
   "outputs": [
    {
     "data": {
      "text/plain": [
       "children  debt\n",
       "0         1       0.075438\n",
       "          0       0.924562\n",
       "1         1       0.092346\n",
       "          0       0.907654\n",
       "2         1       0.094542\n",
       "          0       0.905458\n",
       "3         1       0.081818\n",
       "          0       0.918182\n",
       "4         1       0.097561\n",
       "          0       0.902439\n",
       "5         0       1.000000\n",
       "Name: proportion, dtype: float64"
      ]
     },
     "execution_count": 27,
     "metadata": {},
     "output_type": "execute_result"
    }
   ],
   "source": [
    "# сгруппируем столбец с данными о факте задолженности \n",
    "# по количеству детей (в долях по категориям)\n",
    "data.groupby('children')['debt'].value_counts(normalize=True, ascending=True)"
   ]
  },
  {
   "cell_type": "markdown",
   "id": "99fbf587",
   "metadata": {},
   "source": [
    "**Вывод:** у бездетных 7,5% невозвратов, у 1-2-детных - примерно 9,3%, у многодетных - более 8%. \n",
    "\n",
    "Проведем более глубокий анализ по категориям - бездетные, малодетные, многодетные."
   ]
  },
  {
   "cell_type": "code",
   "execution_count": 28,
   "id": "cacee4b7",
   "metadata": {},
   "outputs": [
    {
     "data": {
      "text/html": [
       "<div>\n",
       "<style scoped>\n",
       "    .dataframe tbody tr th:only-of-type {\n",
       "        vertical-align: middle;\n",
       "    }\n",
       "\n",
       "    .dataframe tbody tr th {\n",
       "        vertical-align: top;\n",
       "    }\n",
       "\n",
       "    .dataframe thead th {\n",
       "        text-align: right;\n",
       "    }\n",
       "</style>\n",
       "<table border=\"1\" class=\"dataframe\">\n",
       "  <thead>\n",
       "    <tr style=\"text-align: right;\">\n",
       "      <th></th>\n",
       "      <th>children</th>\n",
       "      <th>debt</th>\n",
       "    </tr>\n",
       "    <tr>\n",
       "      <th>children</th>\n",
       "      <th></th>\n",
       "      <th></th>\n",
       "    </tr>\n",
       "  </thead>\n",
       "  <tbody>\n",
       "    <tr>\n",
       "      <th>0</th>\n",
       "      <td>14091</td>\n",
       "      <td>1063</td>\n",
       "    </tr>\n",
       "    <tr>\n",
       "      <th>1</th>\n",
       "      <td>4808</td>\n",
       "      <td>444</td>\n",
       "    </tr>\n",
       "    <tr>\n",
       "      <th>2</th>\n",
       "      <td>2052</td>\n",
       "      <td>194</td>\n",
       "    </tr>\n",
       "    <tr>\n",
       "      <th>3</th>\n",
       "      <td>330</td>\n",
       "      <td>27</td>\n",
       "    </tr>\n",
       "    <tr>\n",
       "      <th>4</th>\n",
       "      <td>41</td>\n",
       "      <td>4</td>\n",
       "    </tr>\n",
       "    <tr>\n",
       "      <th>5</th>\n",
       "      <td>9</td>\n",
       "      <td>0</td>\n",
       "    </tr>\n",
       "  </tbody>\n",
       "</table>\n",
       "</div>"
      ],
      "text/plain": [
       "          children  debt\n",
       "children                \n",
       "0            14091  1063\n",
       "1             4808   444\n",
       "2             2052   194\n",
       "3              330    27\n",
       "4               41     4\n",
       "5                9     0"
      ]
     },
     "execution_count": 28,
     "metadata": {},
     "output_type": "execute_result"
    }
   ],
   "source": [
    "# группируем по числу детей количество клиентов и количество долгов у них\n",
    "temp_list = data.groupby('children', group_keys=False).agg(\n",
    "    {'children':'count', 'debt':'sum'})\n",
    "temp_list"
   ]
  },
  {
   "cell_type": "code",
   "execution_count": 29,
   "id": "b19741b7",
   "metadata": {},
   "outputs": [
    {
     "data": {
      "text/html": [
       "<div>\n",
       "<style scoped>\n",
       "    .dataframe tbody tr th:only-of-type {\n",
       "        vertical-align: middle;\n",
       "    }\n",
       "\n",
       "    .dataframe tbody tr th {\n",
       "        vertical-align: top;\n",
       "    }\n",
       "\n",
       "    .dataframe thead th {\n",
       "        text-align: right;\n",
       "    }\n",
       "</style>\n",
       "<table border=\"1\" class=\"dataframe\">\n",
       "  <thead>\n",
       "    <tr style=\"text-align: right;\">\n",
       "      <th></th>\n",
       "      <th>num_of_clients</th>\n",
       "      <th>num_of_debts</th>\n",
       "    </tr>\n",
       "  </thead>\n",
       "  <tbody>\n",
       "    <tr>\n",
       "      <th>0</th>\n",
       "      <td>14091</td>\n",
       "      <td>1063</td>\n",
       "    </tr>\n",
       "    <tr>\n",
       "      <th>1</th>\n",
       "      <td>4808</td>\n",
       "      <td>444</td>\n",
       "    </tr>\n",
       "    <tr>\n",
       "      <th>2</th>\n",
       "      <td>2052</td>\n",
       "      <td>194</td>\n",
       "    </tr>\n",
       "    <tr>\n",
       "      <th>3</th>\n",
       "      <td>330</td>\n",
       "      <td>27</td>\n",
       "    </tr>\n",
       "    <tr>\n",
       "      <th>4</th>\n",
       "      <td>41</td>\n",
       "      <td>4</td>\n",
       "    </tr>\n",
       "    <tr>\n",
       "      <th>5</th>\n",
       "      <td>9</td>\n",
       "      <td>0</td>\n",
       "    </tr>\n",
       "  </tbody>\n",
       "</table>\n",
       "</div>"
      ],
      "text/plain": [
       "   num_of_clients  num_of_debts\n",
       "0           14091          1063\n",
       "1            4808           444\n",
       "2            2052           194\n",
       "3             330            27\n",
       "4              41             4\n",
       "5               9             0"
      ]
     },
     "execution_count": 29,
     "metadata": {},
     "output_type": "execute_result"
    }
   ],
   "source": [
    "# приводим к стандартному виду столбец индексов (=число детей) \n",
    "temp_list = temp_list.reset_index(drop=True)\n",
    "# и переименуем столбцы в соответствии с их смыслом \n",
    "temp_list = temp_list.rename(columns={'children':'num_of_clients', 'debt':'num_of_debts'})\n",
    "temp_list"
   ]
  },
  {
   "cell_type": "code",
   "execution_count": 30,
   "id": "4405e6af",
   "metadata": {
    "scrolled": true
   },
   "outputs": [],
   "source": [
    "# укрупним категории - допишем в конец таблицы строки с данными о малодетных (сумма 1 и 2 строки)\n",
    "temp_list.loc[len(temp_list)] = temp_list.loc[1] + temp_list.loc[2]\n",
    "# и многодетных (сумма 3,4,5 строк)\n",
    "temp_list.loc[len(temp_list)] = temp_list.loc[3] + temp_list.loc[4] + temp_list.loc[5]"
   ]
  },
  {
   "cell_type": "code",
   "execution_count": 31,
   "id": "6f9c1a4e",
   "metadata": {
    "scrolled": false
   },
   "outputs": [
    {
     "data": {
      "text/html": [
       "<div>\n",
       "<style scoped>\n",
       "    .dataframe tbody tr th:only-of-type {\n",
       "        vertical-align: middle;\n",
       "    }\n",
       "\n",
       "    .dataframe tbody tr th {\n",
       "        vertical-align: top;\n",
       "    }\n",
       "\n",
       "    .dataframe thead th {\n",
       "        text-align: right;\n",
       "    }\n",
       "</style>\n",
       "<table border=\"1\" class=\"dataframe\">\n",
       "  <thead>\n",
       "    <tr style=\"text-align: right;\">\n",
       "      <th></th>\n",
       "      <th>num_of_clients</th>\n",
       "      <th>num_of_debts</th>\n",
       "    </tr>\n",
       "  </thead>\n",
       "  <tbody>\n",
       "    <tr>\n",
       "      <th>0</th>\n",
       "      <td>14091</td>\n",
       "      <td>1063</td>\n",
       "    </tr>\n",
       "    <tr>\n",
       "      <th>6</th>\n",
       "      <td>6860</td>\n",
       "      <td>638</td>\n",
       "    </tr>\n",
       "    <tr>\n",
       "      <th>7</th>\n",
       "      <td>380</td>\n",
       "      <td>31</td>\n",
       "    </tr>\n",
       "    <tr>\n",
       "      <th>3</th>\n",
       "      <td>7240</td>\n",
       "      <td>669</td>\n",
       "    </tr>\n",
       "  </tbody>\n",
       "</table>\n",
       "</div>"
      ],
      "text/plain": [
       "   num_of_clients  num_of_debts\n",
       "0           14091          1063\n",
       "6            6860           638\n",
       "7             380            31\n",
       "3            7240           669"
      ]
     },
     "execution_count": 31,
     "metadata": {},
     "output_type": "execute_result"
    }
   ],
   "source": [
    "# удалим из таблицы строки, ставшие ненужными\n",
    "temp_list.drop([1, 2, 3, 4, 5], inplace=True)\n",
    "# и допишем строку с данными о всех клиентах с детьми\n",
    "temp_list.loc[len(temp_list)] = temp_list.loc[6] + temp_list.loc[7]\n",
    "temp_list"
   ]
  },
  {
   "cell_type": "code",
   "execution_count": 32,
   "id": "34adb220",
   "metadata": {
    "scrolled": false
   },
   "outputs": [
    {
     "data": {
      "text/html": [
       "<div>\n",
       "<style scoped>\n",
       "    .dataframe tbody tr th:only-of-type {\n",
       "        vertical-align: middle;\n",
       "    }\n",
       "\n",
       "    .dataframe tbody tr th {\n",
       "        vertical-align: top;\n",
       "    }\n",
       "\n",
       "    .dataframe thead th {\n",
       "        text-align: right;\n",
       "    }\n",
       "</style>\n",
       "<table border=\"1\" class=\"dataframe\">\n",
       "  <thead>\n",
       "    <tr style=\"text-align: right;\">\n",
       "      <th></th>\n",
       "      <th>num_of_clients</th>\n",
       "      <th>num_of_debts</th>\n",
       "      <th>children_id</th>\n",
       "    </tr>\n",
       "  </thead>\n",
       "  <tbody>\n",
       "    <tr>\n",
       "      <th>0</th>\n",
       "      <td>14091</td>\n",
       "      <td>1063</td>\n",
       "      <td>no_child</td>\n",
       "    </tr>\n",
       "    <tr>\n",
       "      <th>1</th>\n",
       "      <td>6860</td>\n",
       "      <td>638</td>\n",
       "      <td>one_or_two</td>\n",
       "    </tr>\n",
       "    <tr>\n",
       "      <th>2</th>\n",
       "      <td>380</td>\n",
       "      <td>31</td>\n",
       "      <td>large</td>\n",
       "    </tr>\n",
       "    <tr>\n",
       "      <th>3</th>\n",
       "      <td>7240</td>\n",
       "      <td>669</td>\n",
       "      <td>with_kids</td>\n",
       "    </tr>\n",
       "  </tbody>\n",
       "</table>\n",
       "</div>"
      ],
      "text/plain": [
       "   num_of_clients  num_of_debts children_id\n",
       "0           14091          1063    no_child\n",
       "1            6860           638  one_or_two\n",
       "2             380            31       large\n",
       "3            7240           669   with_kids"
      ]
     },
     "execution_count": 32,
     "metadata": {},
     "output_type": "execute_result"
    }
   ],
   "source": [
    "# добавим столбец с краткими именами новых категорий\n",
    "temp_list['children_id'] = ['no_child', 'one_or_two', 'large', 'with_kids']\n",
    "# обновим индексы \n",
    "temp_list = temp_list.reset_index(drop=True)\n",
    "temp_list"
   ]
  },
  {
   "cell_type": "code",
   "execution_count": 33,
   "id": "39fc6b35",
   "metadata": {},
   "outputs": [
    {
     "data": {
      "text/html": [
       "<div>\n",
       "<style scoped>\n",
       "    .dataframe tbody tr th:only-of-type {\n",
       "        vertical-align: middle;\n",
       "    }\n",
       "\n",
       "    .dataframe tbody tr th {\n",
       "        vertical-align: top;\n",
       "    }\n",
       "\n",
       "    .dataframe thead th {\n",
       "        text-align: right;\n",
       "    }\n",
       "</style>\n",
       "<table border=\"1\" class=\"dataframe\">\n",
       "  <thead>\n",
       "    <tr style=\"text-align: right;\">\n",
       "      <th></th>\n",
       "      <th>num_of_clients</th>\n",
       "      <th>num_of_debts</th>\n",
       "      <th>children_id</th>\n",
       "      <th>debt_rate</th>\n",
       "    </tr>\n",
       "  </thead>\n",
       "  <tbody>\n",
       "    <tr>\n",
       "      <th>0</th>\n",
       "      <td>14091</td>\n",
       "      <td>1063</td>\n",
       "      <td>no_child</td>\n",
       "      <td>0.075438</td>\n",
       "    </tr>\n",
       "    <tr>\n",
       "      <th>1</th>\n",
       "      <td>6860</td>\n",
       "      <td>638</td>\n",
       "      <td>one_or_two</td>\n",
       "      <td>0.093003</td>\n",
       "    </tr>\n",
       "    <tr>\n",
       "      <th>2</th>\n",
       "      <td>380</td>\n",
       "      <td>31</td>\n",
       "      <td>large</td>\n",
       "      <td>0.081579</td>\n",
       "    </tr>\n",
       "    <tr>\n",
       "      <th>3</th>\n",
       "      <td>7240</td>\n",
       "      <td>669</td>\n",
       "      <td>with_kids</td>\n",
       "      <td>0.092403</td>\n",
       "    </tr>\n",
       "  </tbody>\n",
       "</table>\n",
       "</div>"
      ],
      "text/plain": [
       "   num_of_clients  num_of_debts children_id  debt_rate\n",
       "0           14091          1063    no_child   0.075438\n",
       "1            6860           638  one_or_two   0.093003\n",
       "2             380            31       large   0.081579\n",
       "3            7240           669   with_kids   0.092403"
      ]
     },
     "execution_count": 33,
     "metadata": {},
     "output_type": "execute_result"
    }
   ],
   "source": [
    "# добавим столбец со значениями долей должников по категориям\n",
    "temp_list['debt_rate'] = temp_list['num_of_debts'] / temp_list['num_of_clients']\n",
    "temp_list"
   ]
  },
  {
   "cell_type": "markdown",
   "id": "4c6b3b5c",
   "metadata": {},
   "source": [
    "Выводы, сделанные выше, подтверждаются и для новых укрупненных категорий. Посмотрим, на сколько процентов  клиенты с детьми \"менее надежны\":"
   ]
  },
  {
   "cell_type": "code",
   "execution_count": 34,
   "id": "a8d09639",
   "metadata": {
    "scrolled": true
   },
   "outputs": [
    {
     "name": "stderr",
     "output_type": "stream",
     "text": [
      "C:\\Users\\kuche\\AppData\\Local\\Temp\\ipykernel_31180\\534985330.py:5: FutureWarning: Setting an item of incompatible dtype is deprecated and will raise an error in a future version of pandas. Value '0.2328354483844337' has dtype incompatible with int64, please explicitly cast to a compatible dtype first.\n",
      "  temp_list.loc[i, 'relat_to_no_child_dif_rate'] = \\\n"
     ]
    },
    {
     "data": {
      "text/html": [
       "<div>\n",
       "<style scoped>\n",
       "    .dataframe tbody tr th:only-of-type {\n",
       "        vertical-align: middle;\n",
       "    }\n",
       "\n",
       "    .dataframe tbody tr th {\n",
       "        vertical-align: top;\n",
       "    }\n",
       "\n",
       "    .dataframe thead th {\n",
       "        text-align: right;\n",
       "    }\n",
       "</style>\n",
       "<table border=\"1\" class=\"dataframe\">\n",
       "  <thead>\n",
       "    <tr style=\"text-align: right;\">\n",
       "      <th></th>\n",
       "      <th>num_of_clients</th>\n",
       "      <th>num_of_debts</th>\n",
       "      <th>children_id</th>\n",
       "      <th>debt_rate</th>\n",
       "      <th>relat_to_no_child_dif_rate</th>\n",
       "    </tr>\n",
       "  </thead>\n",
       "  <tbody>\n",
       "    <tr>\n",
       "      <th>0</th>\n",
       "      <td>14091</td>\n",
       "      <td>1063</td>\n",
       "      <td>no_child</td>\n",
       "      <td>0.075438</td>\n",
       "      <td>0.000000</td>\n",
       "    </tr>\n",
       "    <tr>\n",
       "      <th>1</th>\n",
       "      <td>6860</td>\n",
       "      <td>638</td>\n",
       "      <td>one_or_two</td>\n",
       "      <td>0.093003</td>\n",
       "      <td>0.232835</td>\n",
       "    </tr>\n",
       "    <tr>\n",
       "      <th>2</th>\n",
       "      <td>380</td>\n",
       "      <td>31</td>\n",
       "      <td>large</td>\n",
       "      <td>0.081579</td>\n",
       "      <td>0.081401</td>\n",
       "    </tr>\n",
       "    <tr>\n",
       "      <th>3</th>\n",
       "      <td>7240</td>\n",
       "      <td>669</td>\n",
       "      <td>with_kids</td>\n",
       "      <td>0.092403</td>\n",
       "      <td>0.224887</td>\n",
       "    </tr>\n",
       "  </tbody>\n",
       "</table>\n",
       "</div>"
      ],
      "text/plain": [
       "   num_of_clients  num_of_debts children_id  debt_rate  \\\n",
       "0           14091          1063    no_child   0.075438   \n",
       "1            6860           638  one_or_two   0.093003   \n",
       "2             380            31       large   0.081579   \n",
       "3            7240           669   with_kids   0.092403   \n",
       "\n",
       "   relat_to_no_child_dif_rate  \n",
       "0                    0.000000  \n",
       "1                    0.232835  \n",
       "2                    0.081401  \n",
       "3                    0.224887  "
      ]
     },
     "execution_count": 34,
     "metadata": {},
     "output_type": "execute_result"
    }
   ],
   "source": [
    "# в новый столбец запишем для всех категорий относительное отклонение\n",
    "# доли невозврата по сравнению с бездетными клиентами \n",
    "temp_list['relat_to_no_child_dif_rate'] = 0\n",
    "for i in [1, 2, 3]:\n",
    "    temp_list.loc[i, 'relat_to_no_child_dif_rate'] = \\\n",
    "    temp_list.loc[i, 'debt_rate'] / temp_list.loc[0, 'debt_rate'] - 1\n",
    "temp_list"
   ]
  },
  {
   "cell_type": "markdown",
   "id": "8641da26",
   "metadata": {},
   "source": [
    "**Вывод.** По сравнению с бездетными, клиенты с детьми на 22,5% чаще не возвращают кредит в срок (точнее - малодетные на 23,3% чаще, многодетные - на 8,1% чаще)."
   ]
  },
  {
   "cell_type": "markdown",
   "id": "524986f2",
   "metadata": {},
   "source": [
    "Построим еще столбчатые диаграммы для числа клиентов и числа должников среди них:"
   ]
  },
  {
   "cell_type": "code",
   "execution_count": 35,
   "id": "2ecf6eff",
   "metadata": {
    "scrolled": true
   },
   "outputs": [
    {
     "data": {
      "image/png": "[encoded data removed]",
      "text/plain": [
       "<Figure size 640x480 with 1 Axes>"
      ]
     },
     "metadata": {},
     "output_type": "display_data"
    }
   ],
   "source": [
    "plt.bar(temp_list['children_id'], temp_list['num_of_clients'])\n",
    "plt.bar(temp_list['children_id'], temp_list['num_of_debts'])\n",
    "plt.show()"
   ]
  },
  {
   "cell_type": "markdown",
   "id": "24aabd04",
   "metadata": {
    "id": "3a6b99ec"
   },
   "source": [
    "**Вывод:** Зависимость между количеством детей и возвратом кредита в срок есть.\n",
    "\n",
    "А именно, 7,5% бездетных клиентов не возвращают кредит в срок и 9,2% клиентов с детьми не возвращают кредит в срок, что на 22,5% чаще (точнее - малодетные на 23,3% чаще, многодетные - на 8,1% чаще). Вероятно, клиенты с детьми несут больше расходов по сравнению с бездетными, что чаще приводит к просрочкам по кредиту. При этом многодетные более платежеспособны по сравнению с малодетными, что может быть связано с дополнительной поддержкой, которую они получают от государства. \n",
    "\n",
    "Однако частотная диаграмма ясно показывает, что процент должников относительно невелик (менее 10%) во всех категориях клиентов, при этом общее число многодетных даже меньше, чем число должников среди бездетных или малодетных. Результат требует дальнейшей проверки на статистическую значимость (в рамках данного экспресс-исследования - неактуально)"
   ]
  },
  {
   "cell_type": "markdown",
   "id": "3fb9caa5",
   "metadata": {
    "id": "97be82ca"
   },
   "source": [
    "### Влияние семейного положения на возврат кредита"
   ]
  },
  {
   "cell_type": "code",
   "execution_count": 36,
   "id": "6aba8755",
   "metadata": {
    "id": "dc3f7ee8"
   },
   "outputs": [
    {
     "data": {
      "text/plain": [
       "family_status          debt\n",
       "Не женат / не замужем  1       0.097639\n",
       "                       0       0.902361\n",
       "в разводе              1       0.070648\n",
       "                       0       0.929352\n",
       "вдовец / вдова         1       0.066246\n",
       "                       0       0.933754\n",
       "гражданский брак       1       0.093130\n",
       "                       0       0.906870\n",
       "женат / замужем        1       0.075606\n",
       "                       0       0.924394\n",
       "Name: proportion, dtype: float64"
      ]
     },
     "execution_count": 36,
     "metadata": {},
     "output_type": "execute_result"
    }
   ],
   "source": [
    "# как и в предыдущем пункте, оценим доли должников среди клиентов с разным семейным статусом \n",
    "data.groupby('family_status')['debt'].value_counts(normalize=True, ascending=True)\n"
   ]
  },
  {
   "cell_type": "markdown",
   "id": "1aa00ed7",
   "metadata": {},
   "source": [
    "**Вывод:** среди клиентов, не находящихся в официальном браке (*Не женат / не замужем / гражданский брак*) процент должников выше и составляет 9,3-9,8%, тогда как у остальных категорий процент должников 7-7,5%. \n",
    "\n",
    "Проверим факторы, которые могут влиять на невозвращение кредита в срок у клиентов, не находящихся в официальном браке: \n",
    "- более молодой возраст; \n",
    "- более низкий доход; \n",
    "- наличие детей, которых растят в одиночку; \n",
    "- пол (предположим, женщины не в браке чаще становятся должниками).\n",
    "\n",
    "(Эти гипотезы также требуют проверки статистической значимости, что выходит за рамки экспресс-исследования)"
   ]
  },
  {
   "cell_type": "code",
   "execution_count": 37,
   "id": "3c82466f",
   "metadata": {
    "scrolled": false
   },
   "outputs": [
    {
     "data": {
      "text/html": [
       "<div>\n",
       "<style scoped>\n",
       "    .dataframe tbody tr th:only-of-type {\n",
       "        vertical-align: middle;\n",
       "    }\n",
       "\n",
       "    .dataframe tbody tr th {\n",
       "        vertical-align: top;\n",
       "    }\n",
       "\n",
       "    .dataframe thead th {\n",
       "        text-align: right;\n",
       "    }\n",
       "</style>\n",
       "<table border=\"1\" class=\"dataframe\">\n",
       "  <thead>\n",
       "    <tr style=\"text-align: right;\">\n",
       "      <th></th>\n",
       "      <th></th>\n",
       "      <th>dob_years</th>\n",
       "      <th>total_income</th>\n",
       "    </tr>\n",
       "    <tr>\n",
       "      <th>family_status</th>\n",
       "      <th>debt</th>\n",
       "      <th></th>\n",
       "      <th></th>\n",
       "    </tr>\n",
       "  </thead>\n",
       "  <tbody>\n",
       "    <tr>\n",
       "      <th rowspan=\"2\" valign=\"top\">Не женат / не замужем</th>\n",
       "      <th>0</th>\n",
       "      <td>36.0</td>\n",
       "      <td>142594.396847</td>\n",
       "    </tr>\n",
       "    <tr>\n",
       "      <th>1</th>\n",
       "      <td>32.0</td>\n",
       "      <td>147013.142600</td>\n",
       "    </tr>\n",
       "    <tr>\n",
       "      <th rowspan=\"2\" valign=\"top\">в разводе</th>\n",
       "      <th>0</th>\n",
       "      <td>46.0</td>\n",
       "      <td>144546.428029</td>\n",
       "    </tr>\n",
       "    <tr>\n",
       "      <th>1</th>\n",
       "      <td>44.0</td>\n",
       "      <td>142560.820817</td>\n",
       "    </tr>\n",
       "    <tr>\n",
       "      <th rowspan=\"2\" valign=\"top\">вдовец / вдова</th>\n",
       "      <th>0</th>\n",
       "      <td>58.0</td>\n",
       "      <td>126507.323063</td>\n",
       "    </tr>\n",
       "    <tr>\n",
       "      <th>1</th>\n",
       "      <td>57.0</td>\n",
       "      <td>140683.362762</td>\n",
       "    </tr>\n",
       "    <tr>\n",
       "      <th rowspan=\"2\" valign=\"top\">гражданский брак</th>\n",
       "      <th>0</th>\n",
       "      <td>41.0</td>\n",
       "      <td>142594.396847</td>\n",
       "    </tr>\n",
       "    <tr>\n",
       "      <th>1</th>\n",
       "      <td>38.0</td>\n",
       "      <td>142594.396847</td>\n",
       "    </tr>\n",
       "    <tr>\n",
       "      <th rowspan=\"2\" valign=\"top\">женат / замужем</th>\n",
       "      <th>0</th>\n",
       "      <td>43.0</td>\n",
       "      <td>143296.091502</td>\n",
       "    </tr>\n",
       "    <tr>\n",
       "      <th>1</th>\n",
       "      <td>39.0</td>\n",
       "      <td>142594.396847</td>\n",
       "    </tr>\n",
       "  </tbody>\n",
       "</table>\n",
       "</div>"
      ],
      "text/plain": [
       "                            dob_years   total_income\n",
       "family_status         debt                          \n",
       "Не женат / не замужем 0          36.0  142594.396847\n",
       "                      1          32.0  147013.142600\n",
       "в разводе             0          46.0  144546.428029\n",
       "                      1          44.0  142560.820817\n",
       "вдовец / вдова        0          58.0  126507.323063\n",
       "                      1          57.0  140683.362762\n",
       "гражданский брак      0          41.0  142594.396847\n",
       "                      1          38.0  142594.396847\n",
       "женат / замужем       0          43.0  143296.091502\n",
       "                      1          39.0  142594.396847"
      ]
     },
     "execution_count": 37,
     "metadata": {},
     "output_type": "execute_result"
    }
   ],
   "source": [
    "data.groupby(['family_status', 'debt'])[['dob_years', 'total_income']].agg('median')"
   ]
  },
  {
   "cell_type": "markdown",
   "id": "56b5abce",
   "metadata": {},
   "source": [
    "Как видим, у не состоящих в официальном браке и имеющих просрочки по платежам медианный возраст (32 года) действительно значительно ниже, чем у всех остальных категорий. При этом медианный доход у таких клиентов, наоборот, выше, чем у остальных. \n",
    "\n",
    "Учитывая обнаруженный выше больший процент должников среди данной категории, можно предполагать, что более высокий ежемесячный доход у них получился как раз за счет большего числа взятых кредитов.   \n",
    "\n",
    "При этом тенденция \"меньше возраст - есть просрчки по кредитам\" наблюдается у всех категорий."
   ]
  },
  {
   "cell_type": "code",
   "execution_count": 38,
   "id": "2f4a8519",
   "metadata": {},
   "outputs": [
    {
     "name": "stdout",
     "output_type": "stream",
     "text": [
      "21331\n"
     ]
    },
    {
     "data": {
      "text/html": [
       "<div>\n",
       "<style scoped>\n",
       "    .dataframe tbody tr th:only-of-type {\n",
       "        vertical-align: middle;\n",
       "    }\n",
       "\n",
       "    .dataframe tbody tr th {\n",
       "        vertical-align: top;\n",
       "    }\n",
       "\n",
       "    .dataframe thead th {\n",
       "        text-align: right;\n",
       "    }\n",
       "</style>\n",
       "<table border=\"1\" class=\"dataframe\">\n",
       "  <thead>\n",
       "    <tr style=\"text-align: right;\">\n",
       "      <th></th>\n",
       "      <th>family_status</th>\n",
       "      <th>count</th>\n",
       "    </tr>\n",
       "  </thead>\n",
       "  <tbody>\n",
       "    <tr>\n",
       "      <th>0</th>\n",
       "      <td>женат / замужем</td>\n",
       "      <td>12261</td>\n",
       "    </tr>\n",
       "    <tr>\n",
       "      <th>1</th>\n",
       "      <td>гражданский брак</td>\n",
       "      <td>4134</td>\n",
       "    </tr>\n",
       "    <tr>\n",
       "      <th>2</th>\n",
       "      <td>Не женат / не замужем</td>\n",
       "      <td>2796</td>\n",
       "    </tr>\n",
       "    <tr>\n",
       "      <th>3</th>\n",
       "      <td>в разводе</td>\n",
       "      <td>1189</td>\n",
       "    </tr>\n",
       "    <tr>\n",
       "      <th>4</th>\n",
       "      <td>вдовец / вдова</td>\n",
       "      <td>951</td>\n",
       "    </tr>\n",
       "  </tbody>\n",
       "</table>\n",
       "</div>"
      ],
      "text/plain": [
       "           family_status  count\n",
       "0        женат / замужем  12261\n",
       "1       гражданский брак   4134\n",
       "2  Не женат / не замужем   2796\n",
       "3              в разводе   1189\n",
       "4         вдовец / вдова    951"
      ]
     },
     "execution_count": 38,
     "metadata": {},
     "output_type": "execute_result"
    }
   ],
   "source": [
    "# таблица с частотами семейного статуса\n",
    "df_fam_stat = data['family_status'].value_counts().reset_index()\n",
    "df_fam_stat = df_fam_stat.rename(columns={'num_of_clients':'family_status'})\n",
    "# общее число клиентов\n",
    "n = df_fam_stat['count'].sum()\n",
    "print(n)\n",
    "df_fam_stat"
   ]
  },
  {
   "cell_type": "code",
   "execution_count": 39,
   "id": "3db2c48c",
   "metadata": {},
   "outputs": [
    {
     "data": {
      "text/html": [
       "<div>\n",
       "<style scoped>\n",
       "    .dataframe tbody tr th:only-of-type {\n",
       "        vertical-align: middle;\n",
       "    }\n",
       "\n",
       "    .dataframe tbody tr th {\n",
       "        vertical-align: top;\n",
       "    }\n",
       "\n",
       "    .dataframe thead th {\n",
       "        text-align: right;\n",
       "    }\n",
       "</style>\n",
       "<table border=\"1\" class=\"dataframe\">\n",
       "  <thead>\n",
       "    <tr style=\"text-align: right;\">\n",
       "      <th></th>\n",
       "      <th>family_status</th>\n",
       "      <th>debt</th>\n",
       "      <th>with_kids</th>\n",
       "      <th>substatus_count</th>\n",
       "      <th>count</th>\n",
       "      <th>substatus_rate</th>\n",
       "      <th>total_rate</th>\n",
       "    </tr>\n",
       "  </thead>\n",
       "  <tbody>\n",
       "    <tr>\n",
       "      <th>2</th>\n",
       "      <td>Не женат / не замужем</td>\n",
       "      <td>1</td>\n",
       "      <td>0</td>\n",
       "      <td>210</td>\n",
       "      <td>2796</td>\n",
       "      <td>0.075107</td>\n",
       "      <td>0.009845</td>\n",
       "    </tr>\n",
       "    <tr>\n",
       "      <th>3</th>\n",
       "      <td>Не женат / не замужем</td>\n",
       "      <td>1</td>\n",
       "      <td>1</td>\n",
       "      <td>63</td>\n",
       "      <td>2796</td>\n",
       "      <td>0.022532</td>\n",
       "      <td>0.002953</td>\n",
       "    </tr>\n",
       "    <tr>\n",
       "      <th>6</th>\n",
       "      <td>в разводе</td>\n",
       "      <td>1</td>\n",
       "      <td>0</td>\n",
       "      <td>55</td>\n",
       "      <td>1189</td>\n",
       "      <td>0.046257</td>\n",
       "      <td>0.002578</td>\n",
       "    </tr>\n",
       "    <tr>\n",
       "      <th>7</th>\n",
       "      <td>в разводе</td>\n",
       "      <td>1</td>\n",
       "      <td>1</td>\n",
       "      <td>29</td>\n",
       "      <td>1189</td>\n",
       "      <td>0.024390</td>\n",
       "      <td>0.001360</td>\n",
       "    </tr>\n",
       "    <tr>\n",
       "      <th>10</th>\n",
       "      <td>вдовец / вдова</td>\n",
       "      <td>1</td>\n",
       "      <td>0</td>\n",
       "      <td>53</td>\n",
       "      <td>951</td>\n",
       "      <td>0.055731</td>\n",
       "      <td>0.002485</td>\n",
       "    </tr>\n",
       "    <tr>\n",
       "      <th>11</th>\n",
       "      <td>вдовец / вдова</td>\n",
       "      <td>1</td>\n",
       "      <td>1</td>\n",
       "      <td>10</td>\n",
       "      <td>951</td>\n",
       "      <td>0.010515</td>\n",
       "      <td>0.000469</td>\n",
       "    </tr>\n",
       "    <tr>\n",
       "      <th>14</th>\n",
       "      <td>гражданский брак</td>\n",
       "      <td>1</td>\n",
       "      <td>0</td>\n",
       "      <td>229</td>\n",
       "      <td>4134</td>\n",
       "      <td>0.055394</td>\n",
       "      <td>0.010736</td>\n",
       "    </tr>\n",
       "    <tr>\n",
       "      <th>15</th>\n",
       "      <td>гражданский брак</td>\n",
       "      <td>1</td>\n",
       "      <td>1</td>\n",
       "      <td>156</td>\n",
       "      <td>4134</td>\n",
       "      <td>0.037736</td>\n",
       "      <td>0.007313</td>\n",
       "    </tr>\n",
       "    <tr>\n",
       "      <th>18</th>\n",
       "      <td>женат / замужем</td>\n",
       "      <td>1</td>\n",
       "      <td>0</td>\n",
       "      <td>516</td>\n",
       "      <td>12261</td>\n",
       "      <td>0.042085</td>\n",
       "      <td>0.024190</td>\n",
       "    </tr>\n",
       "    <tr>\n",
       "      <th>19</th>\n",
       "      <td>женат / замужем</td>\n",
       "      <td>1</td>\n",
       "      <td>1</td>\n",
       "      <td>411</td>\n",
       "      <td>12261</td>\n",
       "      <td>0.033521</td>\n",
       "      <td>0.019268</td>\n",
       "    </tr>\n",
       "  </tbody>\n",
       "</table>\n",
       "</div>"
      ],
      "text/plain": [
       "            family_status  debt  with_kids  substatus_count  count  \\\n",
       "2   Не женат / не замужем     1          0              210   2796   \n",
       "3   Не женат / не замужем     1          1               63   2796   \n",
       "6               в разводе     1          0               55   1189   \n",
       "7               в разводе     1          1               29   1189   \n",
       "10         вдовец / вдова     1          0               53    951   \n",
       "11         вдовец / вдова     1          1               10    951   \n",
       "14       гражданский брак     1          0              229   4134   \n",
       "15       гражданский брак     1          1              156   4134   \n",
       "18        женат / замужем     1          0              516  12261   \n",
       "19        женат / замужем     1          1              411  12261   \n",
       "\n",
       "    substatus_rate  total_rate  \n",
       "2         0.075107    0.009845  \n",
       "3         0.022532    0.002953  \n",
       "6         0.046257    0.002578  \n",
       "7         0.024390    0.001360  \n",
       "10        0.055731    0.002485  \n",
       "11        0.010515    0.000469  \n",
       "14        0.055394    0.010736  \n",
       "15        0.037736    0.007313  \n",
       "18        0.042085    0.024190  \n",
       "19        0.033521    0.019268  "
      ]
     },
     "execution_count": 39,
     "metadata": {},
     "output_type": "execute_result"
    }
   ],
   "source": [
    "# функция нужна для отнесения к категории \"нет детей\"\n",
    "def iszero(x):\n",
    "    if x == 0:\n",
    "        return 0\n",
    "    else:\n",
    "        return 1\n",
    "    \n",
    "# создание столбца с 0 или 1 в зависимости от наличия детей\n",
    "data['with_kids'] = data['children'].apply(iszero)\n",
    "# определение частот данного подстатуса\n",
    "df1 = data.groupby(['family_status', 'debt'])['with_kids'].agg(substatus_count='value_counts').reset_index()\n",
    "# присоединение таблицы с частотами семейного статуса                                                  \n",
    "df1 = df1.merge(df_fam_stat)\n",
    "# вычисление долей подстатусов внутри статуса\n",
    "df1['substatus_rate'] = df1['substatus_count'] / df1['count']\n",
    "# вычисление долей подстатусов относительно всего датасета\n",
    "df1['total_rate'] = df1['substatus_count'] / n\n",
    "# вывод части полученной таблицы с данными только о клиентах-должниках\n",
    "df1[df1['debt'] == 1]"
   ]
  },
  {
   "cell_type": "markdown",
   "id": "f274d7ad",
   "metadata": {},
   "source": [
    "Видно, что бездетные клиенты среди не состоящих в браке имеют более высокие относительные частоты (substatus_rate) 7,5% и 5,5%, что можно интерпретировать как более высокий персональный  риск для данной категории. \n",
    "\n",
    "Полученные данные также позволяют оценить значимость всех категорий для банка (параметр total_rate). Состоящих в официальном браке клиентов с долгами в целом больше."
   ]
  },
  {
   "cell_type": "code",
   "execution_count": 40,
   "id": "d7b434f1",
   "metadata": {},
   "outputs": [
    {
     "data": {
      "text/plain": [
       "array(['F', 'M', 'XNA'], dtype=object)"
      ]
     },
     "execution_count": 40,
     "metadata": {},
     "output_type": "execute_result"
    }
   ],
   "source": [
    "# проверка данных о поле клиентов\n",
    "data['gender'].unique()"
   ]
  },
  {
   "cell_type": "code",
   "execution_count": 41,
   "id": "c65b95db",
   "metadata": {
    "scrolled": true
   },
   "outputs": [
    {
     "data": {
      "text/html": [
       "<div>\n",
       "<style scoped>\n",
       "    .dataframe tbody tr th:only-of-type {\n",
       "        vertical-align: middle;\n",
       "    }\n",
       "\n",
       "    .dataframe tbody tr th {\n",
       "        vertical-align: top;\n",
       "    }\n",
       "\n",
       "    .dataframe thead th {\n",
       "        text-align: right;\n",
       "    }\n",
       "</style>\n",
       "<table border=\"1\" class=\"dataframe\">\n",
       "  <thead>\n",
       "    <tr style=\"text-align: right;\">\n",
       "      <th></th>\n",
       "      <th>children</th>\n",
       "      <th>days_employed</th>\n",
       "      <th>dob_years</th>\n",
       "      <th>education</th>\n",
       "      <th>education_id</th>\n",
       "      <th>family_status</th>\n",
       "      <th>family_status_id</th>\n",
       "      <th>gender</th>\n",
       "      <th>income_type</th>\n",
       "      <th>debt</th>\n",
       "      <th>total_income</th>\n",
       "      <th>purpose</th>\n",
       "      <th>total_income_category</th>\n",
       "      <th>purpose_category</th>\n",
       "      <th>with_kids</th>\n",
       "    </tr>\n",
       "  </thead>\n",
       "  <tbody>\n",
       "    <tr>\n",
       "      <th>10701</th>\n",
       "      <td>0</td>\n",
       "      <td>2358.600502</td>\n",
       "      <td>24</td>\n",
       "      <td>неоконченное высшее</td>\n",
       "      <td>2</td>\n",
       "      <td>гражданский брак</td>\n",
       "      <td>1</td>\n",
       "      <td>XNA</td>\n",
       "      <td>компаньон</td>\n",
       "      <td>0</td>\n",
       "      <td>203905.157261</td>\n",
       "      <td>покупка недвижимости</td>\n",
       "      <td>B</td>\n",
       "      <td>операции с недвижимостью</td>\n",
       "      <td>0</td>\n",
       "    </tr>\n",
       "  </tbody>\n",
       "</table>\n",
       "</div>"
      ],
      "text/plain": [
       "       children  days_employed  dob_years            education  education_id  \\\n",
       "10701         0    2358.600502         24  неоконченное высшее             2   \n",
       "\n",
       "          family_status  family_status_id gender income_type  debt  \\\n",
       "10701  гражданский брак                 1    XNA   компаньон     0   \n",
       "\n",
       "        total_income               purpose total_income_category  \\\n",
       "10701  203905.157261  покупка недвижимости                     B   \n",
       "\n",
       "               purpose_category  with_kids  \n",
       "10701  операции с недвижимостью          0  "
      ]
     },
     "execution_count": 41,
     "metadata": {},
     "output_type": "execute_result"
    }
   ],
   "source": [
    "data[data['gender'] == 'XNA']"
   ]
  },
  {
   "cell_type": "code",
   "execution_count": 42,
   "id": "15360ec8",
   "metadata": {},
   "outputs": [
    {
     "data": {
      "text/plain": [
       "array(['F', 'M'], dtype=object)"
      ]
     },
     "execution_count": 42,
     "metadata": {},
     "output_type": "execute_result"
    }
   ],
   "source": [
    "# удаление строки с аномальным значением\n",
    "data.drop([10701], inplace=True)\n",
    "data['gender'].unique()"
   ]
  },
  {
   "cell_type": "code",
   "execution_count": 43,
   "id": "d90357ce",
   "metadata": {},
   "outputs": [
    {
     "data": {
      "text/html": [
       "<div>\n",
       "<style scoped>\n",
       "    .dataframe tbody tr th:only-of-type {\n",
       "        vertical-align: middle;\n",
       "    }\n",
       "\n",
       "    .dataframe tbody tr th {\n",
       "        vertical-align: top;\n",
       "    }\n",
       "\n",
       "    .dataframe thead th {\n",
       "        text-align: right;\n",
       "    }\n",
       "</style>\n",
       "<table border=\"1\" class=\"dataframe\">\n",
       "  <thead>\n",
       "    <tr style=\"text-align: right;\">\n",
       "      <th></th>\n",
       "      <th>family_status</th>\n",
       "      <th>debt</th>\n",
       "      <th>gender</th>\n",
       "      <th>gender_count</th>\n",
       "      <th>count</th>\n",
       "      <th>gender_rate</th>\n",
       "      <th>total_rate</th>\n",
       "    </tr>\n",
       "  </thead>\n",
       "  <tbody>\n",
       "    <tr>\n",
       "      <th>3</th>\n",
       "      <td>Не женат / не замужем</td>\n",
       "      <td>1</td>\n",
       "      <td>F</td>\n",
       "      <td>118</td>\n",
       "      <td>2796</td>\n",
       "      <td>0.042203</td>\n",
       "      <td>0.005532</td>\n",
       "    </tr>\n",
       "    <tr>\n",
       "      <th>6</th>\n",
       "      <td>в разводе</td>\n",
       "      <td>1</td>\n",
       "      <td>F</td>\n",
       "      <td>61</td>\n",
       "      <td>1189</td>\n",
       "      <td>0.051304</td>\n",
       "      <td>0.002860</td>\n",
       "    </tr>\n",
       "    <tr>\n",
       "      <th>10</th>\n",
       "      <td>вдовец / вдова</td>\n",
       "      <td>1</td>\n",
       "      <td>F</td>\n",
       "      <td>52</td>\n",
       "      <td>951</td>\n",
       "      <td>0.054679</td>\n",
       "      <td>0.002438</td>\n",
       "    </tr>\n",
       "    <tr>\n",
       "      <th>14</th>\n",
       "      <td>гражданский брак</td>\n",
       "      <td>1</td>\n",
       "      <td>F</td>\n",
       "      <td>232</td>\n",
       "      <td>4134</td>\n",
       "      <td>0.056120</td>\n",
       "      <td>0.010877</td>\n",
       "    </tr>\n",
       "    <tr>\n",
       "      <th>18</th>\n",
       "      <td>женат / замужем</td>\n",
       "      <td>1</td>\n",
       "      <td>F</td>\n",
       "      <td>526</td>\n",
       "      <td>12261</td>\n",
       "      <td>0.042900</td>\n",
       "      <td>0.024660</td>\n",
       "    </tr>\n",
       "  </tbody>\n",
       "</table>\n",
       "</div>"
      ],
      "text/plain": [
       "            family_status  debt gender  gender_count  count  gender_rate  \\\n",
       "3   Не женат / не замужем     1      F           118   2796     0.042203   \n",
       "6               в разводе     1      F            61   1189     0.051304   \n",
       "10         вдовец / вдова     1      F            52    951     0.054679   \n",
       "14       гражданский брак     1      F           232   4134     0.056120   \n",
       "18        женат / замужем     1      F           526  12261     0.042900   \n",
       "\n",
       "    total_rate  \n",
       "3     0.005532  \n",
       "6     0.002860  \n",
       "10    0.002438  \n",
       "14    0.010877  \n",
       "18    0.024660  "
      ]
     },
     "execution_count": 43,
     "metadata": {},
     "output_type": "execute_result"
    }
   ],
   "source": [
    "# создание таблицы с данными о распределении долгов по семейному статусу и половой принадлежности\n",
    "df2 = data.groupby(['family_status', 'debt'])['gender'].agg(gender_count='value_counts').reset_index()\n",
    "# присоединение таблицы с частотами семейного статуса                                                  \n",
    "df2 = df2.merge(df_fam_stat)\n",
    "# вычисление долей лиц обоего пола внутри каждого семейного статуса\n",
    "df2['gender_rate'] = df2['gender_count'] / df2['count']\n",
    "# вычисление долей лиц обоего пола относительно всего датасета \n",
    "df2['total_rate'] = df2['gender_count'] / (n - 1)\n",
    "# вывод части получой таблицы с данными только о клиентах-должниках-женщинах\n",
    "df2[(df2['debt'] == 1) & (df2['gender'] == 'F')]"
   ]
  },
  {
   "cell_type": "markdown",
   "id": "ea768de6",
   "metadata": {},
   "source": [
    "Видно, что семейный статус женщин не оказывает заметного влияния на невозврат кредита в срок. При этом число замужних или живущих в гражданском браке женщин-должников среди клиентов банка выше."
   ]
  },
  {
   "cell_type": "markdown",
   "id": "81c9c56f",
   "metadata": {
    "id": "1cef7837"
   },
   "source": [
    "**Вывод:** Зависимость между семейным положением и возвратом кредита в срок есть.\n",
    "\n",
    "А именно, среди клиентов, не находящихся в официальном браке (*Не женат / не замужем / гражданский брак*) процент должников выше и составляет 9,3-9,8%, тогда как у остальных категорий процент должников 7-7,5%.\n",
    "\n",
    "Факторы, которые могут быть связаны с невозвращением кредита в срок у клиентов, не находящихся в официальном браке: более молодой  возраст (младше 32 лет), большее количество кредитов, отсутствие детей.\n",
    "\n",
    "(Как и в предыдущем пункте, вывод также требует проверки статистической значимости)."
   ]
  },
  {
   "cell_type": "markdown",
   "id": "227adea0",
   "metadata": {
    "id": "1e8b2fca"
   },
   "source": [
    "### Уровень дохода и возврат кредита в срок"
   ]
  },
  {
   "cell_type": "markdown",
   "id": "0558e3ab",
   "metadata": {},
   "source": [
    "В этом и следующем пунктах ограничимся наиболее кратким анализом"
   ]
  },
  {
   "cell_type": "code",
   "execution_count": 44,
   "id": "44f45a50",
   "metadata": {
    "id": "cd7e3720",
    "scrolled": true
   },
   "outputs": [
    {
     "data": {
      "text/html": [
       "<div>\n",
       "<style scoped>\n",
       "    .dataframe tbody tr th:only-of-type {\n",
       "        vertical-align: middle;\n",
       "    }\n",
       "\n",
       "    .dataframe tbody tr th {\n",
       "        vertical-align: top;\n",
       "    }\n",
       "\n",
       "    .dataframe thead th {\n",
       "        text-align: right;\n",
       "    }\n",
       "</style>\n",
       "<table border=\"1\" class=\"dataframe\">\n",
       "  <thead>\n",
       "    <tr style=\"text-align: right;\">\n",
       "      <th></th>\n",
       "      <th>total_income_category</th>\n",
       "      <th>debt</th>\n",
       "      <th>num_of_clients</th>\n",
       "    </tr>\n",
       "  </thead>\n",
       "  <tbody>\n",
       "    <tr>\n",
       "      <th>0</th>\n",
       "      <td>A</td>\n",
       "      <td>0</td>\n",
       "      <td>23</td>\n",
       "    </tr>\n",
       "    <tr>\n",
       "      <th>1</th>\n",
       "      <td>A</td>\n",
       "      <td>1</td>\n",
       "      <td>2</td>\n",
       "    </tr>\n",
       "    <tr>\n",
       "      <th>2</th>\n",
       "      <td>B</td>\n",
       "      <td>0</td>\n",
       "      <td>4659</td>\n",
       "    </tr>\n",
       "    <tr>\n",
       "      <th>3</th>\n",
       "      <td>B</td>\n",
       "      <td>1</td>\n",
       "      <td>354</td>\n",
       "    </tr>\n",
       "    <tr>\n",
       "      <th>4</th>\n",
       "      <td>C</td>\n",
       "      <td>0</td>\n",
       "      <td>14568</td>\n",
       "    </tr>\n",
       "    <tr>\n",
       "      <th>5</th>\n",
       "      <td>C</td>\n",
       "      <td>1</td>\n",
       "      <td>1353</td>\n",
       "    </tr>\n",
       "    <tr>\n",
       "      <th>6</th>\n",
       "      <td>D</td>\n",
       "      <td>0</td>\n",
       "      <td>328</td>\n",
       "    </tr>\n",
       "    <tr>\n",
       "      <th>7</th>\n",
       "      <td>D</td>\n",
       "      <td>1</td>\n",
       "      <td>21</td>\n",
       "    </tr>\n",
       "    <tr>\n",
       "      <th>8</th>\n",
       "      <td>E</td>\n",
       "      <td>0</td>\n",
       "      <td>20</td>\n",
       "    </tr>\n",
       "    <tr>\n",
       "      <th>9</th>\n",
       "      <td>E</td>\n",
       "      <td>1</td>\n",
       "      <td>2</td>\n",
       "    </tr>\n",
       "  </tbody>\n",
       "</table>\n",
       "</div>"
      ],
      "text/plain": [
       "  total_income_category  debt  num_of_clients\n",
       "0                     A     0              23\n",
       "1                     A     1               2\n",
       "2                     B     0            4659\n",
       "3                     B     1             354\n",
       "4                     C     0           14568\n",
       "5                     C     1            1353\n",
       "6                     D     0             328\n",
       "7                     D     1              21\n",
       "8                     E     0              20\n",
       "9                     E     1               2"
      ]
     },
     "execution_count": 44,
     "metadata": {},
     "output_type": "execute_result"
    }
   ],
   "source": [
    "# таблица с данными о количестве клиентов с отсутствием/наличием невозвратов по категориям дохода\n",
    "temp1 = data.groupby('total_income_category')['debt'].agg(num_of_clients='value_counts').reset_index()\n",
    "temp1"
   ]
  },
  {
   "cell_type": "code",
   "execution_count": 45,
   "id": "2697ba20",
   "metadata": {
    "scrolled": true
   },
   "outputs": [
    {
     "data": {
      "text/html": [
       "<div>\n",
       "<style scoped>\n",
       "    .dataframe tbody tr th:only-of-type {\n",
       "        vertical-align: middle;\n",
       "    }\n",
       "\n",
       "    .dataframe tbody tr th {\n",
       "        vertical-align: top;\n",
       "    }\n",
       "\n",
       "    .dataframe thead th {\n",
       "        text-align: right;\n",
       "    }\n",
       "</style>\n",
       "<table border=\"1\" class=\"dataframe\">\n",
       "  <thead>\n",
       "    <tr style=\"text-align: right;\">\n",
       "      <th>debt</th>\n",
       "      <th>total_income_category</th>\n",
       "      <th>0</th>\n",
       "      <th>1</th>\n",
       "    </tr>\n",
       "  </thead>\n",
       "  <tbody>\n",
       "    <tr>\n",
       "      <th>0</th>\n",
       "      <td>A</td>\n",
       "      <td>23.0</td>\n",
       "      <td>2.0</td>\n",
       "    </tr>\n",
       "    <tr>\n",
       "      <th>1</th>\n",
       "      <td>B</td>\n",
       "      <td>4659.0</td>\n",
       "      <td>354.0</td>\n",
       "    </tr>\n",
       "    <tr>\n",
       "      <th>2</th>\n",
       "      <td>C</td>\n",
       "      <td>14568.0</td>\n",
       "      <td>1353.0</td>\n",
       "    </tr>\n",
       "    <tr>\n",
       "      <th>3</th>\n",
       "      <td>D</td>\n",
       "      <td>328.0</td>\n",
       "      <td>21.0</td>\n",
       "    </tr>\n",
       "    <tr>\n",
       "      <th>4</th>\n",
       "      <td>E</td>\n",
       "      <td>20.0</td>\n",
       "      <td>2.0</td>\n",
       "    </tr>\n",
       "  </tbody>\n",
       "</table>\n",
       "</div>"
      ],
      "text/plain": [
       "debt total_income_category        0       1\n",
       "0                        A     23.0     2.0\n",
       "1                        B   4659.0   354.0\n",
       "2                        C  14568.0  1353.0\n",
       "3                        D    328.0    21.0\n",
       "4                        E     20.0     2.0"
      ]
     },
     "execution_count": 45,
     "metadata": {},
     "output_type": "execute_result"
    }
   ],
   "source": [
    "# сводная таблица со столбцами, содержащими данные о клиентах с отсутствием/наличием невозвратов\n",
    "temp2 = pd.pivot_table(temp1, values='num_of_clients', index='total_income_category', columns='debt').reset_index()\n",
    "temp2"
   ]
  },
  {
   "cell_type": "code",
   "execution_count": 46,
   "id": "814b50d2",
   "metadata": {},
   "outputs": [
    {
     "data": {
      "text/html": [
       "<div>\n",
       "<style scoped>\n",
       "    .dataframe tbody tr th:only-of-type {\n",
       "        vertical-align: middle;\n",
       "    }\n",
       "\n",
       "    .dataframe tbody tr th {\n",
       "        vertical-align: top;\n",
       "    }\n",
       "\n",
       "    .dataframe thead th {\n",
       "        text-align: right;\n",
       "    }\n",
       "</style>\n",
       "<table border=\"1\" class=\"dataframe\">\n",
       "  <thead>\n",
       "    <tr style=\"text-align: right;\">\n",
       "      <th>debt</th>\n",
       "      <th>total_income_category</th>\n",
       "      <th>no_debt</th>\n",
       "      <th>with_debt</th>\n",
       "    </tr>\n",
       "  </thead>\n",
       "  <tbody>\n",
       "    <tr>\n",
       "      <th>0</th>\n",
       "      <td>A</td>\n",
       "      <td>23.0</td>\n",
       "      <td>2.0</td>\n",
       "    </tr>\n",
       "    <tr>\n",
       "      <th>1</th>\n",
       "      <td>B</td>\n",
       "      <td>4659.0</td>\n",
       "      <td>354.0</td>\n",
       "    </tr>\n",
       "    <tr>\n",
       "      <th>2</th>\n",
       "      <td>C</td>\n",
       "      <td>14568.0</td>\n",
       "      <td>1353.0</td>\n",
       "    </tr>\n",
       "    <tr>\n",
       "      <th>3</th>\n",
       "      <td>D</td>\n",
       "      <td>328.0</td>\n",
       "      <td>21.0</td>\n",
       "    </tr>\n",
       "    <tr>\n",
       "      <th>4</th>\n",
       "      <td>E</td>\n",
       "      <td>20.0</td>\n",
       "      <td>2.0</td>\n",
       "    </tr>\n",
       "  </tbody>\n",
       "</table>\n",
       "</div>"
      ],
      "text/plain": [
       "debt total_income_category  no_debt  with_debt\n",
       "0                        A     23.0        2.0\n",
       "1                        B   4659.0      354.0\n",
       "2                        C  14568.0     1353.0\n",
       "3                        D    328.0       21.0\n",
       "4                        E     20.0        2.0"
      ]
     },
     "execution_count": 46,
     "metadata": {},
     "output_type": "execute_result"
    }
   ],
   "source": [
    "df3 = temp2.rename(columns={0:'no_debt', 1:'with_debt'})\n",
    "df3"
   ]
  },
  {
   "cell_type": "code",
   "execution_count": 47,
   "id": "55c508dc",
   "metadata": {
    "scrolled": false
   },
   "outputs": [
    {
     "data": {
      "text/html": [
       "<div>\n",
       "<style scoped>\n",
       "    .dataframe tbody tr th:only-of-type {\n",
       "        vertical-align: middle;\n",
       "    }\n",
       "\n",
       "    .dataframe tbody tr th {\n",
       "        vertical-align: top;\n",
       "    }\n",
       "\n",
       "    .dataframe thead th {\n",
       "        text-align: right;\n",
       "    }\n",
       "</style>\n",
       "<table border=\"1\" class=\"dataframe\">\n",
       "  <thead>\n",
       "    <tr style=\"text-align: right;\">\n",
       "      <th>debt</th>\n",
       "      <th>total_income_category</th>\n",
       "      <th>no_debt</th>\n",
       "      <th>with_debt</th>\n",
       "      <th>num_of_clients</th>\n",
       "    </tr>\n",
       "  </thead>\n",
       "  <tbody>\n",
       "    <tr>\n",
       "      <th>0</th>\n",
       "      <td>A</td>\n",
       "      <td>23.0</td>\n",
       "      <td>2.0</td>\n",
       "      <td>25.0</td>\n",
       "    </tr>\n",
       "    <tr>\n",
       "      <th>1</th>\n",
       "      <td>B</td>\n",
       "      <td>4659.0</td>\n",
       "      <td>354.0</td>\n",
       "      <td>5013.0</td>\n",
       "    </tr>\n",
       "    <tr>\n",
       "      <th>2</th>\n",
       "      <td>C</td>\n",
       "      <td>14568.0</td>\n",
       "      <td>1353.0</td>\n",
       "      <td>15921.0</td>\n",
       "    </tr>\n",
       "    <tr>\n",
       "      <th>3</th>\n",
       "      <td>D</td>\n",
       "      <td>328.0</td>\n",
       "      <td>21.0</td>\n",
       "      <td>349.0</td>\n",
       "    </tr>\n",
       "    <tr>\n",
       "      <th>4</th>\n",
       "      <td>E</td>\n",
       "      <td>20.0</td>\n",
       "      <td>2.0</td>\n",
       "      <td>22.0</td>\n",
       "    </tr>\n",
       "  </tbody>\n",
       "</table>\n",
       "</div>"
      ],
      "text/plain": [
       "debt total_income_category  no_debt  with_debt  num_of_clients\n",
       "0                        A     23.0        2.0            25.0\n",
       "1                        B   4659.0      354.0          5013.0\n",
       "2                        C  14568.0     1353.0         15921.0\n",
       "3                        D    328.0       21.0           349.0\n",
       "4                        E     20.0        2.0            22.0"
      ]
     },
     "execution_count": 47,
     "metadata": {},
     "output_type": "execute_result"
    }
   ],
   "source": [
    "# переименуем столбцы\n",
    "df3 = temp2.rename(columns={0:'no_debt', 1:'with_debt'})\n",
    "# добавим столбец с общим числом клиентов по категориям дохода\n",
    "df3['num_of_clients'] = df3[['no_debt', 'with_debt']].sum(axis=1)\n",
    "df3"
   ]
  },
  {
   "cell_type": "code",
   "execution_count": 48,
   "id": "1deb8afa",
   "metadata": {},
   "outputs": [
    {
     "data": {
      "text/html": [
       "<div>\n",
       "<style scoped>\n",
       "    .dataframe tbody tr th:only-of-type {\n",
       "        vertical-align: middle;\n",
       "    }\n",
       "\n",
       "    .dataframe tbody tr th {\n",
       "        vertical-align: top;\n",
       "    }\n",
       "\n",
       "    .dataframe thead th {\n",
       "        text-align: right;\n",
       "    }\n",
       "</style>\n",
       "<table border=\"1\" class=\"dataframe\">\n",
       "  <thead>\n",
       "    <tr style=\"text-align: right;\">\n",
       "      <th>debt</th>\n",
       "      <th>total_income_category</th>\n",
       "      <th>no_debt</th>\n",
       "      <th>with_debt</th>\n",
       "      <th>num_of_clients</th>\n",
       "      <th>income_category_rate</th>\n",
       "      <th>debt_rate_in_income_category</th>\n",
       "      <th>total_debt_rate</th>\n",
       "    </tr>\n",
       "  </thead>\n",
       "  <tbody>\n",
       "    <tr>\n",
       "      <th>0</th>\n",
       "      <td>A</td>\n",
       "      <td>23.0</td>\n",
       "      <td>2.0</td>\n",
       "      <td>25.0</td>\n",
       "      <td>0.001172</td>\n",
       "      <td>0.080000</td>\n",
       "      <td>0.001155</td>\n",
       "    </tr>\n",
       "    <tr>\n",
       "      <th>1</th>\n",
       "      <td>B</td>\n",
       "      <td>4659.0</td>\n",
       "      <td>354.0</td>\n",
       "      <td>5013.0</td>\n",
       "      <td>0.235021</td>\n",
       "      <td>0.070616</td>\n",
       "      <td>0.204388</td>\n",
       "    </tr>\n",
       "    <tr>\n",
       "      <th>2</th>\n",
       "      <td>C</td>\n",
       "      <td>14568.0</td>\n",
       "      <td>1353.0</td>\n",
       "      <td>15921.0</td>\n",
       "      <td>0.746414</td>\n",
       "      <td>0.084982</td>\n",
       "      <td>0.781178</td>\n",
       "    </tr>\n",
       "    <tr>\n",
       "      <th>3</th>\n",
       "      <td>D</td>\n",
       "      <td>328.0</td>\n",
       "      <td>21.0</td>\n",
       "      <td>349.0</td>\n",
       "      <td>0.016362</td>\n",
       "      <td>0.060172</td>\n",
       "      <td>0.012125</td>\n",
       "    </tr>\n",
       "    <tr>\n",
       "      <th>4</th>\n",
       "      <td>E</td>\n",
       "      <td>20.0</td>\n",
       "      <td>2.0</td>\n",
       "      <td>22.0</td>\n",
       "      <td>0.001031</td>\n",
       "      <td>0.090909</td>\n",
       "      <td>0.001155</td>\n",
       "    </tr>\n",
       "  </tbody>\n",
       "</table>\n",
       "</div>"
      ],
      "text/plain": [
       "debt total_income_category  no_debt  with_debt  num_of_clients  \\\n",
       "0                        A     23.0        2.0            25.0   \n",
       "1                        B   4659.0      354.0          5013.0   \n",
       "2                        C  14568.0     1353.0         15921.0   \n",
       "3                        D    328.0       21.0           349.0   \n",
       "4                        E     20.0        2.0            22.0   \n",
       "\n",
       "debt  income_category_rate  debt_rate_in_income_category  total_debt_rate  \n",
       "0                 0.001172                      0.080000         0.001155  \n",
       "1                 0.235021                      0.070616         0.204388  \n",
       "2                 0.746414                      0.084982         0.781178  \n",
       "3                 0.016362                      0.060172         0.012125  \n",
       "4                 0.001031                      0.090909         0.001155  "
      ]
     },
     "execution_count": 48,
     "metadata": {},
     "output_type": "execute_result"
    }
   ],
   "source": [
    "# общее количество невозвратов\n",
    "n_debt = df3['with_debt'].sum()\n",
    "# общее количество клиентов\n",
    "n = df3['no_debt'].sum() + n_debt\n",
    "# создаем столбец с долями категорий от общего числа клиентов\n",
    "df3['income_category_rate'] = df3['num_of_clients'] / n\n",
    "# создаем столбец с долями невозвратов внутри категорий\n",
    "df3['debt_rate_in_income_category'] = df3['with_debt'] / df3['num_of_clients']\n",
    "# и столбец с долями невозвратов от общего числа невозвратов\n",
    "df3['total_debt_rate'] = df3['with_debt'] / n_debt\n",
    "df3"
   ]
  },
  {
   "cell_type": "markdown",
   "id": "91a2d2f3",
   "metadata": {
    "id": "e8593def"
   },
   "source": [
    "**Вывод:** На категории С (доход от 50 до 200 тыс) и В (доход от 200 тыс до 1 млн) приходится более 98% клиентов банка (столбец `income_category_rate`). Эти категории также дали 98,5% всех невозвратов, а именно: С - 78,1%, В - 20,4% (столбец `total_debt_rate`). Поэтому включать в анализ категории A, D, E некорректно (слишком мало было таких клиентов).\n",
    "\n",
    "Внутри двух основных категорий процент невозвратов следующий: С - 8,5%, В - 7,1% (столбец `debt_rate_in_income_category`). Итак, можно заключить, что у более состоятельных клиентов меньше проблем с возвратом кредита в срок."
   ]
  },
  {
   "cell_type": "markdown",
   "id": "75b1f1ea",
   "metadata": {
    "id": "99ecbd1f"
   },
   "source": [
    "### Влияние цели взятия кредита на его возврат"
   ]
  },
  {
   "cell_type": "code",
   "execution_count": 49,
   "id": "7be6824c",
   "metadata": {
    "id": "2b687290",
    "scrolled": true
   },
   "outputs": [
    {
     "data": {
      "text/plain": [
       "purpose_category          debt\n",
       "операции с автомобилем    1       0.093480\n",
       "                          0       0.906520\n",
       "операции с недвижимостью  1       0.072558\n",
       "                          0       0.927442\n",
       "получение образования     1       0.092528\n",
       "                          0       0.907472\n",
       "проведение свадьбы        1       0.079118\n",
       "                          0       0.920882\n",
       "Name: proportion, dtype: float64"
      ]
     },
     "execution_count": 49,
     "metadata": {},
     "output_type": "execute_result"
    }
   ],
   "source": [
    "# доли невозвратов среди целевых категорий\n",
    "data.groupby('purpose_category')['debt'].value_counts(normalize=True, ascending=True)"
   ]
  },
  {
   "cell_type": "code",
   "execution_count": 50,
   "id": "c2ca90a9",
   "metadata": {},
   "outputs": [
    {
     "data": {
      "text/plain": [
       "purpose_category          debt\n",
       "операции с автомобилем    0       3879\n",
       "                          1        400\n",
       "операции с недвижимостью  0       9970\n",
       "                          1        780\n",
       "получение образования     0       3619\n",
       "                          1        369\n",
       "проведение свадьбы        0       2130\n",
       "                          1        183\n",
       "Name: count, dtype: int64"
      ]
     },
     "execution_count": 50,
     "metadata": {},
     "output_type": "execute_result"
    }
   ],
   "source": [
    "# абсолютные значения\n",
    "data.groupby('purpose_category')['debt'].agg('value_counts')"
   ]
  },
  {
   "cell_type": "markdown",
   "id": "94c4f6b4",
   "metadata": {
    "id": "b4bb2ce6"
   },
   "source": [
    "**Вывод:** Разные цели кредита влияют на его возврат в срок: чаще бывают задержки по кредитам, связанным с приобретением автомобиля и получением образования (по 9,3% случаев в каждой категории). При этом самая популярная цель - операции с недвижимостью, и по ней меньше всего должников (7,3%)."
   ]
  },
  {
   "cell_type": "markdown",
   "id": "c041d62c",
   "metadata": {
    "id": "6db5255a"
   },
   "source": [
    "## Общий вывод\n",
    "\n",
    "### Пропуски в исходных данных\n",
    "\n",
    "Пропуски с столбце со стажем могут быть у безработных или пенсионеров. Сведения о ежемесячном доходе могли вовремя не обновится или клиенты их умышленно скрыли.\n",
    "\n",
    "Наибольшие и наименьшие значения могут сильно отличаться от среднего (выбросы) и вносить значительный вклад при его подсчете как среднего арифметического. Поэтому пропуски заполняли категориальными медианами.\n",
    "\n",
    "### Демографические факторы\n",
    "- 7,5% бездетных клиентов не возвращают кредит в срок и 9,2% клиентов с детьми не возвращают кредит в срок. Вероятно, клиенты с детьми несут больше расходов по сравнению с бездетными, что чаще приводит к просрочкам по кредиту. \n",
    "- среди клиентов, не находящихся в официальном браке (не женат/не замужем/гражданский брак) процент должников выше и составляет 9,3-9,8%, тогда как у остальных категорий процент должников 7-7,5%. Факторы, которые могут быть связаны с невозвращением кредита в срок у этих клиентов: более молодой возраст (младше 32 лет), большее количество кредитов, отсутствие детей.\n",
    "\n",
    "### Уровень доходов\n",
    "8,5% клиентов категории С (доход от 50 до 200 тыс) не возвращали кредит в срок, тогда как у клиентов категории В (доход от 200 тыс до 1 млн) процент невозвратов был ниже - 7,1%. Таким образом, у более состоятельных клиентов меньше проблем с возвратом кредита в срок. Провести корректный анализ категорий клиентов A, D, E нельзя (слишком мало таких клиентов в выборке).\n",
    "\n",
    "### Цель кредитования\n",
    "Цели взятия кредита влияют на его возврат в срок: чаще бывают задержки по кредитам, связанным с приобретением автомобиля и получением образования (по 9,3% случаев в каждой категории). При этом самая популярная цель - операции с недвижимостью, и по ней меньше всего просрочек (7,3%)."
   ]
  }
 ],
 "metadata": {
  "ExecuteTimeLog": [
   {
    "duration": 591,
    "start_time": "2022-12-25T16:19:47.116Z"
   },
   {
    "duration": 29,
    "start_time": "2022-12-25T16:19:52.926Z"
   },
   {
    "duration": 15,
    "start_time": "2022-12-25T16:19:57.035Z"
   },
   {
    "duration": 23,
    "start_time": "2022-12-25T16:20:02.924Z"
   },
   {
    "duration": 51,
    "start_time": "2022-12-25T16:20:09.323Z"
   },
   {
    "duration": 4,
    "start_time": "2022-12-25T16:20:28.906Z"
   },
   {
    "duration": 9,
    "start_time": "2022-12-25T16:20:48.296Z"
   },
   {
    "duration": 6,
    "start_time": "2022-12-25T16:20:54.843Z"
   },
   {
    "duration": 23,
    "start_time": "2022-12-25T16:21:02.465Z"
   },
   {
    "duration": 4,
    "start_time": "2022-12-25T16:21:05.966Z"
   },
   {
    "duration": 51,
    "start_time": "2022-12-25T16:21:10.365Z"
   },
   {
    "duration": 12,
    "start_time": "2022-12-25T16:21:23.024Z"
   },
   {
    "duration": 4,
    "start_time": "2022-12-25T16:21:30.206Z"
   },
   {
    "duration": 17,
    "start_time": "2022-12-25T16:21:34.916Z"
   },
   {
    "duration": 20,
    "start_time": "2022-12-25T16:21:38.098Z"
   },
   {
    "duration": 19,
    "start_time": "2022-12-25T16:21:40.182Z"
   },
   {
    "duration": 4,
    "start_time": "2022-12-25T16:21:53.733Z"
   },
   {
    "duration": 11,
    "start_time": "2022-12-25T16:21:57.565Z"
   },
   {
    "duration": 6,
    "start_time": "2022-12-25T16:22:00.195Z"
   },
   {
    "duration": 4,
    "start_time": "2022-12-25T16:22:13.098Z"
   },
   {
    "duration": 8,
    "start_time": "2022-12-25T16:22:16.066Z"
   },
   {
    "duration": 71,
    "start_time": "2022-12-25T16:22:41.066Z"
   },
   {
    "duration": 14,
    "start_time": "2022-12-25T16:22:41.139Z"
   },
   {
    "duration": 19,
    "start_time": "2022-12-25T16:22:41.154Z"
   },
   {
    "duration": 8,
    "start_time": "2022-12-25T16:22:41.175Z"
   },
   {
    "duration": 42,
    "start_time": "2022-12-25T16:22:41.185Z"
   },
   {
    "duration": 3,
    "start_time": "2022-12-25T16:22:41.229Z"
   },
   {
    "duration": 10,
    "start_time": "2022-12-25T16:22:41.233Z"
   },
   {
    "duration": 5,
    "start_time": "2022-12-25T16:22:41.244Z"
   },
   {
    "duration": 8,
    "start_time": "2022-12-25T16:22:41.251Z"
   },
   {
    "duration": 7,
    "start_time": "2022-12-25T16:22:41.260Z"
   },
   {
    "duration": 64,
    "start_time": "2022-12-25T16:22:41.269Z"
   },
   {
    "duration": 8,
    "start_time": "2022-12-25T16:22:41.335Z"
   },
   {
    "duration": 6,
    "start_time": "2022-12-25T16:22:41.344Z"
   },
   {
    "duration": 15,
    "start_time": "2022-12-25T16:22:41.352Z"
   },
   {
    "duration": 21,
    "start_time": "2022-12-25T16:22:41.369Z"
   },
   {
    "duration": 28,
    "start_time": "2022-12-25T16:22:41.391Z"
   },
   {
    "duration": 3,
    "start_time": "2022-12-25T16:22:41.421Z"
   },
   {
    "duration": 12,
    "start_time": "2022-12-25T16:22:41.426Z"
   },
   {
    "duration": 5,
    "start_time": "2022-12-25T16:22:41.440Z"
   },
   {
    "duration": 5,
    "start_time": "2022-12-25T16:22:41.446Z"
   },
   {
    "duration": 12,
    "start_time": "2022-12-25T16:22:41.452Z"
   },
   {
    "duration": 66,
    "start_time": "2022-12-25T16:47:59.325Z"
   },
   {
    "duration": 8,
    "start_time": "2022-12-25T16:48:20.414Z"
   },
   {
    "duration": 5,
    "start_time": "2022-12-25T16:48:59.125Z"
   },
   {
    "duration": 4,
    "start_time": "2022-12-25T16:49:30.314Z"
   },
   {
    "duration": 9,
    "start_time": "2022-12-25T16:50:52.815Z"
   },
   {
    "duration": 9,
    "start_time": "2022-12-25T16:53:29.855Z"
   },
   {
    "duration": 9,
    "start_time": "2022-12-25T17:06:19.822Z"
   },
   {
    "duration": 10,
    "start_time": "2022-12-25T17:11:12.505Z"
   },
   {
    "duration": 69,
    "start_time": "2022-12-25T17:31:39.131Z"
   },
   {
    "duration": 15,
    "start_time": "2022-12-25T17:31:39.201Z"
   },
   {
    "duration": 18,
    "start_time": "2022-12-25T17:31:39.217Z"
   },
   {
    "duration": 11,
    "start_time": "2022-12-25T17:31:39.238Z"
   },
   {
    "duration": 54,
    "start_time": "2022-12-25T17:31:39.251Z"
   },
   {
    "duration": 4,
    "start_time": "2022-12-25T17:31:39.306Z"
   },
   {
    "duration": 12,
    "start_time": "2022-12-25T17:31:39.311Z"
   },
   {
    "duration": 5,
    "start_time": "2022-12-25T17:31:39.324Z"
   },
   {
    "duration": 9,
    "start_time": "2022-12-25T17:31:39.330Z"
   },
   {
    "duration": 8,
    "start_time": "2022-12-25T17:31:39.340Z"
   },
   {
    "duration": 56,
    "start_time": "2022-12-25T17:31:39.350Z"
   },
   {
    "duration": 10,
    "start_time": "2022-12-25T17:31:39.407Z"
   },
   {
    "duration": 5,
    "start_time": "2022-12-25T17:31:39.418Z"
   },
   {
    "duration": 11,
    "start_time": "2022-12-25T17:31:39.426Z"
   },
   {
    "duration": 21,
    "start_time": "2022-12-25T17:31:39.439Z"
   },
   {
    "duration": 17,
    "start_time": "2022-12-25T17:31:39.461Z"
   },
   {
    "duration": 4,
    "start_time": "2022-12-25T17:31:39.504Z"
   },
   {
    "duration": 13,
    "start_time": "2022-12-25T17:31:39.510Z"
   },
   {
    "duration": 6,
    "start_time": "2022-12-25T17:31:39.524Z"
   },
   {
    "duration": 5,
    "start_time": "2022-12-25T17:31:39.531Z"
   },
   {
    "duration": 11,
    "start_time": "2022-12-25T17:31:39.537Z"
   },
   {
    "duration": 11,
    "start_time": "2022-12-25T17:31:39.550Z"
   },
   {
    "duration": 26,
    "start_time": "2022-12-25T18:00:33.595Z"
   },
   {
    "duration": 26,
    "start_time": "2022-12-25T18:02:19.605Z"
   },
   {
    "duration": 14,
    "start_time": "2022-12-25T18:10:12.520Z"
   },
   {
    "duration": 24,
    "start_time": "2022-12-25T18:10:30.218Z"
   },
   {
    "duration": 20,
    "start_time": "2022-12-25T18:29:27.039Z"
   },
   {
    "duration": 17,
    "start_time": "2022-12-25T18:52:51.010Z"
   },
   {
    "duration": 14,
    "start_time": "2022-12-25T18:53:31.919Z"
   },
   {
    "duration": 16,
    "start_time": "2022-12-25T18:57:41.262Z"
   },
   {
    "duration": 14,
    "start_time": "2022-12-25T18:58:33.742Z"
   },
   {
    "duration": 16,
    "start_time": "2022-12-25T18:59:09.622Z"
   },
   {
    "duration": 17,
    "start_time": "2022-12-25T19:02:17.263Z"
   },
   {
    "duration": 17,
    "start_time": "2022-12-25T19:06:54.307Z"
   },
   {
    "duration": 7,
    "start_time": "2022-12-25T19:14:32.602Z"
   },
   {
    "duration": 16,
    "start_time": "2022-12-25T19:14:51.827Z"
   },
   {
    "duration": 7,
    "start_time": "2022-12-25T19:14:55.826Z"
   },
   {
    "duration": 8,
    "start_time": "2022-12-25T19:17:51.949Z"
   },
   {
    "duration": 18,
    "start_time": "2022-12-25T19:19:52.711Z"
   },
   {
    "duration": 21,
    "start_time": "2022-12-25T19:20:38.129Z"
   },
   {
    "duration": 510,
    "start_time": "2022-12-25T19:24:58.254Z"
   },
   {
    "duration": 16,
    "start_time": "2022-12-25T19:27:11.015Z"
   },
   {
    "duration": 125,
    "start_time": "2022-12-25T19:29:26.998Z"
   },
   {
    "duration": 24,
    "start_time": "2022-12-25T19:31:25.811Z"
   },
   {
    "duration": 111,
    "start_time": "2022-12-25T19:31:57.559Z"
   },
   {
    "duration": 125,
    "start_time": "2022-12-25T19:32:32.722Z"
   },
   {
    "duration": 154,
    "start_time": "2022-12-25T19:50:54.928Z"
   },
   {
    "duration": 73,
    "start_time": "2022-12-25T19:51:18.044Z"
   },
   {
    "duration": 18,
    "start_time": "2022-12-25T19:53:50.033Z"
   },
   {
    "duration": 74,
    "start_time": "2022-12-25T19:59:22.022Z"
   },
   {
    "duration": 71,
    "start_time": "2022-12-25T20:00:15.274Z"
   },
   {
    "duration": 72,
    "start_time": "2022-12-25T20:00:36.857Z"
   },
   {
    "duration": 25,
    "start_time": "2022-12-25T20:01:58.170Z"
   },
   {
    "duration": 19,
    "start_time": "2022-12-25T20:02:10.578Z"
   },
   {
    "duration": 80,
    "start_time": "2022-12-25T20:02:45.030Z"
   },
   {
    "duration": 5,
    "start_time": "2022-12-25T20:03:03.806Z"
   },
   {
    "duration": 28,
    "start_time": "2022-12-25T20:03:13.580Z"
   },
   {
    "duration": 20,
    "start_time": "2022-12-25T20:03:32.540Z"
   },
   {
    "duration": 22,
    "start_time": "2022-12-25T20:04:03.681Z"
   },
   {
    "duration": 26,
    "start_time": "2022-12-25T20:05:07.729Z"
   },
   {
    "duration": 23,
    "start_time": "2022-12-25T20:06:14.362Z"
   },
   {
    "duration": 26,
    "start_time": "2022-12-25T20:09:28.017Z"
   },
   {
    "duration": 38,
    "start_time": "2022-12-25T20:11:16.963Z"
   },
   {
    "duration": 70,
    "start_time": "2022-12-25T20:12:29.650Z"
   },
   {
    "duration": 30,
    "start_time": "2022-12-25T20:12:42.169Z"
   },
   {
    "duration": 19,
    "start_time": "2022-12-25T20:14:10.768Z"
   },
   {
    "duration": 13,
    "start_time": "2022-12-25T20:14:23.411Z"
   },
   {
    "duration": 89,
    "start_time": "2022-12-25T20:14:41.954Z"
   },
   {
    "duration": 22,
    "start_time": "2022-12-25T20:27:16.139Z"
   },
   {
    "duration": 76,
    "start_time": "2022-12-25T20:48:31.613Z"
   },
   {
    "duration": 74,
    "start_time": "2022-12-25T20:49:46.895Z"
   },
   {
    "duration": 120,
    "start_time": "2022-12-25T20:50:17.738Z"
   },
   {
    "duration": 19,
    "start_time": "2022-12-25T20:54:18.893Z"
   },
   {
    "duration": 76,
    "start_time": "2022-12-25T20:54:23.916Z"
   },
   {
    "duration": 72,
    "start_time": "2022-12-25T20:54:37.659Z"
   },
   {
    "duration": 71,
    "start_time": "2022-12-25T20:54:52.567Z"
   },
   {
    "duration": 5,
    "start_time": "2022-12-25T20:55:16.274Z"
   },
   {
    "duration": 12,
    "start_time": "2022-12-25T20:55:36.128Z"
   },
   {
    "duration": 12,
    "start_time": "2022-12-25T20:59:30.163Z"
   },
   {
    "duration": 12,
    "start_time": "2022-12-25T20:59:59.296Z"
   },
   {
    "duration": 28,
    "start_time": "2022-12-25T21:10:28.141Z"
   },
   {
    "duration": 70,
    "start_time": "2022-12-25T21:28:57.118Z"
   },
   {
    "duration": 75,
    "start_time": "2022-12-25T21:29:33.249Z"
   },
   {
    "duration": 4,
    "start_time": "2022-12-25T21:30:15.859Z"
   },
   {
    "duration": 4,
    "start_time": "2022-12-25T21:31:31.968Z"
   },
   {
    "duration": 5,
    "start_time": "2022-12-25T21:36:50.035Z"
   },
   {
    "duration": 6,
    "start_time": "2022-12-25T21:46:56.065Z"
   },
   {
    "duration": 78,
    "start_time": "2022-12-25T21:50:10.873Z"
   },
   {
    "duration": 93,
    "start_time": "2022-12-25T21:50:33.296Z"
   },
   {
    "duration": 89,
    "start_time": "2022-12-25T21:51:06.173Z"
   },
   {
    "duration": 90,
    "start_time": "2022-12-25T21:51:20.510Z"
   },
   {
    "duration": 5,
    "start_time": "2022-12-25T21:53:06.998Z"
   },
   {
    "duration": 6,
    "start_time": "2022-12-25T21:53:58.208Z"
   },
   {
    "duration": 12,
    "start_time": "2022-12-25T22:25:15.969Z"
   },
   {
    "duration": 8,
    "start_time": "2022-12-25T22:25:48.809Z"
   },
   {
    "duration": 15,
    "start_time": "2022-12-25T22:26:25.071Z"
   },
   {
    "duration": 10,
    "start_time": "2022-12-25T22:27:11.438Z"
   },
   {
    "duration": 10,
    "start_time": "2022-12-25T22:27:42.181Z"
   },
   {
    "duration": 13,
    "start_time": "2022-12-25T22:27:58.176Z"
   },
   {
    "duration": 6,
    "start_time": "2022-12-25T22:28:24.286Z"
   },
   {
    "duration": 7,
    "start_time": "2022-12-25T22:28:54.475Z"
   },
   {
    "duration": 8,
    "start_time": "2022-12-25T22:29:20.334Z"
   },
   {
    "duration": 7,
    "start_time": "2022-12-25T22:29:35.536Z"
   },
   {
    "duration": 1115,
    "start_time": "2022-12-25T22:34:16.484Z"
   },
   {
    "duration": 1103,
    "start_time": "2022-12-25T22:34:48.094Z"
   },
   {
    "duration": 1453,
    "start_time": "2022-12-25T22:35:12.877Z"
   },
   {
    "duration": 14,
    "start_time": "2022-12-25T22:36:01.925Z"
   },
   {
    "duration": 8,
    "start_time": "2022-12-25T22:38:19.352Z"
   },
   {
    "duration": 10,
    "start_time": "2022-12-25T22:38:48.662Z"
   },
   {
    "duration": 11,
    "start_time": "2022-12-25T22:39:40.286Z"
   },
   {
    "duration": 10,
    "start_time": "2022-12-25T22:39:48.871Z"
   },
   {
    "duration": 11,
    "start_time": "2022-12-25T22:39:58.135Z"
   },
   {
    "duration": 9,
    "start_time": "2022-12-25T22:40:07.622Z"
   },
   {
    "duration": 12,
    "start_time": "2022-12-25T22:40:44.344Z"
   },
   {
    "duration": 12,
    "start_time": "2022-12-25T22:40:59.605Z"
   },
   {
    "duration": 8,
    "start_time": "2022-12-25T22:43:26.067Z"
   },
   {
    "duration": 12,
    "start_time": "2022-12-25T22:46:38.425Z"
   },
   {
    "duration": 19,
    "start_time": "2022-12-25T22:47:39.577Z"
   },
   {
    "duration": 10,
    "start_time": "2022-12-25T22:48:55.638Z"
   },
   {
    "duration": 12,
    "start_time": "2022-12-25T22:49:26.324Z"
   },
   {
    "duration": 8,
    "start_time": "2022-12-25T22:49:54.135Z"
   },
   {
    "duration": 13,
    "start_time": "2022-12-25T22:50:18.693Z"
   },
   {
    "duration": 11,
    "start_time": "2022-12-25T22:51:32.397Z"
   },
   {
    "duration": 14,
    "start_time": "2022-12-25T22:51:48.137Z"
   },
   {
    "duration": 5,
    "start_time": "2022-12-25T22:53:36.765Z"
   },
   {
    "duration": 8,
    "start_time": "2022-12-25T22:54:32.811Z"
   },
   {
    "duration": 18,
    "start_time": "2022-12-25T22:56:25.302Z"
   },
   {
    "duration": 18,
    "start_time": "2022-12-25T22:56:39.648Z"
   },
   {
    "duration": 18,
    "start_time": "2022-12-25T22:57:04.422Z"
   },
   {
    "duration": 14,
    "start_time": "2022-12-25T23:00:03.234Z"
   },
   {
    "duration": 19,
    "start_time": "2022-12-25T23:00:45.613Z"
   },
   {
    "duration": 20,
    "start_time": "2022-12-25T23:01:05.096Z"
   },
   {
    "duration": 18,
    "start_time": "2022-12-25T23:01:11.224Z"
   },
   {
    "duration": 20,
    "start_time": "2022-12-25T23:04:39.691Z"
   },
   {
    "duration": 19,
    "start_time": "2022-12-25T23:06:26.721Z"
   },
   {
    "duration": 6,
    "start_time": "2022-12-25T23:07:04.000Z"
   },
   {
    "duration": 6,
    "start_time": "2022-12-25T23:12:16.895Z"
   },
   {
    "duration": 6,
    "start_time": "2022-12-25T23:12:55.797Z"
   },
   {
    "duration": 8,
    "start_time": "2022-12-25T23:15:12.347Z"
   },
   {
    "duration": 9,
    "start_time": "2022-12-25T23:16:09.628Z"
   },
   {
    "duration": 4,
    "start_time": "2022-12-25T23:17:02.699Z"
   },
   {
    "duration": 5,
    "start_time": "2022-12-25T23:17:08.898Z"
   },
   {
    "duration": 6,
    "start_time": "2022-12-25T23:18:33.459Z"
   },
   {
    "duration": 5,
    "start_time": "2022-12-25T23:22:54.699Z"
   },
   {
    "duration": 5,
    "start_time": "2022-12-25T23:22:57.509Z"
   },
   {
    "duration": 183,
    "start_time": "2022-12-25T23:23:00.619Z"
   },
   {
    "duration": 6,
    "start_time": "2022-12-25T23:23:51.737Z"
   },
   {
    "duration": 18,
    "start_time": "2022-12-25T23:32:09.989Z"
   },
   {
    "duration": 13,
    "start_time": "2022-12-25T23:33:19.174Z"
   },
   {
    "duration": 9,
    "start_time": "2022-12-25T23:33:34.286Z"
   },
   {
    "duration": 834,
    "start_time": "2022-12-25T23:33:53.282Z"
   },
   {
    "duration": 9,
    "start_time": "2022-12-25T23:34:15.353Z"
   },
   {
    "duration": 9,
    "start_time": "2022-12-25T23:34:29.342Z"
   },
   {
    "duration": 8,
    "start_time": "2022-12-25T23:35:07.612Z"
   },
   {
    "duration": 9,
    "start_time": "2022-12-25T23:35:12.862Z"
   },
   {
    "duration": 6,
    "start_time": "2022-12-25T23:40:52.127Z"
   },
   {
    "duration": 73,
    "start_time": "2022-12-25T23:42:03.307Z"
   },
   {
    "duration": 10,
    "start_time": "2022-12-25T23:42:49.888Z"
   },
   {
    "duration": 7,
    "start_time": "2022-12-25T23:52:51.856Z"
   },
   {
    "duration": 6,
    "start_time": "2022-12-25T23:52:59.056Z"
   },
   {
    "duration": 8,
    "start_time": "2022-12-25T23:53:08.330Z"
   },
   {
    "duration": 7,
    "start_time": "2022-12-25T23:53:14.797Z"
   },
   {
    "duration": 1067,
    "start_time": "2022-12-25T23:54:08.490Z"
   },
   {
    "duration": 1173,
    "start_time": "2022-12-25T23:54:27.058Z"
   },
   {
    "duration": 6,
    "start_time": "2022-12-25T23:54:41.137Z"
   },
   {
    "duration": 7,
    "start_time": "2022-12-25T23:55:49.670Z"
   },
   {
    "duration": 7,
    "start_time": "2022-12-25T23:55:57.240Z"
   },
   {
    "duration": 5,
    "start_time": "2022-12-25T23:57:15.320Z"
   },
   {
    "duration": 28,
    "start_time": "2022-12-25T23:58:12.846Z"
   },
   {
    "duration": 7,
    "start_time": "2022-12-26T00:01:52.005Z"
   },
   {
    "duration": 10,
    "start_time": "2022-12-26T00:02:58.055Z"
   },
   {
    "duration": 14,
    "start_time": "2022-12-26T00:21:34.275Z"
   },
   {
    "duration": 13,
    "start_time": "2022-12-26T00:21:54.107Z"
   },
   {
    "duration": 14,
    "start_time": "2022-12-26T00:22:22.814Z"
   },
   {
    "duration": 11,
    "start_time": "2022-12-26T00:22:29.975Z"
   },
   {
    "duration": 11,
    "start_time": "2022-12-26T00:24:07.817Z"
   },
   {
    "duration": 15,
    "start_time": "2022-12-26T00:25:16.566Z"
   },
   {
    "duration": 14,
    "start_time": "2022-12-26T00:28:22.547Z"
   },
   {
    "duration": 16,
    "start_time": "2022-12-26T00:30:17.155Z"
   },
   {
    "duration": 21,
    "start_time": "2022-12-26T00:30:21.487Z"
   },
   {
    "duration": 16,
    "start_time": "2022-12-26T00:31:59.669Z"
   },
   {
    "duration": 19,
    "start_time": "2022-12-26T00:32:53.487Z"
   },
   {
    "duration": 28,
    "start_time": "2022-12-26T00:33:39.018Z"
   },
   {
    "duration": 21,
    "start_time": "2022-12-26T00:33:59.674Z"
   },
   {
    "duration": 19,
    "start_time": "2022-12-26T00:35:35.837Z"
   },
   {
    "duration": 18,
    "start_time": "2022-12-26T00:35:45.640Z"
   },
   {
    "duration": 22,
    "start_time": "2022-12-26T00:36:06.137Z"
   },
   {
    "duration": 17,
    "start_time": "2022-12-26T00:37:54.903Z"
   },
   {
    "duration": 18,
    "start_time": "2022-12-26T00:39:30.227Z"
   },
   {
    "duration": 27,
    "start_time": "2022-12-26T00:40:49.375Z"
   },
   {
    "duration": 27,
    "start_time": "2022-12-26T00:40:58.782Z"
   },
   {
    "duration": 3,
    "start_time": "2022-12-26T00:41:06.555Z"
   },
   {
    "duration": 7,
    "start_time": "2022-12-26T00:41:34.576Z"
   },
   {
    "duration": 7,
    "start_time": "2022-12-26T00:41:39.055Z"
   },
   {
    "duration": 1281,
    "start_time": "2022-12-26T00:41:43.867Z"
   },
   {
    "duration": 1113,
    "start_time": "2022-12-26T00:42:35.007Z"
   },
   {
    "duration": 111,
    "start_time": "2022-12-26T00:45:51.759Z"
   },
   {
    "duration": 88,
    "start_time": "2022-12-26T00:46:10.389Z"
   },
   {
    "duration": 183,
    "start_time": "2022-12-26T00:46:23.089Z"
   },
   {
    "duration": 1083,
    "start_time": "2022-12-26T00:47:16.699Z"
   },
   {
    "duration": 1136,
    "start_time": "2022-12-26T00:47:26.765Z"
   },
   {
    "duration": 19,
    "start_time": "2022-12-26T00:49:28.085Z"
   },
   {
    "duration": 5,
    "start_time": "2022-12-26T00:50:04.942Z"
   },
   {
    "duration": 127,
    "start_time": "2022-12-26T00:50:34.791Z"
   },
   {
    "duration": 11,
    "start_time": "2022-12-26T00:55:27.056Z"
   },
   {
    "duration": 16,
    "start_time": "2022-12-26T00:55:44.474Z"
   },
   {
    "duration": 1114,
    "start_time": "2022-12-26T00:58:23.245Z"
   },
   {
    "duration": 1054,
    "start_time": "2022-12-26T00:58:53.574Z"
   },
   {
    "duration": 1109,
    "start_time": "2022-12-26T01:00:19.078Z"
   },
   {
    "duration": 12,
    "start_time": "2022-12-26T01:00:33.910Z"
   },
   {
    "duration": 1137,
    "start_time": "2022-12-26T01:01:20.966Z"
   },
   {
    "duration": 1060,
    "start_time": "2022-12-26T01:01:31.197Z"
   },
   {
    "duration": 10,
    "start_time": "2022-12-26T01:02:11.942Z"
   },
   {
    "duration": 10,
    "start_time": "2022-12-26T01:04:17.587Z"
   },
   {
    "duration": 12,
    "start_time": "2022-12-26T01:04:41.439Z"
   },
   {
    "duration": 11,
    "start_time": "2022-12-26T01:08:23.531Z"
   },
   {
    "duration": 12,
    "start_time": "2022-12-26T01:09:18.571Z"
   },
   {
    "duration": 79,
    "start_time": "2022-12-26T01:09:40.864Z"
   },
   {
    "duration": 14,
    "start_time": "2022-12-26T01:09:40.945Z"
   },
   {
    "duration": 36,
    "start_time": "2022-12-26T01:09:40.961Z"
   },
   {
    "duration": 19,
    "start_time": "2022-12-26T01:09:40.998Z"
   },
   {
    "duration": 37,
    "start_time": "2022-12-26T01:09:41.018Z"
   },
   {
    "duration": 2,
    "start_time": "2022-12-26T01:09:41.057Z"
   },
   {
    "duration": 34,
    "start_time": "2022-12-26T01:09:41.061Z"
   },
   {
    "duration": 15,
    "start_time": "2022-12-26T01:09:41.096Z"
   },
   {
    "duration": 21,
    "start_time": "2022-12-26T01:09:41.113Z"
   },
   {
    "duration": 22,
    "start_time": "2022-12-26T01:09:41.136Z"
   },
   {
    "duration": 50,
    "start_time": "2022-12-26T01:09:41.159Z"
   },
   {
    "duration": 8,
    "start_time": "2022-12-26T01:09:41.211Z"
   },
   {
    "duration": 8,
    "start_time": "2022-12-26T01:09:41.221Z"
   },
   {
    "duration": 19,
    "start_time": "2022-12-26T01:09:41.231Z"
   },
   {
    "duration": 27,
    "start_time": "2022-12-26T01:09:41.251Z"
   },
   {
    "duration": 23,
    "start_time": "2022-12-26T01:09:41.280Z"
   },
   {
    "duration": 26,
    "start_time": "2022-12-26T01:09:41.305Z"
   },
   {
    "duration": 14,
    "start_time": "2022-12-26T01:09:41.333Z"
   },
   {
    "duration": 25,
    "start_time": "2022-12-26T01:09:41.348Z"
   },
   {
    "duration": 4,
    "start_time": "2022-12-26T01:09:41.374Z"
   },
   {
    "duration": 30,
    "start_time": "2022-12-26T01:09:41.379Z"
   },
   {
    "duration": 19,
    "start_time": "2022-12-26T01:09:41.410Z"
   },
   {
    "duration": 20,
    "start_time": "2022-12-26T01:09:41.431Z"
   },
   {
    "duration": 27,
    "start_time": "2022-12-26T01:09:41.452Z"
   },
   {
    "duration": 12,
    "start_time": "2022-12-26T01:09:45.777Z"
   },
   {
    "duration": 8,
    "start_time": "2022-12-26T01:10:24.866Z"
   },
   {
    "duration": 90,
    "start_time": "2022-12-26T01:10:43.798Z"
   },
   {
    "duration": 16,
    "start_time": "2022-12-26T01:22:44.476Z"
   },
   {
    "duration": 86,
    "start_time": "2022-12-26T01:22:52.403Z"
   },
   {
    "duration": 14,
    "start_time": "2022-12-26T01:22:52.491Z"
   },
   {
    "duration": 17,
    "start_time": "2022-12-26T01:22:52.507Z"
   },
   {
    "duration": 11,
    "start_time": "2022-12-26T01:22:52.526Z"
   },
   {
    "duration": 32,
    "start_time": "2022-12-26T01:22:52.539Z"
   },
   {
    "duration": 3,
    "start_time": "2022-12-26T01:22:52.573Z"
   },
   {
    "duration": 28,
    "start_time": "2022-12-26T01:22:52.577Z"
   },
   {
    "duration": 4,
    "start_time": "2022-12-26T01:22:52.607Z"
   },
   {
    "duration": 6,
    "start_time": "2022-12-26T01:22:52.612Z"
   },
   {
    "duration": 5,
    "start_time": "2022-12-26T01:22:52.620Z"
   },
   {
    "duration": 33,
    "start_time": "2022-12-26T01:22:52.626Z"
   },
   {
    "duration": 10,
    "start_time": "2022-12-26T01:22:52.660Z"
   },
   {
    "duration": 3,
    "start_time": "2022-12-26T01:22:52.671Z"
   },
   {
    "duration": 10,
    "start_time": "2022-12-26T01:22:52.705Z"
   },
   {
    "duration": 20,
    "start_time": "2022-12-26T01:22:52.717Z"
   },
   {
    "duration": 18,
    "start_time": "2022-12-26T01:22:52.739Z"
   },
   {
    "duration": 4,
    "start_time": "2022-12-26T01:22:52.758Z"
   },
   {
    "duration": 13,
    "start_time": "2022-12-26T01:22:52.763Z"
   },
   {
    "duration": 28,
    "start_time": "2022-12-26T01:22:52.777Z"
   },
   {
    "duration": 3,
    "start_time": "2022-12-26T01:22:52.807Z"
   },
   {
    "duration": 18,
    "start_time": "2022-12-26T01:22:52.812Z"
   },
   {
    "duration": 11,
    "start_time": "2022-12-26T01:22:52.831Z"
   },
   {
    "duration": 9,
    "start_time": "2022-12-26T01:22:52.843Z"
   },
   {
    "duration": 10,
    "start_time": "2022-12-26T01:22:52.853Z"
   },
   {
    "duration": 12,
    "start_time": "2022-12-26T01:22:59.451Z"
   },
   {
    "duration": 14,
    "start_time": "2022-12-26T01:24:43.479Z"
   },
   {
    "duration": 11,
    "start_time": "2022-12-26T01:24:56.761Z"
   },
   {
    "duration": 80,
    "start_time": "2022-12-26T01:25:01.820Z"
   },
   {
    "duration": 14,
    "start_time": "2022-12-26T01:25:01.902Z"
   },
   {
    "duration": 15,
    "start_time": "2022-12-26T01:25:01.917Z"
   },
   {
    "duration": 9,
    "start_time": "2022-12-26T01:25:01.934Z"
   },
   {
    "duration": 31,
    "start_time": "2022-12-26T01:25:01.945Z"
   },
   {
    "duration": 3,
    "start_time": "2022-12-26T01:25:02.004Z"
   },
   {
    "duration": 15,
    "start_time": "2022-12-26T01:25:02.009Z"
   },
   {
    "duration": 4,
    "start_time": "2022-12-26T01:25:02.025Z"
   },
   {
    "duration": 15,
    "start_time": "2022-12-26T01:25:02.030Z"
   },
   {
    "duration": 4,
    "start_time": "2022-12-26T01:25:02.047Z"
   },
   {
    "duration": 35,
    "start_time": "2022-12-26T01:25:02.053Z"
   },
   {
    "duration": 18,
    "start_time": "2022-12-26T01:25:02.090Z"
   },
   {
    "duration": 16,
    "start_time": "2022-12-26T01:25:02.110Z"
   },
   {
    "duration": 15,
    "start_time": "2022-12-26T01:25:02.129Z"
   },
   {
    "duration": 27,
    "start_time": "2022-12-26T01:25:02.145Z"
   },
   {
    "duration": 33,
    "start_time": "2022-12-26T01:25:02.174Z"
   },
   {
    "duration": 3,
    "start_time": "2022-12-26T01:25:02.209Z"
   },
   {
    "duration": 19,
    "start_time": "2022-12-26T01:25:02.214Z"
   },
   {
    "duration": 10,
    "start_time": "2022-12-26T01:25:02.235Z"
   },
   {
    "duration": 5,
    "start_time": "2022-12-26T01:25:02.246Z"
   },
   {
    "duration": 20,
    "start_time": "2022-12-26T01:25:02.253Z"
   },
   {
    "duration": 9,
    "start_time": "2022-12-26T01:25:02.275Z"
   },
   {
    "duration": 18,
    "start_time": "2022-12-26T01:25:02.285Z"
   },
   {
    "duration": 11,
    "start_time": "2022-12-26T01:25:02.304Z"
   },
   {
    "duration": 13,
    "start_time": "2022-12-26T01:25:09.880Z"
   },
   {
    "duration": 13,
    "start_time": "2022-12-26T01:25:38.905Z"
   },
   {
    "duration": 83,
    "start_time": "2022-12-26T01:25:59.719Z"
   },
   {
    "duration": 16,
    "start_time": "2022-12-26T01:25:59.804Z"
   },
   {
    "duration": 15,
    "start_time": "2022-12-26T01:25:59.822Z"
   },
   {
    "duration": 15,
    "start_time": "2022-12-26T01:25:59.838Z"
   },
   {
    "duration": 55,
    "start_time": "2022-12-26T01:25:59.855Z"
   },
   {
    "duration": 4,
    "start_time": "2022-12-26T01:25:59.911Z"
   },
   {
    "duration": 10,
    "start_time": "2022-12-26T01:25:59.916Z"
   },
   {
    "duration": 11,
    "start_time": "2022-12-26T01:25:59.928Z"
   },
   {
    "duration": 12,
    "start_time": "2022-12-26T01:25:59.940Z"
   },
   {
    "duration": 5,
    "start_time": "2022-12-26T01:25:59.954Z"
   },
   {
    "duration": 50,
    "start_time": "2022-12-26T01:25:59.960Z"
   },
   {
    "duration": 11,
    "start_time": "2022-12-26T01:26:00.012Z"
   },
   {
    "duration": 14,
    "start_time": "2022-12-26T01:26:00.025Z"
   },
   {
    "duration": 26,
    "start_time": "2022-12-26T01:26:00.041Z"
   },
   {
    "duration": 33,
    "start_time": "2022-12-26T01:26:00.068Z"
   },
   {
    "duration": 22,
    "start_time": "2022-12-26T01:26:00.103Z"
   },
   {
    "duration": 3,
    "start_time": "2022-12-26T01:26:00.127Z"
   },
   {
    "duration": 36,
    "start_time": "2022-12-26T01:26:00.132Z"
   },
   {
    "duration": 24,
    "start_time": "2022-12-26T01:26:00.171Z"
   },
   {
    "duration": 21,
    "start_time": "2022-12-26T01:26:00.197Z"
   },
   {
    "duration": 34,
    "start_time": "2022-12-26T01:26:00.220Z"
   },
   {
    "duration": 28,
    "start_time": "2022-12-26T01:26:00.255Z"
   },
   {
    "duration": 26,
    "start_time": "2022-12-26T01:26:00.286Z"
   },
   {
    "duration": 39,
    "start_time": "2022-12-26T01:26:00.314Z"
   },
   {
    "duration": 14,
    "start_time": "2022-12-26T01:26:02.316Z"
   },
   {
    "duration": 11,
    "start_time": "2022-12-26T01:26:16.777Z"
   },
   {
    "duration": 12,
    "start_time": "2022-12-26T01:26:22.291Z"
   },
   {
    "duration": 79,
    "start_time": "2022-12-26T01:26:25.629Z"
   },
   {
    "duration": 14,
    "start_time": "2022-12-26T01:26:25.710Z"
   },
   {
    "duration": 18,
    "start_time": "2022-12-26T01:26:25.726Z"
   },
   {
    "duration": 17,
    "start_time": "2022-12-26T01:26:25.746Z"
   },
   {
    "duration": 42,
    "start_time": "2022-12-26T01:26:25.766Z"
   },
   {
    "duration": 4,
    "start_time": "2022-12-26T01:26:25.809Z"
   },
   {
    "duration": 16,
    "start_time": "2022-12-26T01:26:25.814Z"
   },
   {
    "duration": 6,
    "start_time": "2022-12-26T01:26:25.831Z"
   },
   {
    "duration": 14,
    "start_time": "2022-12-26T01:26:25.838Z"
   },
   {
    "duration": 6,
    "start_time": "2022-12-26T01:26:25.853Z"
   },
   {
    "duration": 55,
    "start_time": "2022-12-26T01:26:25.861Z"
   },
   {
    "duration": 9,
    "start_time": "2022-12-26T01:26:25.918Z"
   },
   {
    "duration": 6,
    "start_time": "2022-12-26T01:26:25.928Z"
   },
   {
    "duration": 10,
    "start_time": "2022-12-26T01:26:25.937Z"
   },
   {
    "duration": 16,
    "start_time": "2022-12-26T01:26:25.949Z"
   },
   {
    "duration": 37,
    "start_time": "2022-12-26T01:26:25.967Z"
   },
   {
    "duration": 4,
    "start_time": "2022-12-26T01:26:26.006Z"
   },
   {
    "duration": 31,
    "start_time": "2022-12-26T01:26:26.011Z"
   },
   {
    "duration": 15,
    "start_time": "2022-12-26T01:26:26.043Z"
   },
   {
    "duration": 4,
    "start_time": "2022-12-26T01:26:26.059Z"
   },
   {
    "duration": 11,
    "start_time": "2022-12-26T01:26:26.065Z"
   },
   {
    "duration": 8,
    "start_time": "2022-12-26T01:26:26.078Z"
   },
   {
    "duration": 12,
    "start_time": "2022-12-26T01:26:26.088Z"
   },
   {
    "duration": 16,
    "start_time": "2022-12-26T01:26:26.101Z"
   },
   {
    "duration": 17,
    "start_time": "2022-12-26T01:26:28.121Z"
   },
   {
    "duration": 11,
    "start_time": "2022-12-26T01:26:42.840Z"
   },
   {
    "duration": 77,
    "start_time": "2022-12-26T01:26:50.360Z"
   },
   {
    "duration": 16,
    "start_time": "2022-12-26T01:26:50.439Z"
   },
   {
    "duration": 21,
    "start_time": "2022-12-26T01:26:50.456Z"
   },
   {
    "duration": 16,
    "start_time": "2022-12-26T01:26:50.479Z"
   },
   {
    "duration": 45,
    "start_time": "2022-12-26T01:26:50.497Z"
   },
   {
    "duration": 3,
    "start_time": "2022-12-26T01:26:50.544Z"
   },
   {
    "duration": 10,
    "start_time": "2022-12-26T01:26:50.549Z"
   },
   {
    "duration": 5,
    "start_time": "2022-12-26T01:26:50.561Z"
   },
   {
    "duration": 9,
    "start_time": "2022-12-26T01:26:50.568Z"
   },
   {
    "duration": 30,
    "start_time": "2022-12-26T01:26:50.579Z"
   },
   {
    "duration": 44,
    "start_time": "2022-12-26T01:26:50.612Z"
   },
   {
    "duration": 10,
    "start_time": "2022-12-26T01:26:50.657Z"
   },
   {
    "duration": 4,
    "start_time": "2022-12-26T01:26:50.669Z"
   },
   {
    "duration": 39,
    "start_time": "2022-12-26T01:26:50.675Z"
   },
   {
    "duration": 21,
    "start_time": "2022-12-26T01:26:50.716Z"
   },
   {
    "duration": 18,
    "start_time": "2022-12-26T01:26:50.738Z"
   },
   {
    "duration": 5,
    "start_time": "2022-12-26T01:26:50.758Z"
   },
   {
    "duration": 40,
    "start_time": "2022-12-26T01:26:50.765Z"
   },
   {
    "duration": 5,
    "start_time": "2022-12-26T01:26:50.807Z"
   },
   {
    "duration": 4,
    "start_time": "2022-12-26T01:26:50.813Z"
   },
   {
    "duration": 14,
    "start_time": "2022-12-26T01:26:50.818Z"
   },
   {
    "duration": 8,
    "start_time": "2022-12-26T01:26:50.833Z"
   },
   {
    "duration": 9,
    "start_time": "2022-12-26T01:26:50.842Z"
   },
   {
    "duration": 9,
    "start_time": "2022-12-26T01:26:50.853Z"
   },
   {
    "duration": 13,
    "start_time": "2022-12-26T01:26:52.749Z"
   },
   {
    "duration": 12,
    "start_time": "2022-12-26T01:27:21.737Z"
   },
   {
    "duration": 78,
    "start_time": "2022-12-26T01:27:27.609Z"
   },
   {
    "duration": 16,
    "start_time": "2022-12-26T01:27:27.689Z"
   },
   {
    "duration": 28,
    "start_time": "2022-12-26T01:27:27.706Z"
   },
   {
    "duration": 10,
    "start_time": "2022-12-26T01:27:27.736Z"
   },
   {
    "duration": 37,
    "start_time": "2022-12-26T01:27:27.747Z"
   },
   {
    "duration": 4,
    "start_time": "2022-12-26T01:27:27.786Z"
   },
   {
    "duration": 17,
    "start_time": "2022-12-26T01:27:27.792Z"
   },
   {
    "duration": 6,
    "start_time": "2022-12-26T01:27:27.811Z"
   },
   {
    "duration": 14,
    "start_time": "2022-12-26T01:27:27.818Z"
   },
   {
    "duration": 7,
    "start_time": "2022-12-26T01:27:27.834Z"
   },
   {
    "duration": 40,
    "start_time": "2022-12-26T01:27:27.842Z"
   },
   {
    "duration": 9,
    "start_time": "2022-12-26T01:27:27.884Z"
   },
   {
    "duration": 3,
    "start_time": "2022-12-26T01:27:27.904Z"
   },
   {
    "duration": 14,
    "start_time": "2022-12-26T01:27:27.908Z"
   },
   {
    "duration": 16,
    "start_time": "2022-12-26T01:27:27.924Z"
   },
   {
    "duration": 16,
    "start_time": "2022-12-26T01:27:27.941Z"
   },
   {
    "duration": 4,
    "start_time": "2022-12-26T01:27:27.958Z"
   },
   {
    "duration": 13,
    "start_time": "2022-12-26T01:27:27.963Z"
   },
   {
    "duration": 28,
    "start_time": "2022-12-26T01:27:27.978Z"
   },
   {
    "duration": 3,
    "start_time": "2022-12-26T01:27:28.008Z"
   },
   {
    "duration": 12,
    "start_time": "2022-12-26T01:27:28.012Z"
   },
   {
    "duration": 10,
    "start_time": "2022-12-26T01:27:28.025Z"
   },
   {
    "duration": 11,
    "start_time": "2022-12-26T01:27:28.037Z"
   },
   {
    "duration": 19,
    "start_time": "2022-12-26T01:27:28.049Z"
   },
   {
    "duration": 12,
    "start_time": "2022-12-26T01:27:30.012Z"
   },
   {
    "duration": 11,
    "start_time": "2022-12-26T01:28:52.092Z"
   },
   {
    "duration": 75,
    "start_time": "2022-12-26T01:29:00.890Z"
   },
   {
    "duration": 14,
    "start_time": "2022-12-26T01:29:00.967Z"
   },
   {
    "duration": 45,
    "start_time": "2022-12-26T01:29:00.982Z"
   },
   {
    "duration": 14,
    "start_time": "2022-12-26T01:29:01.029Z"
   },
   {
    "duration": 46,
    "start_time": "2022-12-26T01:29:01.044Z"
   },
   {
    "duration": 3,
    "start_time": "2022-12-26T01:29:01.092Z"
   },
   {
    "duration": 49,
    "start_time": "2022-12-26T01:29:01.096Z"
   },
   {
    "duration": 35,
    "start_time": "2022-12-26T01:29:01.147Z"
   },
   {
    "duration": 48,
    "start_time": "2022-12-26T01:29:01.184Z"
   },
   {
    "duration": 15,
    "start_time": "2022-12-26T01:29:01.234Z"
   },
   {
    "duration": 42,
    "start_time": "2022-12-26T01:29:01.250Z"
   },
   {
    "duration": 9,
    "start_time": "2022-12-26T01:29:01.294Z"
   },
   {
    "duration": 9,
    "start_time": "2022-12-26T01:29:01.305Z"
   },
   {
    "duration": 29,
    "start_time": "2022-12-26T01:29:01.316Z"
   },
   {
    "duration": 29,
    "start_time": "2022-12-26T01:29:01.346Z"
   },
   {
    "duration": 21,
    "start_time": "2022-12-26T01:29:01.376Z"
   },
   {
    "duration": 9,
    "start_time": "2022-12-26T01:29:01.399Z"
   },
   {
    "duration": 26,
    "start_time": "2022-12-26T01:29:01.410Z"
   },
   {
    "duration": 5,
    "start_time": "2022-12-26T01:29:01.437Z"
   },
   {
    "duration": 21,
    "start_time": "2022-12-26T01:29:01.443Z"
   },
   {
    "duration": 27,
    "start_time": "2022-12-26T01:29:01.465Z"
   },
   {
    "duration": 26,
    "start_time": "2022-12-26T01:29:01.494Z"
   },
   {
    "duration": 24,
    "start_time": "2022-12-26T01:29:01.521Z"
   },
   {
    "duration": 21,
    "start_time": "2022-12-26T01:29:01.547Z"
   },
   {
    "duration": 10,
    "start_time": "2022-12-26T01:29:03.580Z"
   },
   {
    "duration": 10,
    "start_time": "2022-12-26T01:29:24.964Z"
   },
   {
    "duration": 14,
    "start_time": "2022-12-26T01:29:28.491Z"
   },
   {
    "duration": 74,
    "start_time": "2022-12-26T01:29:42.830Z"
   },
   {
    "duration": 14,
    "start_time": "2022-12-26T01:29:42.906Z"
   },
   {
    "duration": 20,
    "start_time": "2022-12-26T01:29:42.922Z"
   },
   {
    "duration": 13,
    "start_time": "2022-12-26T01:29:42.944Z"
   },
   {
    "duration": 28,
    "start_time": "2022-12-26T01:29:42.959Z"
   },
   {
    "duration": 16,
    "start_time": "2022-12-26T01:29:42.989Z"
   },
   {
    "duration": 10,
    "start_time": "2022-12-26T01:29:43.006Z"
   },
   {
    "duration": 5,
    "start_time": "2022-12-26T01:29:43.018Z"
   },
   {
    "duration": 6,
    "start_time": "2022-12-26T01:29:43.025Z"
   },
   {
    "duration": 5,
    "start_time": "2022-12-26T01:29:43.032Z"
   },
   {
    "duration": 67,
    "start_time": "2022-12-26T01:29:43.038Z"
   },
   {
    "duration": 10,
    "start_time": "2022-12-26T01:29:43.106Z"
   },
   {
    "duration": 5,
    "start_time": "2022-12-26T01:29:43.118Z"
   },
   {
    "duration": 13,
    "start_time": "2022-12-26T01:29:43.126Z"
   },
   {
    "duration": 17,
    "start_time": "2022-12-26T01:29:43.140Z"
   },
   {
    "duration": 16,
    "start_time": "2022-12-26T01:29:43.159Z"
   },
   {
    "duration": 28,
    "start_time": "2022-12-26T01:29:43.177Z"
   },
   {
    "duration": 17,
    "start_time": "2022-12-26T01:29:43.207Z"
   },
   {
    "duration": 12,
    "start_time": "2022-12-26T01:29:43.226Z"
   },
   {
    "duration": 15,
    "start_time": "2022-12-26T01:29:43.240Z"
   },
   {
    "duration": 25,
    "start_time": "2022-12-26T01:29:43.257Z"
   },
   {
    "duration": 10,
    "start_time": "2022-12-26T01:29:43.283Z"
   },
   {
    "duration": 9,
    "start_time": "2022-12-26T01:29:43.295Z"
   },
   {
    "duration": 11,
    "start_time": "2022-12-26T01:29:43.306Z"
   },
   {
    "duration": 11,
    "start_time": "2022-12-26T01:29:45.410Z"
   },
   {
    "duration": 12,
    "start_time": "2022-12-26T01:31:59.141Z"
   },
   {
    "duration": 79,
    "start_time": "2022-12-26T01:32:05.188Z"
   },
   {
    "duration": 15,
    "start_time": "2022-12-26T01:32:05.269Z"
   },
   {
    "duration": 18,
    "start_time": "2022-12-26T01:32:05.286Z"
   },
   {
    "duration": 10,
    "start_time": "2022-12-26T01:32:05.306Z"
   },
   {
    "duration": 34,
    "start_time": "2022-12-26T01:32:05.319Z"
   },
   {
    "duration": 3,
    "start_time": "2022-12-26T01:32:05.355Z"
   },
   {
    "duration": 18,
    "start_time": "2022-12-26T01:32:05.360Z"
   },
   {
    "duration": 5,
    "start_time": "2022-12-26T01:32:05.380Z"
   },
   {
    "duration": 6,
    "start_time": "2022-12-26T01:32:05.405Z"
   },
   {
    "duration": 6,
    "start_time": "2022-12-26T01:32:05.412Z"
   },
   {
    "duration": 37,
    "start_time": "2022-12-26T01:32:05.420Z"
   },
   {
    "duration": 11,
    "start_time": "2022-12-26T01:32:05.458Z"
   },
   {
    "duration": 5,
    "start_time": "2022-12-26T01:32:05.470Z"
   },
   {
    "duration": 11,
    "start_time": "2022-12-26T01:32:05.504Z"
   },
   {
    "duration": 29,
    "start_time": "2022-12-26T01:32:05.517Z"
   },
   {
    "duration": 17,
    "start_time": "2022-12-26T01:32:05.547Z"
   },
   {
    "duration": 3,
    "start_time": "2022-12-26T01:32:05.566Z"
   },
   {
    "duration": 12,
    "start_time": "2022-12-26T01:32:05.571Z"
   },
   {
    "duration": 22,
    "start_time": "2022-12-26T01:32:05.585Z"
   },
   {
    "duration": 7,
    "start_time": "2022-12-26T01:32:05.608Z"
   },
   {
    "duration": 12,
    "start_time": "2022-12-26T01:32:05.617Z"
   },
   {
    "duration": 12,
    "start_time": "2022-12-26T01:32:05.631Z"
   },
   {
    "duration": 11,
    "start_time": "2022-12-26T01:32:05.644Z"
   },
   {
    "duration": 11,
    "start_time": "2022-12-26T01:32:05.657Z"
   },
   {
    "duration": 10,
    "start_time": "2022-12-26T01:32:07.470Z"
   },
   {
    "duration": 11,
    "start_time": "2022-12-26T01:33:38.609Z"
   },
   {
    "duration": 85,
    "start_time": "2022-12-26T01:33:43.612Z"
   },
   {
    "duration": 14,
    "start_time": "2022-12-26T01:33:43.699Z"
   },
   {
    "duration": 25,
    "start_time": "2022-12-26T01:33:43.714Z"
   },
   {
    "duration": 25,
    "start_time": "2022-12-26T01:33:43.741Z"
   },
   {
    "duration": 53,
    "start_time": "2022-12-26T01:33:43.768Z"
   },
   {
    "duration": 3,
    "start_time": "2022-12-26T01:33:43.823Z"
   },
   {
    "duration": 31,
    "start_time": "2022-12-26T01:33:43.827Z"
   },
   {
    "duration": 16,
    "start_time": "2022-12-26T01:33:43.859Z"
   },
   {
    "duration": 13,
    "start_time": "2022-12-26T01:33:43.877Z"
   },
   {
    "duration": 24,
    "start_time": "2022-12-26T01:33:43.892Z"
   },
   {
    "duration": 54,
    "start_time": "2022-12-26T01:33:43.917Z"
   },
   {
    "duration": 9,
    "start_time": "2022-12-26T01:33:43.972Z"
   },
   {
    "duration": 14,
    "start_time": "2022-12-26T01:33:43.983Z"
   },
   {
    "duration": 23,
    "start_time": "2022-12-26T01:33:43.998Z"
   },
   {
    "duration": 43,
    "start_time": "2022-12-26T01:33:44.022Z"
   },
   {
    "duration": 17,
    "start_time": "2022-12-26T01:33:44.067Z"
   },
   {
    "duration": 11,
    "start_time": "2022-12-26T01:33:44.086Z"
   },
   {
    "duration": 30,
    "start_time": "2022-12-26T01:33:44.098Z"
   },
   {
    "duration": 21,
    "start_time": "2022-12-26T01:33:44.130Z"
   },
   {
    "duration": 28,
    "start_time": "2022-12-26T01:33:44.152Z"
   },
   {
    "duration": 30,
    "start_time": "2022-12-26T01:33:44.182Z"
   },
   {
    "duration": 27,
    "start_time": "2022-12-26T01:33:44.214Z"
   },
   {
    "duration": 20,
    "start_time": "2022-12-26T01:33:44.243Z"
   },
   {
    "duration": 21,
    "start_time": "2022-12-26T01:33:44.264Z"
   },
   {
    "duration": 25,
    "start_time": "2022-12-26T01:33:44.286Z"
   },
   {
    "duration": 12,
    "start_time": "2022-12-26T01:33:47.141Z"
   },
   {
    "duration": 84,
    "start_time": "2022-12-26T01:33:53.861Z"
   },
   {
    "duration": 14,
    "start_time": "2022-12-26T01:33:53.947Z"
   },
   {
    "duration": 27,
    "start_time": "2022-12-26T01:33:53.963Z"
   },
   {
    "duration": 13,
    "start_time": "2022-12-26T01:33:53.993Z"
   },
   {
    "duration": 31,
    "start_time": "2022-12-26T01:33:54.007Z"
   },
   {
    "duration": 3,
    "start_time": "2022-12-26T01:33:54.040Z"
   },
   {
    "duration": 17,
    "start_time": "2022-12-26T01:33:54.044Z"
   },
   {
    "duration": 6,
    "start_time": "2022-12-26T01:33:54.063Z"
   },
   {
    "duration": 22,
    "start_time": "2022-12-26T01:33:54.072Z"
   },
   {
    "duration": 15,
    "start_time": "2022-12-26T01:33:54.096Z"
   },
   {
    "duration": 41,
    "start_time": "2022-12-26T01:33:54.113Z"
   },
   {
    "duration": 10,
    "start_time": "2022-12-26T01:33:54.156Z"
   },
   {
    "duration": 5,
    "start_time": "2022-12-26T01:33:54.168Z"
   },
   {
    "duration": 36,
    "start_time": "2022-12-26T01:33:54.174Z"
   },
   {
    "duration": 24,
    "start_time": "2022-12-26T01:33:54.211Z"
   },
   {
    "duration": 18,
    "start_time": "2022-12-26T01:33:54.237Z"
   },
   {
    "duration": 3,
    "start_time": "2022-12-26T01:33:54.257Z"
   },
   {
    "duration": 25,
    "start_time": "2022-12-26T01:33:54.262Z"
   },
   {
    "duration": 45,
    "start_time": "2022-12-26T01:33:54.289Z"
   },
   {
    "duration": 4,
    "start_time": "2022-12-26T01:33:54.335Z"
   },
   {
    "duration": 10,
    "start_time": "2022-12-26T01:33:54.340Z"
   },
   {
    "duration": 7,
    "start_time": "2022-12-26T01:33:54.352Z"
   },
   {
    "duration": 22,
    "start_time": "2022-12-26T01:33:54.361Z"
   },
   {
    "duration": 15,
    "start_time": "2022-12-26T01:33:54.384Z"
   },
   {
    "duration": 10,
    "start_time": "2022-12-26T01:33:56.289Z"
   },
   {
    "duration": 7,
    "start_time": "2022-12-26T01:37:52.598Z"
   },
   {
    "duration": 9,
    "start_time": "2022-12-26T01:39:08.657Z"
   },
   {
    "duration": 10,
    "start_time": "2022-12-26T01:42:17.090Z"
   },
   {
    "duration": 9,
    "start_time": "2022-12-26T01:47:35.179Z"
   },
   {
    "duration": 8,
    "start_time": "2022-12-26T01:47:56.297Z"
   },
   {
    "duration": 24,
    "start_time": "2022-12-26T01:48:35.997Z"
   },
   {
    "duration": 14,
    "start_time": "2022-12-26T01:50:37.258Z"
   },
   {
    "duration": 17,
    "start_time": "2022-12-26T01:51:04.785Z"
   },
   {
    "duration": 13,
    "start_time": "2022-12-26T01:51:10.070Z"
   },
   {
    "duration": 19,
    "start_time": "2022-12-26T01:52:30.357Z"
   },
   {
    "duration": 13,
    "start_time": "2022-12-26T01:53:42.465Z"
   },
   {
    "duration": 25,
    "start_time": "2022-12-26T01:57:45.784Z"
   },
   {
    "duration": 90,
    "start_time": "2022-12-26T01:57:59.119Z"
   },
   {
    "duration": 16,
    "start_time": "2022-12-26T01:57:59.210Z"
   },
   {
    "duration": 17,
    "start_time": "2022-12-26T01:57:59.227Z"
   },
   {
    "duration": 9,
    "start_time": "2022-12-26T01:57:59.245Z"
   },
   {
    "duration": 50,
    "start_time": "2022-12-26T01:57:59.255Z"
   },
   {
    "duration": 3,
    "start_time": "2022-12-26T01:57:59.306Z"
   },
   {
    "duration": 11,
    "start_time": "2022-12-26T01:57:59.310Z"
   },
   {
    "duration": 3,
    "start_time": "2022-12-26T01:57:59.323Z"
   },
   {
    "duration": 6,
    "start_time": "2022-12-26T01:57:59.328Z"
   },
   {
    "duration": 5,
    "start_time": "2022-12-26T01:57:59.335Z"
   },
   {
    "duration": 34,
    "start_time": "2022-12-26T01:57:59.341Z"
   },
   {
    "duration": 32,
    "start_time": "2022-12-26T01:57:59.376Z"
   },
   {
    "duration": 4,
    "start_time": "2022-12-26T01:57:59.409Z"
   },
   {
    "duration": 11,
    "start_time": "2022-12-26T01:57:59.415Z"
   },
   {
    "duration": 20,
    "start_time": "2022-12-26T01:57:59.428Z"
   },
   {
    "duration": 17,
    "start_time": "2022-12-26T01:57:59.449Z"
   },
   {
    "duration": 3,
    "start_time": "2022-12-26T01:57:59.468Z"
   },
   {
    "duration": 33,
    "start_time": "2022-12-26T01:57:59.473Z"
   },
   {
    "duration": 6,
    "start_time": "2022-12-26T01:57:59.507Z"
   },
   {
    "duration": 3,
    "start_time": "2022-12-26T01:57:59.514Z"
   },
   {
    "duration": 12,
    "start_time": "2022-12-26T01:57:59.519Z"
   },
   {
    "duration": 8,
    "start_time": "2022-12-26T01:57:59.532Z"
   },
   {
    "duration": 10,
    "start_time": "2022-12-26T01:57:59.542Z"
   },
   {
    "duration": 11,
    "start_time": "2022-12-26T01:57:59.553Z"
   },
   {
    "duration": 44,
    "start_time": "2022-12-26T01:57:59.565Z"
   },
   {
    "duration": 9,
    "start_time": "2022-12-26T01:57:59.610Z"
   },
   {
    "duration": 106,
    "start_time": "2022-12-26T01:57:59.621Z"
   },
   {
    "duration": 15,
    "start_time": "2022-12-26T01:58:02.154Z"
   },
   {
    "duration": 294,
    "start_time": "2022-12-26T01:59:41.658Z"
   },
   {
    "duration": 10,
    "start_time": "2022-12-26T02:00:44.256Z"
   },
   {
    "duration": 11,
    "start_time": "2022-12-26T02:00:54.176Z"
   },
   {
    "duration": 12,
    "start_time": "2022-12-26T02:01:37.657Z"
   },
   {
    "duration": 52,
    "start_time": "2022-12-26T19:27:06.270Z"
   },
   {
    "duration": 561,
    "start_time": "2022-12-26T19:27:20.784Z"
   },
   {
    "duration": 31,
    "start_time": "2022-12-26T19:27:21.347Z"
   },
   {
    "duration": 23,
    "start_time": "2022-12-26T19:27:21.379Z"
   },
   {
    "duration": 15,
    "start_time": "2022-12-26T19:27:21.405Z"
   },
   {
    "duration": 73,
    "start_time": "2022-12-26T19:27:21.422Z"
   },
   {
    "duration": 3,
    "start_time": "2022-12-26T19:27:21.497Z"
   },
   {
    "duration": 19,
    "start_time": "2022-12-26T19:27:21.502Z"
   },
   {
    "duration": 4,
    "start_time": "2022-12-26T19:27:21.523Z"
   },
   {
    "duration": 22,
    "start_time": "2022-12-26T19:27:21.529Z"
   },
   {
    "duration": 5,
    "start_time": "2022-12-26T19:27:21.553Z"
   },
   {
    "duration": 37,
    "start_time": "2022-12-26T19:27:21.559Z"
   },
   {
    "duration": 10,
    "start_time": "2022-12-26T19:27:21.598Z"
   },
   {
    "duration": 8,
    "start_time": "2022-12-26T19:27:21.610Z"
   },
   {
    "duration": 34,
    "start_time": "2022-12-26T19:27:21.619Z"
   },
   {
    "duration": 21,
    "start_time": "2022-12-26T19:27:21.655Z"
   },
   {
    "duration": 18,
    "start_time": "2022-12-26T19:27:21.678Z"
   },
   {
    "duration": 4,
    "start_time": "2022-12-26T19:27:21.698Z"
   },
   {
    "duration": 17,
    "start_time": "2022-12-26T19:27:21.704Z"
   },
   {
    "duration": 30,
    "start_time": "2022-12-26T19:27:21.723Z"
   },
   {
    "duration": 4,
    "start_time": "2022-12-26T19:27:21.755Z"
   },
   {
    "duration": 22,
    "start_time": "2022-12-26T19:27:21.760Z"
   },
   {
    "duration": 13,
    "start_time": "2022-12-26T19:27:21.784Z"
   },
   {
    "duration": 11,
    "start_time": "2022-12-26T19:27:21.799Z"
   },
   {
    "duration": 16,
    "start_time": "2022-12-26T19:27:21.811Z"
   },
   {
    "duration": 27,
    "start_time": "2022-12-26T19:27:21.829Z"
   },
   {
    "duration": 18,
    "start_time": "2022-12-26T19:27:21.858Z"
   },
   {
    "duration": 520,
    "start_time": "2022-12-26T19:27:21.877Z"
   },
   {
    "duration": 17,
    "start_time": "2022-12-26T19:27:29.710Z"
   },
   {
    "duration": 45,
    "start_time": "2022-12-26T20:31:51.135Z"
   },
   {
    "duration": 12,
    "start_time": "2022-12-26T20:32:14.018Z"
   },
   {
    "duration": 89,
    "start_time": "2022-12-26T20:32:43.713Z"
   },
   {
    "duration": 9,
    "start_time": "2022-12-26T20:32:53.631Z"
   },
   {
    "duration": 7,
    "start_time": "2022-12-26T20:34:23.145Z"
   },
   {
    "duration": 5,
    "start_time": "2022-12-26T21:00:59.783Z"
   },
   {
    "duration": 19,
    "start_time": "2022-12-26T21:01:14.228Z"
   },
   {
    "duration": 13,
    "start_time": "2022-12-26T21:02:36.579Z"
   },
   {
    "duration": 14,
    "start_time": "2022-12-26T21:02:53.757Z"
   },
   {
    "duration": 18,
    "start_time": "2022-12-26T21:03:09.186Z"
   },
   {
    "duration": 14,
    "start_time": "2022-12-26T21:03:33.918Z"
   },
   {
    "duration": 13,
    "start_time": "2022-12-26T21:04:26.023Z"
   },
   {
    "duration": 22,
    "start_time": "2022-12-26T21:05:57.700Z"
   },
   {
    "duration": 16,
    "start_time": "2022-12-26T21:06:52.724Z"
   },
   {
    "duration": 12,
    "start_time": "2022-12-26T21:07:07.272Z"
   },
   {
    "duration": 14,
    "start_time": "2022-12-26T21:14:22.167Z"
   },
   {
    "duration": 11,
    "start_time": "2022-12-26T21:18:26.095Z"
   },
   {
    "duration": 12,
    "start_time": "2022-12-26T21:18:36.172Z"
   },
   {
    "duration": 11,
    "start_time": "2022-12-26T21:19:30.970Z"
   },
   {
    "duration": 13,
    "start_time": "2022-12-26T21:20:01.784Z"
   },
   {
    "duration": 13,
    "start_time": "2022-12-26T21:24:00.563Z"
   },
   {
    "duration": 8,
    "start_time": "2022-12-26T21:24:20.779Z"
   },
   {
    "duration": 16,
    "start_time": "2022-12-26T21:25:10.959Z"
   },
   {
    "duration": 11,
    "start_time": "2022-12-26T21:26:10.386Z"
   },
   {
    "duration": 12,
    "start_time": "2022-12-26T21:26:23.820Z"
   },
   {
    "duration": 11,
    "start_time": "2022-12-26T21:27:35.410Z"
   },
   {
    "duration": 13,
    "start_time": "2022-12-26T21:28:14.516Z"
   },
   {
    "duration": 11,
    "start_time": "2022-12-26T21:29:53.886Z"
   },
   {
    "duration": 6,
    "start_time": "2022-12-26T21:30:26.083Z"
   },
   {
    "duration": 107,
    "start_time": "2022-12-26T21:30:31.012Z"
   },
   {
    "duration": 11,
    "start_time": "2022-12-26T21:32:23.750Z"
   },
   {
    "duration": 8,
    "start_time": "2022-12-26T21:32:33.668Z"
   },
   {
    "duration": 8,
    "start_time": "2022-12-26T21:35:14.797Z"
   },
   {
    "duration": 9,
    "start_time": "2022-12-26T21:35:59.228Z"
   },
   {
    "duration": 11,
    "start_time": "2022-12-26T21:39:38.108Z"
   },
   {
    "duration": 9,
    "start_time": "2022-12-26T21:40:20.093Z"
   },
   {
    "duration": 15,
    "start_time": "2022-12-26T21:43:24.780Z"
   },
   {
    "duration": 81,
    "start_time": "2022-12-26T21:43:38.744Z"
   },
   {
    "duration": 15,
    "start_time": "2022-12-26T21:43:38.827Z"
   },
   {
    "duration": 19,
    "start_time": "2022-12-26T21:43:38.843Z"
   },
   {
    "duration": 10,
    "start_time": "2022-12-26T21:43:38.865Z"
   },
   {
    "duration": 37,
    "start_time": "2022-12-26T21:43:38.877Z"
   },
   {
    "duration": 4,
    "start_time": "2022-12-26T21:43:38.916Z"
   },
   {
    "duration": 33,
    "start_time": "2022-12-26T21:43:38.921Z"
   },
   {
    "duration": 8,
    "start_time": "2022-12-26T21:43:38.956Z"
   },
   {
    "duration": 11,
    "start_time": "2022-12-26T21:43:38.966Z"
   },
   {
    "duration": 18,
    "start_time": "2022-12-26T21:43:38.981Z"
   },
   {
    "duration": 75,
    "start_time": "2022-12-26T21:43:39.002Z"
   },
   {
    "duration": 12,
    "start_time": "2022-12-26T21:43:39.079Z"
   },
   {
    "duration": 9,
    "start_time": "2022-12-26T21:43:39.093Z"
   },
   {
    "duration": 21,
    "start_time": "2022-12-26T21:43:39.104Z"
   },
   {
    "duration": 44,
    "start_time": "2022-12-26T21:43:39.128Z"
   },
   {
    "duration": 20,
    "start_time": "2022-12-26T21:43:39.174Z"
   },
   {
    "duration": 6,
    "start_time": "2022-12-26T21:43:39.197Z"
   },
   {
    "duration": 25,
    "start_time": "2022-12-26T21:43:39.205Z"
   },
   {
    "duration": 10,
    "start_time": "2022-12-26T21:43:39.253Z"
   },
   {
    "duration": 5,
    "start_time": "2022-12-26T21:43:39.265Z"
   },
   {
    "duration": 18,
    "start_time": "2022-12-26T21:43:39.271Z"
   },
   {
    "duration": 13,
    "start_time": "2022-12-26T21:43:39.291Z"
   },
   {
    "duration": 56,
    "start_time": "2022-12-26T21:43:39.306Z"
   },
   {
    "duration": 10,
    "start_time": "2022-12-26T21:43:39.365Z"
   },
   {
    "duration": 15,
    "start_time": "2022-12-26T21:43:39.377Z"
   },
   {
    "duration": 14,
    "start_time": "2022-12-26T21:43:43.968Z"
   },
   {
    "duration": 1157,
    "start_time": "2022-12-26T21:44:30.218Z"
   },
   {
    "duration": 6,
    "start_time": "2022-12-26T21:45:06.794Z"
   },
   {
    "duration": 111,
    "start_time": "2022-12-26T21:45:16.603Z"
   },
   {
    "duration": 9,
    "start_time": "2022-12-26T21:49:46.114Z"
   },
   {
    "duration": 24,
    "start_time": "2022-12-26T21:54:45.476Z"
   },
   {
    "duration": 26,
    "start_time": "2022-12-26T21:55:00.752Z"
   },
   {
    "duration": 33,
    "start_time": "2022-12-26T22:00:40.952Z"
   },
   {
    "duration": 17,
    "start_time": "2022-12-26T22:02:06.257Z"
   },
   {
    "duration": 15,
    "start_time": "2022-12-26T22:41:33.049Z"
   },
   {
    "duration": 18,
    "start_time": "2022-12-26T22:42:46.321Z"
   },
   {
    "duration": 20,
    "start_time": "2022-12-26T22:44:12.649Z"
   },
   {
    "duration": 22,
    "start_time": "2022-12-26T22:52:01.801Z"
   },
   {
    "duration": 21,
    "start_time": "2022-12-26T22:52:19.805Z"
   },
   {
    "duration": 21,
    "start_time": "2022-12-26T22:54:31.972Z"
   },
   {
    "duration": 18,
    "start_time": "2022-12-26T22:56:59.107Z"
   },
   {
    "duration": 34,
    "start_time": "2022-12-26T22:57:18.821Z"
   },
   {
    "duration": 32,
    "start_time": "2022-12-26T22:57:29.634Z"
   },
   {
    "duration": 21,
    "start_time": "2022-12-26T22:57:36.565Z"
   },
   {
    "duration": 18,
    "start_time": "2022-12-26T22:57:42.704Z"
   },
   {
    "duration": 72,
    "start_time": "2022-12-26T22:58:28.320Z"
   },
   {
    "duration": 20,
    "start_time": "2022-12-26T22:58:54.336Z"
   },
   {
    "duration": 18,
    "start_time": "2022-12-26T22:59:10.127Z"
   },
   {
    "duration": 23,
    "start_time": "2022-12-26T22:59:29.868Z"
   },
   {
    "duration": 23,
    "start_time": "2022-12-26T22:59:42.248Z"
   },
   {
    "duration": 18,
    "start_time": "2022-12-26T23:00:04.679Z"
   },
   {
    "duration": 18,
    "start_time": "2022-12-26T23:00:56.497Z"
   },
   {
    "duration": 31,
    "start_time": "2022-12-26T23:01:47.583Z"
   },
   {
    "duration": 37,
    "start_time": "2022-12-26T23:03:05.194Z"
   },
   {
    "duration": 24,
    "start_time": "2022-12-26T23:04:11.538Z"
   },
   {
    "duration": 19,
    "start_time": "2022-12-26T23:29:57.502Z"
   },
   {
    "duration": 21,
    "start_time": "2022-12-26T23:30:16.153Z"
   },
   {
    "duration": 24,
    "start_time": "2022-12-26T23:30:25.291Z"
   },
   {
    "duration": 24,
    "start_time": "2022-12-26T23:30:42.877Z"
   },
   {
    "duration": 26,
    "start_time": "2022-12-26T23:31:17.053Z"
   },
   {
    "duration": 1315,
    "start_time": "2022-12-26T23:32:22.688Z"
   },
   {
    "duration": 30,
    "start_time": "2022-12-26T23:35:05.778Z"
   },
   {
    "duration": 23,
    "start_time": "2022-12-26T23:37:48.853Z"
   },
   {
    "duration": 22,
    "start_time": "2022-12-26T23:38:32.743Z"
   },
   {
    "duration": 22,
    "start_time": "2022-12-26T23:38:43.280Z"
   },
   {
    "duration": 19,
    "start_time": "2022-12-26T23:39:40.396Z"
   },
   {
    "duration": 19,
    "start_time": "2022-12-26T23:39:50.785Z"
   },
   {
    "duration": 23,
    "start_time": "2022-12-26T23:40:41.835Z"
   },
   {
    "duration": 24,
    "start_time": "2022-12-26T23:44:10.113Z"
   },
   {
    "duration": 24,
    "start_time": "2022-12-26T23:46:56.235Z"
   },
   {
    "duration": 22,
    "start_time": "2022-12-26T23:47:32.606Z"
   },
   {
    "duration": 23,
    "start_time": "2022-12-26T23:48:10.772Z"
   },
   {
    "duration": 33,
    "start_time": "2022-12-26T23:50:48.540Z"
   },
   {
    "duration": 26,
    "start_time": "2022-12-26T23:53:14.840Z"
   },
   {
    "duration": 25,
    "start_time": "2022-12-26T23:53:50.347Z"
   },
   {
    "duration": 93,
    "start_time": "2022-12-27T00:00:48.298Z"
   },
   {
    "duration": 75,
    "start_time": "2022-12-27T00:01:11.204Z"
   },
   {
    "duration": 71,
    "start_time": "2022-12-27T00:01:18.868Z"
   },
   {
    "duration": 15,
    "start_time": "2022-12-27T00:01:18.941Z"
   },
   {
    "duration": 18,
    "start_time": "2022-12-27T00:01:18.958Z"
   },
   {
    "duration": 11,
    "start_time": "2022-12-27T00:01:18.979Z"
   },
   {
    "duration": 61,
    "start_time": "2022-12-27T00:01:18.992Z"
   },
   {
    "duration": 4,
    "start_time": "2022-12-27T00:01:19.055Z"
   },
   {
    "duration": 14,
    "start_time": "2022-12-27T00:01:19.060Z"
   },
   {
    "duration": 4,
    "start_time": "2022-12-27T00:01:19.076Z"
   },
   {
    "duration": 17,
    "start_time": "2022-12-27T00:01:19.082Z"
   },
   {
    "duration": 8,
    "start_time": "2022-12-27T00:01:19.101Z"
   },
   {
    "duration": 55,
    "start_time": "2022-12-27T00:01:19.110Z"
   },
   {
    "duration": 10,
    "start_time": "2022-12-27T00:01:19.167Z"
   },
   {
    "duration": 6,
    "start_time": "2022-12-27T00:01:19.179Z"
   },
   {
    "duration": 21,
    "start_time": "2022-12-27T00:01:19.186Z"
   },
   {
    "duration": 24,
    "start_time": "2022-12-27T00:01:19.209Z"
   },
   {
    "duration": 32,
    "start_time": "2022-12-27T00:01:19.235Z"
   },
   {
    "duration": 3,
    "start_time": "2022-12-27T00:01:19.269Z"
   },
   {
    "duration": 16,
    "start_time": "2022-12-27T00:01:19.274Z"
   },
   {
    "duration": 12,
    "start_time": "2022-12-27T00:01:19.292Z"
   },
   {
    "duration": 4,
    "start_time": "2022-12-27T00:01:19.305Z"
   },
   {
    "duration": 12,
    "start_time": "2022-12-27T00:01:19.310Z"
   },
   {
    "duration": 36,
    "start_time": "2022-12-27T00:01:19.323Z"
   },
   {
    "duration": 10,
    "start_time": "2022-12-27T00:01:19.361Z"
   },
   {
    "duration": 7,
    "start_time": "2022-12-27T00:01:19.373Z"
   },
   {
    "duration": 19,
    "start_time": "2022-12-27T00:01:19.381Z"
   },
   {
    "duration": 20,
    "start_time": "2022-12-27T00:01:19.402Z"
   },
   {
    "duration": 29,
    "start_time": "2022-12-27T00:01:19.424Z"
   },
   {
    "duration": 117,
    "start_time": "2022-12-27T00:01:19.455Z"
   },
   {
    "duration": 13,
    "start_time": "2022-12-27T00:01:19.574Z"
   },
   {
    "duration": 28,
    "start_time": "2022-12-27T00:01:19.589Z"
   },
   {
    "duration": 79,
    "start_time": "2022-12-27T00:01:22.557Z"
   },
   {
    "duration": 69,
    "start_time": "2022-12-27T00:02:38.784Z"
   },
   {
    "duration": 93,
    "start_time": "2022-12-27T00:02:45.760Z"
   },
   {
    "duration": 80,
    "start_time": "2022-12-27T00:03:07.885Z"
   },
   {
    "duration": 68,
    "start_time": "2022-12-27T00:03:12.477Z"
   },
   {
    "duration": 68,
    "start_time": "2022-12-27T00:04:00.671Z"
   },
   {
    "duration": 82,
    "start_time": "2022-12-27T00:04:38.636Z"
   },
   {
    "duration": 78,
    "start_time": "2022-12-27T00:04:46.321Z"
   },
   {
    "duration": 27,
    "start_time": "2022-12-27T00:05:17.347Z"
   },
   {
    "duration": 22,
    "start_time": "2022-12-27T00:05:43.340Z"
   },
   {
    "duration": 25,
    "start_time": "2022-12-27T00:12:44.975Z"
   },
   {
    "duration": 106,
    "start_time": "2022-12-27T00:30:05.128Z"
   },
   {
    "duration": 107,
    "start_time": "2022-12-27T00:30:24.865Z"
   },
   {
    "duration": 320,
    "start_time": "2022-12-27T00:31:09.901Z"
   },
   {
    "duration": 7,
    "start_time": "2022-12-27T00:32:23.528Z"
   },
   {
    "duration": 70,
    "start_time": "2022-12-27T00:32:45.255Z"
   },
   {
    "duration": 12,
    "start_time": "2022-12-27T00:35:34.671Z"
   },
   {
    "duration": 12,
    "start_time": "2022-12-27T00:35:53.291Z"
   },
   {
    "duration": 28,
    "start_time": "2022-12-27T00:41:44.175Z"
   },
   {
    "duration": 29,
    "start_time": "2022-12-27T00:42:24.742Z"
   },
   {
    "duration": 31,
    "start_time": "2022-12-27T00:44:16.760Z"
   },
   {
    "duration": 35,
    "start_time": "2022-12-27T00:46:24.145Z"
   },
   {
    "duration": 1924,
    "start_time": "2022-12-27T00:59:50.580Z"
   },
   {
    "duration": 33,
    "start_time": "2022-12-27T01:00:29.549Z"
   },
   {
    "duration": 12,
    "start_time": "2022-12-27T01:10:41.398Z"
   },
   {
    "duration": 11,
    "start_time": "2022-12-27T01:11:58.658Z"
   },
   {
    "duration": 33,
    "start_time": "2022-12-27T01:14:41.000Z"
   },
   {
    "duration": 12,
    "start_time": "2022-12-27T01:16:23.149Z"
   },
   {
    "duration": 10,
    "start_time": "2022-12-27T01:18:08.814Z"
   },
   {
    "duration": 13,
    "start_time": "2022-12-27T01:18:21.970Z"
   },
   {
    "duration": 14,
    "start_time": "2022-12-27T01:43:51.124Z"
   },
   {
    "duration": 19,
    "start_time": "2022-12-27T01:44:14.594Z"
   },
   {
    "duration": 18,
    "start_time": "2022-12-27T01:45:22.823Z"
   },
   {
    "duration": 12,
    "start_time": "2022-12-27T01:46:36.638Z"
   },
   {
    "duration": 20,
    "start_time": "2022-12-27T01:47:13.073Z"
   },
   {
    "duration": 31,
    "start_time": "2022-12-27T01:47:38.055Z"
   },
   {
    "duration": 18,
    "start_time": "2022-12-27T01:50:42.175Z"
   },
   {
    "duration": 5,
    "start_time": "2022-12-27T01:52:11.895Z"
   },
   {
    "duration": 7,
    "start_time": "2022-12-27T01:53:23.116Z"
   },
   {
    "duration": 7,
    "start_time": "2022-12-27T01:53:41.968Z"
   },
   {
    "duration": 14,
    "start_time": "2022-12-27T01:54:48.304Z"
   },
   {
    "duration": 9,
    "start_time": "2022-12-27T01:58:00.298Z"
   },
   {
    "duration": 19,
    "start_time": "2022-12-27T01:59:43.200Z"
   },
   {
    "duration": 25,
    "start_time": "2022-12-27T02:02:28.654Z"
   },
   {
    "duration": 24,
    "start_time": "2022-12-27T02:04:18.478Z"
   },
   {
    "duration": 76,
    "start_time": "2022-12-27T02:31:24.599Z"
   },
   {
    "duration": 71,
    "start_time": "2022-12-27T02:31:39.243Z"
   },
   {
    "duration": 16,
    "start_time": "2022-12-27T02:31:39.315Z"
   },
   {
    "duration": 27,
    "start_time": "2022-12-27T02:31:39.333Z"
   },
   {
    "duration": 12,
    "start_time": "2022-12-27T02:31:39.363Z"
   },
   {
    "duration": 40,
    "start_time": "2022-12-27T02:31:39.377Z"
   },
   {
    "duration": 3,
    "start_time": "2022-12-27T02:31:39.419Z"
   },
   {
    "duration": 32,
    "start_time": "2022-12-27T02:31:39.424Z"
   },
   {
    "duration": 3,
    "start_time": "2022-12-27T02:31:39.458Z"
   },
   {
    "duration": 13,
    "start_time": "2022-12-27T02:31:39.463Z"
   },
   {
    "duration": 7,
    "start_time": "2022-12-27T02:31:39.478Z"
   },
   {
    "duration": 36,
    "start_time": "2022-12-27T02:31:39.487Z"
   },
   {
    "duration": 28,
    "start_time": "2022-12-27T02:31:39.524Z"
   },
   {
    "duration": 4,
    "start_time": "2022-12-27T02:31:39.554Z"
   },
   {
    "duration": 14,
    "start_time": "2022-12-27T02:31:39.560Z"
   },
   {
    "duration": 25,
    "start_time": "2022-12-27T02:31:39.576Z"
   },
   {
    "duration": 54,
    "start_time": "2022-12-27T02:31:39.603Z"
   },
   {
    "duration": 5,
    "start_time": "2022-12-27T02:31:39.660Z"
   },
   {
    "duration": 21,
    "start_time": "2022-12-27T02:31:39.667Z"
   },
   {
    "duration": 12,
    "start_time": "2022-12-27T02:31:39.690Z"
   },
   {
    "duration": 4,
    "start_time": "2022-12-27T02:31:39.706Z"
   },
   {
    "duration": 13,
    "start_time": "2022-12-27T02:31:39.712Z"
   },
   {
    "duration": 31,
    "start_time": "2022-12-27T02:31:39.727Z"
   },
   {
    "duration": 14,
    "start_time": "2022-12-27T02:31:39.760Z"
   },
   {
    "duration": 8,
    "start_time": "2022-12-27T02:31:39.776Z"
   },
   {
    "duration": 16,
    "start_time": "2022-12-27T02:31:39.785Z"
   },
   {
    "duration": 16,
    "start_time": "2022-12-27T02:31:39.803Z"
   },
   {
    "duration": 7,
    "start_time": "2022-12-27T02:31:39.850Z"
   },
   {
    "duration": 111,
    "start_time": "2022-12-27T02:31:39.859Z"
   },
   {
    "duration": 10,
    "start_time": "2022-12-27T02:31:39.972Z"
   },
   {
    "duration": 19,
    "start_time": "2022-12-27T02:31:39.984Z"
   },
   {
    "duration": 13,
    "start_time": "2022-12-27T02:31:40.006Z"
   },
   {
    "duration": 33,
    "start_time": "2022-12-27T02:31:40.051Z"
   },
   {
    "duration": 5,
    "start_time": "2022-12-27T02:31:40.086Z"
   },
   {
    "duration": 21,
    "start_time": "2022-12-27T02:31:40.093Z"
   },
   {
    "duration": 8,
    "start_time": "2022-12-27T02:31:40.116Z"
   },
   {
    "duration": 31,
    "start_time": "2022-12-27T02:31:40.151Z"
   },
   {
    "duration": 81,
    "start_time": "2022-12-27T02:31:45.064Z"
   },
   {
    "duration": 103,
    "start_time": "2022-12-27T02:32:31.082Z"
   },
   {
    "duration": 10,
    "start_time": "2022-12-27T02:32:49.162Z"
   },
   {
    "duration": 4,
    "start_time": "2022-12-27T02:34:44.563Z"
   },
   {
    "duration": 10,
    "start_time": "2022-12-27T02:34:56.437Z"
   },
   {
    "duration": 15,
    "start_time": "2022-12-27T02:35:31.904Z"
   },
   {
    "duration": 10,
    "start_time": "2022-12-27T02:37:12.206Z"
   },
   {
    "duration": 16,
    "start_time": "2022-12-27T02:37:35.557Z"
   },
   {
    "duration": 72,
    "start_time": "2022-12-27T02:37:46.902Z"
   },
   {
    "duration": 16,
    "start_time": "2022-12-27T02:37:46.976Z"
   },
   {
    "duration": 20,
    "start_time": "2022-12-27T02:37:46.994Z"
   },
   {
    "duration": 36,
    "start_time": "2022-12-27T02:37:47.016Z"
   },
   {
    "duration": 35,
    "start_time": "2022-12-27T02:37:47.053Z"
   },
   {
    "duration": 3,
    "start_time": "2022-12-27T02:37:47.090Z"
   },
   {
    "duration": 20,
    "start_time": "2022-12-27T02:37:47.095Z"
   },
   {
    "duration": 9,
    "start_time": "2022-12-27T02:37:47.117Z"
   },
   {
    "duration": 27,
    "start_time": "2022-12-27T02:37:47.128Z"
   },
   {
    "duration": 14,
    "start_time": "2022-12-27T02:37:47.158Z"
   },
   {
    "duration": 47,
    "start_time": "2022-12-27T02:37:47.174Z"
   },
   {
    "duration": 10,
    "start_time": "2022-12-27T02:37:47.223Z"
   },
   {
    "duration": 4,
    "start_time": "2022-12-27T02:37:47.250Z"
   },
   {
    "duration": 19,
    "start_time": "2022-12-27T02:37:47.256Z"
   },
   {
    "duration": 23,
    "start_time": "2022-12-27T02:37:47.277Z"
   },
   {
    "duration": 20,
    "start_time": "2022-12-27T02:37:47.302Z"
   },
   {
    "duration": 4,
    "start_time": "2022-12-27T02:37:47.324Z"
   },
   {
    "duration": 34,
    "start_time": "2022-12-27T02:37:47.330Z"
   },
   {
    "duration": 7,
    "start_time": "2022-12-27T02:37:47.367Z"
   },
   {
    "duration": 31,
    "start_time": "2022-12-27T02:37:47.375Z"
   },
   {
    "duration": 24,
    "start_time": "2022-12-27T02:37:47.409Z"
   },
   {
    "duration": 56,
    "start_time": "2022-12-27T02:37:47.435Z"
   },
   {
    "duration": 38,
    "start_time": "2022-12-27T02:37:47.493Z"
   },
   {
    "duration": 39,
    "start_time": "2022-12-27T02:37:47.533Z"
   },
   {
    "duration": 40,
    "start_time": "2022-12-27T02:37:47.574Z"
   },
   {
    "duration": 32,
    "start_time": "2022-12-27T02:37:47.617Z"
   },
   {
    "duration": 10,
    "start_time": "2022-12-27T02:37:47.651Z"
   },
   {
    "duration": 135,
    "start_time": "2022-12-27T02:37:47.663Z"
   },
   {
    "duration": 10,
    "start_time": "2022-12-27T02:37:47.799Z"
   },
   {
    "duration": 27,
    "start_time": "2022-12-27T02:37:47.811Z"
   },
   {
    "duration": 20,
    "start_time": "2022-12-27T02:37:47.839Z"
   },
   {
    "duration": 48,
    "start_time": "2022-12-27T02:37:47.861Z"
   },
   {
    "duration": 10,
    "start_time": "2022-12-27T02:37:47.910Z"
   },
   {
    "duration": 29,
    "start_time": "2022-12-27T02:37:47.922Z"
   },
   {
    "duration": 21,
    "start_time": "2022-12-27T02:37:47.953Z"
   },
   {
    "duration": 39,
    "start_time": "2022-12-27T02:37:47.976Z"
   },
   {
    "duration": 16,
    "start_time": "2022-12-27T02:37:54.251Z"
   },
   {
    "duration": 16,
    "start_time": "2022-12-27T02:38:07.252Z"
   },
   {
    "duration": 15,
    "start_time": "2022-12-27T02:38:35.264Z"
   },
   {
    "duration": 10,
    "start_time": "2022-12-27T02:38:46.977Z"
   },
   {
    "duration": 10,
    "start_time": "2022-12-27T02:56:48.505Z"
   },
   {
    "duration": 14,
    "start_time": "2022-12-27T02:57:11.622Z"
   },
   {
    "duration": 8,
    "start_time": "2022-12-27T02:57:34.244Z"
   },
   {
    "duration": 10,
    "start_time": "2022-12-27T03:07:31.110Z"
   },
   {
    "duration": 9,
    "start_time": "2022-12-27T03:09:55.508Z"
   },
   {
    "duration": 16,
    "start_time": "2022-12-27T03:25:34.253Z"
   },
   {
    "duration": 10,
    "start_time": "2022-12-27T03:26:12.114Z"
   },
   {
    "duration": 10,
    "start_time": "2022-12-27T03:26:39.110Z"
   },
   {
    "duration": 11,
    "start_time": "2022-12-27T03:26:48.112Z"
   },
   {
    "duration": 12,
    "start_time": "2022-12-27T03:27:51.699Z"
   },
   {
    "duration": 5,
    "start_time": "2022-12-27T03:29:56.129Z"
   },
   {
    "duration": 4,
    "start_time": "2022-12-27T03:30:01.685Z"
   },
   {
    "duration": 6,
    "start_time": "2022-12-27T03:38:39.491Z"
   },
   {
    "duration": 9,
    "start_time": "2022-12-27T03:39:14.227Z"
   },
   {
    "duration": 11,
    "start_time": "2022-12-27T03:41:14.868Z"
   },
   {
    "duration": 11,
    "start_time": "2022-12-27T03:41:37.632Z"
   },
   {
    "duration": 10,
    "start_time": "2022-12-27T03:41:46.343Z"
   },
   {
    "duration": 9,
    "start_time": "2022-12-27T03:46:07.763Z"
   },
   {
    "duration": 14,
    "start_time": "2022-12-27T03:47:55.738Z"
   },
   {
    "duration": 105,
    "start_time": "2022-12-27T03:50:35.814Z"
   },
   {
    "duration": 115,
    "start_time": "2022-12-27T03:51:03.570Z"
   },
   {
    "duration": 15,
    "start_time": "2022-12-27T03:53:50.400Z"
   },
   {
    "duration": 15,
    "start_time": "2022-12-27T04:00:33.801Z"
   },
   {
    "duration": 11,
    "start_time": "2022-12-27T04:01:56.345Z"
   },
   {
    "duration": 10,
    "start_time": "2022-12-27T04:03:31.020Z"
   },
   {
    "duration": 90,
    "start_time": "2022-12-27T05:19:34.076Z"
   },
   {
    "duration": 47,
    "start_time": "2022-12-28T11:19:28.635Z"
   },
   {
    "duration": 6,
    "start_time": "2022-12-28T11:19:49.352Z"
   },
   {
    "duration": 802,
    "start_time": "2022-12-28T11:20:03.212Z"
   },
   {
    "duration": 28,
    "start_time": "2022-12-28T11:20:04.016Z"
   },
   {
    "duration": 18,
    "start_time": "2022-12-28T11:20:04.047Z"
   },
   {
    "duration": 18,
    "start_time": "2022-12-28T11:20:04.066Z"
   },
   {
    "duration": 61,
    "start_time": "2022-12-28T11:20:04.087Z"
   },
   {
    "duration": 3,
    "start_time": "2022-12-28T11:20:04.150Z"
   },
   {
    "duration": 22,
    "start_time": "2022-12-28T11:20:04.154Z"
   },
   {
    "duration": 7,
    "start_time": "2022-12-28T11:20:04.177Z"
   },
   {
    "duration": 18,
    "start_time": "2022-12-28T11:20:04.185Z"
   },
   {
    "duration": 16,
    "start_time": "2022-12-28T11:20:04.204Z"
   },
   {
    "duration": 44,
    "start_time": "2022-12-28T11:20:04.223Z"
   },
   {
    "duration": 9,
    "start_time": "2022-12-28T11:20:04.269Z"
   },
   {
    "duration": 6,
    "start_time": "2022-12-28T11:20:04.280Z"
   },
   {
    "duration": 35,
    "start_time": "2022-12-28T11:20:04.289Z"
   },
   {
    "duration": 28,
    "start_time": "2022-12-28T11:20:04.325Z"
   },
   {
    "duration": 21,
    "start_time": "2022-12-28T11:20:04.356Z"
   },
   {
    "duration": 4,
    "start_time": "2022-12-28T11:20:04.378Z"
   },
   {
    "duration": 39,
    "start_time": "2022-12-28T11:20:04.383Z"
   },
   {
    "duration": 9,
    "start_time": "2022-12-28T11:20:04.425Z"
   },
   {
    "duration": 7,
    "start_time": "2022-12-28T11:20:04.436Z"
   },
   {
    "duration": 26,
    "start_time": "2022-12-28T11:20:04.445Z"
   },
   {
    "duration": 8,
    "start_time": "2022-12-28T11:20:04.472Z"
   },
   {
    "duration": 9,
    "start_time": "2022-12-28T11:20:04.481Z"
   },
   {
    "duration": 9,
    "start_time": "2022-12-28T11:20:04.492Z"
   },
   {
    "duration": 12,
    "start_time": "2022-12-28T11:20:04.519Z"
   },
   {
    "duration": 24,
    "start_time": "2022-12-28T11:20:04.534Z"
   },
   {
    "duration": 8,
    "start_time": "2022-12-28T11:21:44.908Z"
   },
   {
    "duration": 15,
    "start_time": "2022-12-28T11:22:06.630Z"
   },
   {
    "duration": 35,
    "start_time": "2022-12-28T11:22:43.819Z"
   },
   {
    "duration": 16,
    "start_time": "2022-12-28T11:22:47.354Z"
   },
   {
    "duration": 13,
    "start_time": "2022-12-28T11:22:48.123Z"
   },
   {
    "duration": 70,
    "start_time": "2022-12-28T11:22:59.128Z"
   },
   {
    "duration": 13,
    "start_time": "2022-12-28T11:22:59.200Z"
   },
   {
    "duration": 27,
    "start_time": "2022-12-28T11:22:59.215Z"
   },
   {
    "duration": 10,
    "start_time": "2022-12-28T11:22:59.244Z"
   },
   {
    "duration": 37,
    "start_time": "2022-12-28T11:22:59.255Z"
   },
   {
    "duration": 4,
    "start_time": "2022-12-28T11:22:59.293Z"
   },
   {
    "duration": 33,
    "start_time": "2022-12-28T11:22:59.299Z"
   },
   {
    "duration": 5,
    "start_time": "2022-12-28T11:22:59.334Z"
   },
   {
    "duration": 6,
    "start_time": "2022-12-28T11:22:59.341Z"
   },
   {
    "duration": 4,
    "start_time": "2022-12-28T11:22:59.350Z"
   },
   {
    "duration": 32,
    "start_time": "2022-12-28T11:22:59.355Z"
   },
   {
    "duration": 43,
    "start_time": "2022-12-28T11:22:59.389Z"
   },
   {
    "duration": 5,
    "start_time": "2022-12-28T11:22:59.435Z"
   },
   {
    "duration": 12,
    "start_time": "2022-12-28T11:22:59.442Z"
   },
   {
    "duration": 19,
    "start_time": "2022-12-28T11:22:59.456Z"
   },
   {
    "duration": 42,
    "start_time": "2022-12-28T11:22:59.476Z"
   },
   {
    "duration": 5,
    "start_time": "2022-12-28T11:22:59.521Z"
   },
   {
    "duration": 26,
    "start_time": "2022-12-28T11:22:59.529Z"
   },
   {
    "duration": 14,
    "start_time": "2022-12-28T11:22:59.556Z"
   },
   {
    "duration": 8,
    "start_time": "2022-12-28T11:22:59.572Z"
   },
   {
    "duration": 11,
    "start_time": "2022-12-28T11:22:59.582Z"
   },
   {
    "duration": 7,
    "start_time": "2022-12-28T11:22:59.594Z"
   },
   {
    "duration": 17,
    "start_time": "2022-12-28T11:22:59.603Z"
   },
   {
    "duration": 12,
    "start_time": "2022-12-28T11:22:59.622Z"
   },
   {
    "duration": 17,
    "start_time": "2022-12-28T11:22:59.636Z"
   },
   {
    "duration": 8,
    "start_time": "2022-12-28T11:23:11.019Z"
   },
   {
    "duration": 11,
    "start_time": "2022-12-28T11:24:29.234Z"
   },
   {
    "duration": 71,
    "start_time": "2022-12-28T11:24:58.774Z"
   },
   {
    "duration": 14,
    "start_time": "2022-12-28T11:24:58.847Z"
   },
   {
    "duration": 15,
    "start_time": "2022-12-28T11:24:58.863Z"
   },
   {
    "duration": 10,
    "start_time": "2022-12-28T11:24:58.881Z"
   },
   {
    "duration": 34,
    "start_time": "2022-12-28T11:24:58.915Z"
   },
   {
    "duration": 3,
    "start_time": "2022-12-28T11:24:58.951Z"
   },
   {
    "duration": 13,
    "start_time": "2022-12-28T11:24:58.956Z"
   },
   {
    "duration": 4,
    "start_time": "2022-12-28T11:24:58.971Z"
   },
   {
    "duration": 7,
    "start_time": "2022-12-28T11:24:58.976Z"
   },
   {
    "duration": 4,
    "start_time": "2022-12-28T11:24:58.987Z"
   },
   {
    "duration": 56,
    "start_time": "2022-12-28T11:24:58.992Z"
   },
   {
    "duration": 9,
    "start_time": "2022-12-28T11:24:59.049Z"
   },
   {
    "duration": 5,
    "start_time": "2022-12-28T11:24:59.060Z"
   },
   {
    "duration": 11,
    "start_time": "2022-12-28T11:24:59.066Z"
   },
   {
    "duration": 40,
    "start_time": "2022-12-28T11:24:59.078Z"
   },
   {
    "duration": 18,
    "start_time": "2022-12-28T11:24:59.120Z"
   },
   {
    "duration": 3,
    "start_time": "2022-12-28T11:24:59.139Z"
   },
   {
    "duration": 12,
    "start_time": "2022-12-28T11:24:59.144Z"
   },
   {
    "duration": 7,
    "start_time": "2022-12-28T11:24:59.158Z"
   },
   {
    "duration": 9,
    "start_time": "2022-12-28T11:24:59.166Z"
   },
   {
    "duration": 12,
    "start_time": "2022-12-28T11:24:59.176Z"
   },
   {
    "duration": 32,
    "start_time": "2022-12-28T11:24:59.189Z"
   },
   {
    "duration": 10,
    "start_time": "2022-12-28T11:24:59.223Z"
   },
   {
    "duration": 7,
    "start_time": "2022-12-28T11:24:59.235Z"
   },
   {
    "duration": 11,
    "start_time": "2022-12-28T11:24:59.244Z"
   },
   {
    "duration": 9,
    "start_time": "2022-12-28T11:25:06.020Z"
   },
   {
    "duration": 9,
    "start_time": "2022-12-28T11:25:58.799Z"
   },
   {
    "duration": 8,
    "start_time": "2022-12-28T11:28:55.252Z"
   },
   {
    "duration": 8,
    "start_time": "2022-12-28T11:31:28.808Z"
   },
   {
    "duration": 8,
    "start_time": "2022-12-28T11:48:52.240Z"
   },
   {
    "duration": 700,
    "start_time": "2022-12-28T11:54:22.852Z"
   },
   {
    "duration": 73,
    "start_time": "2022-12-28T11:55:45.170Z"
   },
   {
    "duration": 15,
    "start_time": "2022-12-28T11:55:45.245Z"
   },
   {
    "duration": 18,
    "start_time": "2022-12-28T11:55:45.262Z"
   },
   {
    "duration": 9,
    "start_time": "2022-12-28T11:55:45.282Z"
   },
   {
    "duration": 57,
    "start_time": "2022-12-28T11:55:45.293Z"
   },
   {
    "duration": 4,
    "start_time": "2022-12-28T11:55:45.352Z"
   },
   {
    "duration": 20,
    "start_time": "2022-12-28T11:55:45.357Z"
   },
   {
    "duration": 5,
    "start_time": "2022-12-28T11:55:45.378Z"
   },
   {
    "duration": 7,
    "start_time": "2022-12-28T11:55:45.384Z"
   },
   {
    "duration": 24,
    "start_time": "2022-12-28T11:55:45.394Z"
   },
   {
    "duration": 39,
    "start_time": "2022-12-28T11:55:45.420Z"
   },
   {
    "duration": 9,
    "start_time": "2022-12-28T11:55:45.461Z"
   },
   {
    "duration": 5,
    "start_time": "2022-12-28T11:55:45.473Z"
   },
   {
    "duration": 11,
    "start_time": "2022-12-28T11:55:45.479Z"
   },
   {
    "duration": 17,
    "start_time": "2022-12-28T11:55:45.516Z"
   },
   {
    "duration": 17,
    "start_time": "2022-12-28T11:55:45.534Z"
   },
   {
    "duration": 3,
    "start_time": "2022-12-28T11:55:45.552Z"
   },
   {
    "duration": 14,
    "start_time": "2022-12-28T11:55:45.557Z"
   },
   {
    "duration": 5,
    "start_time": "2022-12-28T11:55:45.572Z"
   },
   {
    "duration": 5,
    "start_time": "2022-12-28T11:55:45.579Z"
   },
   {
    "duration": 35,
    "start_time": "2022-12-28T11:55:45.586Z"
   },
   {
    "duration": 17,
    "start_time": "2022-12-28T11:55:45.623Z"
   },
   {
    "duration": 18,
    "start_time": "2022-12-28T11:55:45.642Z"
   },
   {
    "duration": 7,
    "start_time": "2022-12-28T11:55:45.662Z"
   },
   {
    "duration": 13,
    "start_time": "2022-12-28T11:55:45.671Z"
   },
   {
    "duration": 11,
    "start_time": "2022-12-28T11:55:45.686Z"
   },
   {
    "duration": 22,
    "start_time": "2022-12-28T11:55:45.699Z"
   },
   {
    "duration": 8,
    "start_time": "2022-12-28T11:55:45.724Z"
   },
   {
    "duration": 822,
    "start_time": "2022-12-28T11:55:49.258Z"
   },
   {
    "duration": 10,
    "start_time": "2022-12-28T11:56:49.171Z"
   },
   {
    "duration": 11,
    "start_time": "2022-12-28T12:02:31.523Z"
   },
   {
    "duration": 10,
    "start_time": "2022-12-28T12:05:24.431Z"
   },
   {
    "duration": 8,
    "start_time": "2022-12-28T12:22:11.053Z"
   },
   {
    "duration": 75,
    "start_time": "2022-12-28T12:22:29.126Z"
   },
   {
    "duration": 16,
    "start_time": "2022-12-28T12:22:29.203Z"
   },
   {
    "duration": 15,
    "start_time": "2022-12-28T12:22:29.221Z"
   },
   {
    "duration": 10,
    "start_time": "2022-12-28T12:22:29.238Z"
   },
   {
    "duration": 33,
    "start_time": "2022-12-28T12:22:29.250Z"
   },
   {
    "duration": 3,
    "start_time": "2022-12-28T12:22:29.285Z"
   },
   {
    "duration": 8,
    "start_time": "2022-12-28T12:22:29.316Z"
   },
   {
    "duration": 4,
    "start_time": "2022-12-28T12:22:29.326Z"
   },
   {
    "duration": 6,
    "start_time": "2022-12-28T12:22:29.332Z"
   },
   {
    "duration": 4,
    "start_time": "2022-12-28T12:22:29.339Z"
   },
   {
    "duration": 35,
    "start_time": "2022-12-28T12:22:29.344Z"
   },
   {
    "duration": 44,
    "start_time": "2022-12-28T12:22:29.380Z"
   },
   {
    "duration": 3,
    "start_time": "2022-12-28T12:22:29.426Z"
   },
   {
    "duration": 12,
    "start_time": "2022-12-28T12:22:29.432Z"
   },
   {
    "duration": 18,
    "start_time": "2022-12-28T12:22:29.445Z"
   },
   {
    "duration": 16,
    "start_time": "2022-12-28T12:22:29.464Z"
   },
   {
    "duration": 34,
    "start_time": "2022-12-28T12:22:29.482Z"
   },
   {
    "duration": 10,
    "start_time": "2022-12-28T12:22:29.517Z"
   },
   {
    "duration": 8,
    "start_time": "2022-12-28T12:22:29.528Z"
   },
   {
    "duration": 3,
    "start_time": "2022-12-28T12:22:29.538Z"
   },
   {
    "duration": 9,
    "start_time": "2022-12-28T12:22:29.543Z"
   },
   {
    "duration": 8,
    "start_time": "2022-12-28T12:22:29.554Z"
   },
   {
    "duration": 11,
    "start_time": "2022-12-28T12:22:29.563Z"
   },
   {
    "duration": 44,
    "start_time": "2022-12-28T12:22:29.575Z"
   },
   {
    "duration": 16,
    "start_time": "2022-12-28T12:22:29.621Z"
   },
   {
    "duration": 10,
    "start_time": "2022-12-28T12:22:29.639Z"
   },
   {
    "duration": 8,
    "start_time": "2022-12-28T12:22:29.651Z"
   },
   {
    "duration": 11,
    "start_time": "2022-12-28T12:22:29.660Z"
   },
   {
    "duration": 42,
    "start_time": "2022-12-28T12:22:29.673Z"
   },
   {
    "duration": 501,
    "start_time": "2022-12-28T12:22:29.717Z"
   },
   {
    "duration": 10,
    "start_time": "2022-12-28T12:22:30.220Z"
   },
   {
    "duration": 37,
    "start_time": "2022-12-28T12:22:30.231Z"
   },
   {
    "duration": 13,
    "start_time": "2022-12-28T12:22:30.270Z"
   },
   {
    "duration": 69,
    "start_time": "2022-12-28T12:22:30.285Z"
   },
   {
    "duration": 5,
    "start_time": "2022-12-28T12:22:30.357Z"
   },
   {
    "duration": 39,
    "start_time": "2022-12-28T12:22:30.364Z"
   },
   {
    "duration": 27,
    "start_time": "2022-12-28T12:22:30.404Z"
   },
   {
    "duration": 38,
    "start_time": "2022-12-28T12:22:30.433Z"
   },
   {
    "duration": 40,
    "start_time": "2022-12-28T12:22:30.473Z"
   },
   {
    "duration": 21,
    "start_time": "2022-12-28T12:22:34.005Z"
   },
   {
    "duration": 15,
    "start_time": "2022-12-28T12:23:03.318Z"
   },
   {
    "duration": 9,
    "start_time": "2022-12-28T12:24:10.589Z"
   },
   {
    "duration": 20,
    "start_time": "2022-12-28T12:24:17.317Z"
   },
   {
    "duration": 12,
    "start_time": "2022-12-28T12:28:45.048Z"
   },
   {
    "duration": 13,
    "start_time": "2022-12-28T12:29:32.805Z"
   },
   {
    "duration": 14,
    "start_time": "2022-12-28T12:30:03.354Z"
   },
   {
    "duration": 60,
    "start_time": "2022-12-28T12:36:11.670Z"
   },
   {
    "duration": 76,
    "start_time": "2022-12-28T12:36:20.614Z"
   },
   {
    "duration": 15,
    "start_time": "2022-12-28T12:36:20.692Z"
   },
   {
    "duration": 19,
    "start_time": "2022-12-28T12:36:20.708Z"
   },
   {
    "duration": 10,
    "start_time": "2022-12-28T12:36:20.728Z"
   },
   {
    "duration": 34,
    "start_time": "2022-12-28T12:36:20.740Z"
   },
   {
    "duration": 3,
    "start_time": "2022-12-28T12:36:20.776Z"
   },
   {
    "duration": 24,
    "start_time": "2022-12-28T12:36:20.780Z"
   },
   {
    "duration": 4,
    "start_time": "2022-12-28T12:36:20.816Z"
   },
   {
    "duration": 12,
    "start_time": "2022-12-28T12:36:20.821Z"
   },
   {
    "duration": 5,
    "start_time": "2022-12-28T12:36:20.834Z"
   },
   {
    "duration": 40,
    "start_time": "2022-12-28T12:36:20.841Z"
   },
   {
    "duration": 11,
    "start_time": "2022-12-28T12:36:20.883Z"
   },
   {
    "duration": 21,
    "start_time": "2022-12-28T12:36:20.896Z"
   },
   {
    "duration": 11,
    "start_time": "2022-12-28T12:36:20.921Z"
   },
   {
    "duration": 23,
    "start_time": "2022-12-28T12:36:20.933Z"
   },
   {
    "duration": 19,
    "start_time": "2022-12-28T12:36:20.957Z"
   },
   {
    "duration": 3,
    "start_time": "2022-12-28T12:36:20.978Z"
   },
   {
    "duration": 34,
    "start_time": "2022-12-28T12:36:20.983Z"
   },
   {
    "duration": 8,
    "start_time": "2022-12-28T12:36:21.018Z"
   },
   {
    "duration": 4,
    "start_time": "2022-12-28T12:36:21.027Z"
   },
   {
    "duration": 13,
    "start_time": "2022-12-28T12:36:21.032Z"
   },
   {
    "duration": 10,
    "start_time": "2022-12-28T12:36:21.046Z"
   },
   {
    "duration": 14,
    "start_time": "2022-12-28T12:36:21.058Z"
   },
   {
    "duration": 8,
    "start_time": "2022-12-28T12:36:21.073Z"
   },
   {
    "duration": 37,
    "start_time": "2022-12-28T12:36:21.083Z"
   },
   {
    "duration": 10,
    "start_time": "2022-12-28T12:36:21.123Z"
   },
   {
    "duration": 10,
    "start_time": "2022-12-28T12:36:21.134Z"
   },
   {
    "duration": 9,
    "start_time": "2022-12-28T12:36:21.146Z"
   },
   {
    "duration": 12,
    "start_time": "2022-12-28T12:36:21.157Z"
   },
   {
    "duration": 137,
    "start_time": "2022-12-28T12:36:21.171Z"
   },
   {
    "duration": 10,
    "start_time": "2022-12-28T12:36:21.315Z"
   },
   {
    "duration": 18,
    "start_time": "2022-12-28T12:36:21.327Z"
   },
   {
    "duration": 12,
    "start_time": "2022-12-28T12:36:21.347Z"
   },
   {
    "duration": 66,
    "start_time": "2022-12-28T12:36:21.361Z"
   },
   {
    "duration": 5,
    "start_time": "2022-12-28T12:36:21.428Z"
   },
   {
    "duration": 17,
    "start_time": "2022-12-28T12:36:21.435Z"
   },
   {
    "duration": 8,
    "start_time": "2022-12-28T12:36:21.454Z"
   },
   {
    "duration": 23,
    "start_time": "2022-12-28T12:36:21.464Z"
   },
   {
    "duration": 34,
    "start_time": "2022-12-28T12:36:21.489Z"
   },
   {
    "duration": 45,
    "start_time": "2022-12-28T12:36:28.000Z"
   },
   {
    "duration": 45,
    "start_time": "2022-12-28T12:36:32.932Z"
   },
   {
    "duration": 9,
    "start_time": "2022-12-28T12:36:48.308Z"
   },
   {
    "duration": 7,
    "start_time": "2022-12-28T12:38:26.561Z"
   },
   {
    "duration": 7,
    "start_time": "2022-12-28T12:38:39.406Z"
   },
   {
    "duration": 11,
    "start_time": "2022-12-28T12:41:32.820Z"
   },
   {
    "duration": 9,
    "start_time": "2022-12-28T12:53:10.747Z"
   },
   {
    "duration": 8,
    "start_time": "2022-12-28T12:53:18.244Z"
   },
   {
    "duration": 10,
    "start_time": "2022-12-28T12:55:01.345Z"
   },
   {
    "duration": 10,
    "start_time": "2022-12-28T12:55:38.497Z"
   },
   {
    "duration": 10,
    "start_time": "2022-12-28T12:55:44.531Z"
   },
   {
    "duration": 12,
    "start_time": "2022-12-28T12:57:00.531Z"
   },
   {
    "duration": 11,
    "start_time": "2022-12-28T12:57:14.100Z"
   },
   {
    "duration": 14,
    "start_time": "2022-12-28T12:57:38.632Z"
   },
   {
    "duration": 48,
    "start_time": "2022-12-28T12:59:30.425Z"
   },
   {
    "duration": 14,
    "start_time": "2022-12-28T13:04:36.351Z"
   },
   {
    "duration": 12,
    "start_time": "2022-12-28T13:32:41.382Z"
   },
   {
    "duration": 13,
    "start_time": "2022-12-28T13:33:41.804Z"
   },
   {
    "duration": 16,
    "start_time": "2022-12-28T14:04:24.686Z"
   },
   {
    "duration": 20,
    "start_time": "2022-12-28T14:05:15.313Z"
   },
   {
    "duration": 15,
    "start_time": "2022-12-28T14:05:56.209Z"
   },
   {
    "duration": 21,
    "start_time": "2022-12-28T14:06:07.762Z"
   },
   {
    "duration": 16,
    "start_time": "2022-12-28T14:06:13.422Z"
   },
   {
    "duration": 14,
    "start_time": "2022-12-28T14:09:27.987Z"
   },
   {
    "duration": 50,
    "start_time": "2022-12-28T14:12:56.094Z"
   },
   {
    "duration": 46,
    "start_time": "2022-12-28T14:13:11.430Z"
   },
   {
    "duration": 10,
    "start_time": "2022-12-28T14:13:18.352Z"
   },
   {
    "duration": 71,
    "start_time": "2022-12-28T14:13:38.984Z"
   },
   {
    "duration": 15,
    "start_time": "2022-12-28T14:13:39.056Z"
   },
   {
    "duration": 28,
    "start_time": "2022-12-28T14:13:39.072Z"
   },
   {
    "duration": 22,
    "start_time": "2022-12-28T14:13:39.102Z"
   },
   {
    "duration": 45,
    "start_time": "2022-12-28T14:13:39.125Z"
   },
   {
    "duration": 3,
    "start_time": "2022-12-28T14:13:39.172Z"
   },
   {
    "duration": 26,
    "start_time": "2022-12-28T14:13:39.176Z"
   },
   {
    "duration": 13,
    "start_time": "2022-12-28T14:13:39.203Z"
   },
   {
    "duration": 11,
    "start_time": "2022-12-28T14:13:39.217Z"
   },
   {
    "duration": 18,
    "start_time": "2022-12-28T14:13:39.231Z"
   },
   {
    "duration": 41,
    "start_time": "2022-12-28T14:13:39.250Z"
   },
   {
    "duration": 11,
    "start_time": "2022-12-28T14:13:39.293Z"
   },
   {
    "duration": 3,
    "start_time": "2022-12-28T14:13:39.306Z"
   },
   {
    "duration": 17,
    "start_time": "2022-12-28T14:13:39.310Z"
   },
   {
    "duration": 20,
    "start_time": "2022-12-28T14:13:39.328Z"
   },
   {
    "duration": 16,
    "start_time": "2022-12-28T14:13:39.350Z"
   },
   {
    "duration": 3,
    "start_time": "2022-12-28T14:13:39.368Z"
   },
   {
    "duration": 19,
    "start_time": "2022-12-28T14:13:39.372Z"
   },
   {
    "duration": 6,
    "start_time": "2022-12-28T14:13:39.392Z"
   },
   {
    "duration": 17,
    "start_time": "2022-12-28T14:13:39.399Z"
   },
   {
    "duration": 19,
    "start_time": "2022-12-28T14:13:39.417Z"
   },
   {
    "duration": 9,
    "start_time": "2022-12-28T14:13:39.437Z"
   },
   {
    "duration": 14,
    "start_time": "2022-12-28T14:13:39.447Z"
   },
   {
    "duration": 7,
    "start_time": "2022-12-28T14:13:39.462Z"
   },
   {
    "duration": 20,
    "start_time": "2022-12-28T14:13:39.470Z"
   },
   {
    "duration": 18,
    "start_time": "2022-12-28T14:13:39.492Z"
   },
   {
    "duration": 13,
    "start_time": "2022-12-28T14:13:39.511Z"
   },
   {
    "duration": 10,
    "start_time": "2022-12-28T14:13:39.527Z"
   },
   {
    "duration": 21,
    "start_time": "2022-12-28T14:13:39.538Z"
   },
   {
    "duration": 116,
    "start_time": "2022-12-28T14:13:39.560Z"
   },
   {
    "duration": 10,
    "start_time": "2022-12-28T14:13:39.677Z"
   },
   {
    "duration": 21,
    "start_time": "2022-12-28T14:13:39.688Z"
   },
   {
    "duration": 11,
    "start_time": "2022-12-28T14:13:39.716Z"
   },
   {
    "duration": 33,
    "start_time": "2022-12-28T14:13:39.729Z"
   },
   {
    "duration": 6,
    "start_time": "2022-12-28T14:13:39.764Z"
   },
   {
    "duration": 44,
    "start_time": "2022-12-28T14:13:39.772Z"
   },
   {
    "duration": 10,
    "start_time": "2022-12-28T14:13:39.818Z"
   },
   {
    "duration": 25,
    "start_time": "2022-12-28T14:13:39.830Z"
   },
   {
    "duration": 11,
    "start_time": "2022-12-28T14:13:39.857Z"
   },
   {
    "duration": 19,
    "start_time": "2022-12-28T14:13:44.896Z"
   },
   {
    "duration": 9,
    "start_time": "2022-12-28T14:14:33.703Z"
   },
   {
    "duration": 9,
    "start_time": "2022-12-28T14:14:42.619Z"
   },
   {
    "duration": 72,
    "start_time": "2022-12-28T14:14:57.947Z"
   },
   {
    "duration": 14,
    "start_time": "2022-12-28T14:14:58.021Z"
   },
   {
    "duration": 26,
    "start_time": "2022-12-28T14:14:58.037Z"
   },
   {
    "duration": 9,
    "start_time": "2022-12-28T14:14:58.065Z"
   },
   {
    "duration": 47,
    "start_time": "2022-12-28T14:14:58.076Z"
   },
   {
    "duration": 3,
    "start_time": "2022-12-28T14:14:58.125Z"
   },
   {
    "duration": 20,
    "start_time": "2022-12-28T14:14:58.129Z"
   },
   {
    "duration": 7,
    "start_time": "2022-12-28T14:14:58.150Z"
   },
   {
    "duration": 24,
    "start_time": "2022-12-28T14:14:58.159Z"
   },
   {
    "duration": 8,
    "start_time": "2022-12-28T14:14:58.185Z"
   },
   {
    "duration": 42,
    "start_time": "2022-12-28T14:14:58.195Z"
   },
   {
    "duration": 9,
    "start_time": "2022-12-28T14:14:58.239Z"
   },
   {
    "duration": 8,
    "start_time": "2022-12-28T14:14:58.249Z"
   },
   {
    "duration": 11,
    "start_time": "2022-12-28T14:14:58.260Z"
   },
   {
    "duration": 17,
    "start_time": "2022-12-28T14:14:58.273Z"
   },
   {
    "duration": 30,
    "start_time": "2022-12-28T14:14:58.292Z"
   },
   {
    "duration": 4,
    "start_time": "2022-12-28T14:14:58.323Z"
   },
   {
    "duration": 13,
    "start_time": "2022-12-28T14:14:58.328Z"
   },
   {
    "duration": 5,
    "start_time": "2022-12-28T14:14:58.343Z"
   },
   {
    "duration": 4,
    "start_time": "2022-12-28T14:14:58.350Z"
   },
   {
    "duration": 27,
    "start_time": "2022-12-28T14:14:58.356Z"
   },
   {
    "duration": 12,
    "start_time": "2022-12-28T14:14:58.385Z"
   },
   {
    "duration": 24,
    "start_time": "2022-12-28T14:14:58.399Z"
   },
   {
    "duration": 8,
    "start_time": "2022-12-28T14:14:58.425Z"
   },
   {
    "duration": 13,
    "start_time": "2022-12-28T14:14:58.434Z"
   },
   {
    "duration": 11,
    "start_time": "2022-12-28T14:14:58.448Z"
   },
   {
    "duration": 11,
    "start_time": "2022-12-28T14:14:58.461Z"
   },
   {
    "duration": 42,
    "start_time": "2022-12-28T14:14:58.474Z"
   },
   {
    "duration": 11,
    "start_time": "2022-12-28T14:14:58.518Z"
   },
   {
    "duration": 121,
    "start_time": "2022-12-28T14:14:58.530Z"
   },
   {
    "duration": 9,
    "start_time": "2022-12-28T14:14:58.653Z"
   },
   {
    "duration": 17,
    "start_time": "2022-12-28T14:14:58.663Z"
   },
   {
    "duration": 11,
    "start_time": "2022-12-28T14:14:58.682Z"
   },
   {
    "duration": 30,
    "start_time": "2022-12-28T14:14:58.716Z"
   },
   {
    "duration": 5,
    "start_time": "2022-12-28T14:14:58.747Z"
   },
   {
    "duration": 26,
    "start_time": "2022-12-28T14:14:58.753Z"
   },
   {
    "duration": 9,
    "start_time": "2022-12-28T14:14:58.780Z"
   },
   {
    "duration": 40,
    "start_time": "2022-12-28T14:14:58.790Z"
   },
   {
    "duration": 11,
    "start_time": "2022-12-28T14:14:58.832Z"
   },
   {
    "duration": 18,
    "start_time": "2022-12-28T14:15:02.091Z"
   },
   {
    "duration": 9,
    "start_time": "2022-12-28T14:15:29.949Z"
   },
   {
    "duration": 73,
    "start_time": "2022-12-28T14:15:37.233Z"
   },
   {
    "duration": 15,
    "start_time": "2022-12-28T14:15:37.308Z"
   },
   {
    "duration": 19,
    "start_time": "2022-12-28T14:15:37.324Z"
   },
   {
    "duration": 10,
    "start_time": "2022-12-28T14:15:37.345Z"
   },
   {
    "duration": 33,
    "start_time": "2022-12-28T14:15:37.357Z"
   },
   {
    "duration": 3,
    "start_time": "2022-12-28T14:15:37.391Z"
   },
   {
    "duration": 8,
    "start_time": "2022-12-28T14:15:37.415Z"
   },
   {
    "duration": 4,
    "start_time": "2022-12-28T14:15:37.424Z"
   },
   {
    "duration": 8,
    "start_time": "2022-12-28T14:15:37.430Z"
   },
   {
    "duration": 4,
    "start_time": "2022-12-28T14:15:37.440Z"
   },
   {
    "duration": 102,
    "start_time": "2022-12-28T14:15:37.445Z"
   },
   {
    "duration": 10,
    "start_time": "2022-12-28T14:15:37.548Z"
   },
   {
    "duration": 6,
    "start_time": "2022-12-28T14:15:37.559Z"
   },
   {
    "duration": 13,
    "start_time": "2022-12-28T14:15:37.566Z"
   },
   {
    "duration": 40,
    "start_time": "2022-12-28T14:15:37.580Z"
   },
   {
    "duration": 18,
    "start_time": "2022-12-28T14:15:37.621Z"
   },
   {
    "duration": 3,
    "start_time": "2022-12-28T14:15:37.640Z"
   },
   {
    "duration": 11,
    "start_time": "2022-12-28T14:15:37.645Z"
   },
   {
    "duration": 6,
    "start_time": "2022-12-28T14:15:37.657Z"
   },
   {
    "duration": 3,
    "start_time": "2022-12-28T14:15:37.664Z"
   },
   {
    "duration": 9,
    "start_time": "2022-12-28T14:15:37.669Z"
   },
   {
    "duration": 36,
    "start_time": "2022-12-28T14:15:37.680Z"
   },
   {
    "duration": 9,
    "start_time": "2022-12-28T14:15:37.717Z"
   },
   {
    "duration": 5,
    "start_time": "2022-12-28T14:15:37.728Z"
   },
   {
    "duration": 11,
    "start_time": "2022-12-28T14:15:37.735Z"
   },
   {
    "duration": 9,
    "start_time": "2022-12-28T14:15:37.747Z"
   },
   {
    "duration": 8,
    "start_time": "2022-12-28T14:15:37.758Z"
   },
   {
    "duration": 8,
    "start_time": "2022-12-28T14:15:37.769Z"
   },
   {
    "duration": 42,
    "start_time": "2022-12-28T14:15:37.779Z"
   },
   {
    "duration": 116,
    "start_time": "2022-12-28T14:15:37.822Z"
   },
   {
    "duration": 9,
    "start_time": "2022-12-28T14:15:37.940Z"
   },
   {
    "duration": 18,
    "start_time": "2022-12-28T14:15:37.950Z"
   },
   {
    "duration": 11,
    "start_time": "2022-12-28T14:15:37.970Z"
   },
   {
    "duration": 62,
    "start_time": "2022-12-28T14:15:37.983Z"
   },
   {
    "duration": 5,
    "start_time": "2022-12-28T14:15:38.047Z"
   },
   {
    "duration": 16,
    "start_time": "2022-12-28T14:15:38.053Z"
   },
   {
    "duration": 9,
    "start_time": "2022-12-28T14:15:38.071Z"
   },
   {
    "duration": 52,
    "start_time": "2022-12-28T14:15:38.082Z"
   },
   {
    "duration": 11,
    "start_time": "2022-12-28T14:15:38.136Z"
   },
   {
    "duration": 16,
    "start_time": "2022-12-28T14:15:40.458Z"
   },
   {
    "duration": 10,
    "start_time": "2022-12-28T14:16:35.451Z"
   },
   {
    "duration": 75,
    "start_time": "2022-12-28T14:16:40.031Z"
   },
   {
    "duration": 15,
    "start_time": "2022-12-28T14:16:40.107Z"
   },
   {
    "duration": 17,
    "start_time": "2022-12-28T14:16:40.123Z"
   },
   {
    "duration": 9,
    "start_time": "2022-12-28T14:16:40.141Z"
   },
   {
    "duration": 35,
    "start_time": "2022-12-28T14:16:40.151Z"
   },
   {
    "duration": 3,
    "start_time": "2022-12-28T14:16:40.187Z"
   },
   {
    "duration": 27,
    "start_time": "2022-12-28T14:16:40.191Z"
   },
   {
    "duration": 7,
    "start_time": "2022-12-28T14:16:40.219Z"
   },
   {
    "duration": 7,
    "start_time": "2022-12-28T14:16:40.227Z"
   },
   {
    "duration": 4,
    "start_time": "2022-12-28T14:16:40.236Z"
   },
   {
    "duration": 34,
    "start_time": "2022-12-28T14:16:40.241Z"
   },
   {
    "duration": 10,
    "start_time": "2022-12-28T14:16:40.276Z"
   },
   {
    "duration": 31,
    "start_time": "2022-12-28T14:16:40.287Z"
   },
   {
    "duration": 11,
    "start_time": "2022-12-28T14:16:40.319Z"
   },
   {
    "duration": 18,
    "start_time": "2022-12-28T14:16:40.332Z"
   },
   {
    "duration": 17,
    "start_time": "2022-12-28T14:16:40.351Z"
   },
   {
    "duration": 3,
    "start_time": "2022-12-28T14:16:40.369Z"
   },
   {
    "duration": 11,
    "start_time": "2022-12-28T14:16:40.374Z"
   },
   {
    "duration": 30,
    "start_time": "2022-12-28T14:16:40.386Z"
   },
   {
    "duration": 5,
    "start_time": "2022-12-28T14:16:40.418Z"
   },
   {
    "duration": 11,
    "start_time": "2022-12-28T14:16:40.424Z"
   },
   {
    "duration": 8,
    "start_time": "2022-12-28T14:16:40.436Z"
   },
   {
    "duration": 9,
    "start_time": "2022-12-28T14:16:40.445Z"
   },
   {
    "duration": 7,
    "start_time": "2022-12-28T14:16:40.455Z"
   },
   {
    "duration": 19,
    "start_time": "2022-12-28T14:16:40.463Z"
   },
   {
    "duration": 9,
    "start_time": "2022-12-28T14:16:40.515Z"
   },
   {
    "duration": 8,
    "start_time": "2022-12-28T14:16:40.526Z"
   },
   {
    "duration": 8,
    "start_time": "2022-12-28T14:16:40.537Z"
   },
   {
    "duration": 20,
    "start_time": "2022-12-28T14:16:40.547Z"
   },
   {
    "duration": 129,
    "start_time": "2022-12-28T14:16:40.568Z"
   },
   {
    "duration": 18,
    "start_time": "2022-12-28T14:16:40.699Z"
   },
   {
    "duration": 21,
    "start_time": "2022-12-28T14:16:40.719Z"
   },
   {
    "duration": 11,
    "start_time": "2022-12-28T14:16:40.742Z"
   },
   {
    "duration": 39,
    "start_time": "2022-12-28T14:16:40.754Z"
   },
   {
    "duration": 6,
    "start_time": "2022-12-28T14:16:40.815Z"
   },
   {
    "duration": 17,
    "start_time": "2022-12-28T14:16:40.822Z"
   },
   {
    "duration": 9,
    "start_time": "2022-12-28T14:16:40.840Z"
   },
   {
    "duration": 25,
    "start_time": "2022-12-28T14:16:40.851Z"
   },
   {
    "duration": 46,
    "start_time": "2022-12-28T14:16:40.878Z"
   },
   {
    "duration": 16,
    "start_time": "2022-12-28T14:17:07.245Z"
   },
   {
    "duration": 8,
    "start_time": "2022-12-28T14:17:14.848Z"
   },
   {
    "duration": 8,
    "start_time": "2022-12-28T14:17:25.835Z"
   },
   {
    "duration": 713,
    "start_time": "2022-12-28T14:17:27.391Z"
   },
   {
    "duration": 9,
    "start_time": "2022-12-28T14:18:09.001Z"
   },
   {
    "duration": 16,
    "start_time": "2022-12-28T14:18:41.596Z"
   },
   {
    "duration": 15,
    "start_time": "2022-12-28T14:18:50.442Z"
   },
   {
    "duration": 16,
    "start_time": "2022-12-28T14:19:00.443Z"
   },
   {
    "duration": 17,
    "start_time": "2022-12-28T14:19:24.864Z"
   },
   {
    "duration": 9,
    "start_time": "2022-12-28T14:19:49.703Z"
   },
   {
    "duration": 6,
    "start_time": "2022-12-28T14:20:07.989Z"
   },
   {
    "duration": 8,
    "start_time": "2022-12-28T14:20:49.539Z"
   },
   {
    "duration": 7,
    "start_time": "2022-12-28T14:21:09.900Z"
   },
   {
    "duration": 10,
    "start_time": "2022-12-28T14:21:20.829Z"
   },
   {
    "duration": 11,
    "start_time": "2022-12-28T14:21:36.281Z"
   },
   {
    "duration": 11,
    "start_time": "2022-12-28T14:21:53.942Z"
   },
   {
    "duration": 6,
    "start_time": "2022-12-28T14:22:08.202Z"
   },
   {
    "duration": 7,
    "start_time": "2022-12-28T14:22:19.068Z"
   },
   {
    "duration": 9,
    "start_time": "2022-12-28T14:22:33.796Z"
   },
   {
    "duration": 11,
    "start_time": "2022-12-28T14:24:11.193Z"
   },
   {
    "duration": 11,
    "start_time": "2022-12-28T14:24:26.029Z"
   },
   {
    "duration": 11,
    "start_time": "2022-12-28T14:24:37.764Z"
   },
   {
    "duration": 10,
    "start_time": "2022-12-28T14:25:14.130Z"
   },
   {
    "duration": 10,
    "start_time": "2022-12-28T14:27:53.388Z"
   },
   {
    "duration": 9,
    "start_time": "2022-12-28T14:27:59.789Z"
   },
   {
    "duration": 10,
    "start_time": "2022-12-28T14:29:36.428Z"
   },
   {
    "duration": 7,
    "start_time": "2022-12-28T14:30:03.702Z"
   },
   {
    "duration": 6,
    "start_time": "2022-12-28T14:30:39.603Z"
   },
   {
    "duration": 25,
    "start_time": "2022-12-28T14:33:26.202Z"
   },
   {
    "duration": 18,
    "start_time": "2022-12-28T14:33:49.734Z"
   },
   {
    "duration": 18,
    "start_time": "2022-12-28T14:34:02.001Z"
   },
   {
    "duration": 15,
    "start_time": "2022-12-28T14:34:13.153Z"
   },
   {
    "duration": 8,
    "start_time": "2022-12-28T14:35:19.724Z"
   },
   {
    "duration": 9,
    "start_time": "2022-12-28T14:37:53.275Z"
   },
   {
    "duration": 11,
    "start_time": "2022-12-28T14:38:09.105Z"
   },
   {
    "duration": 10,
    "start_time": "2022-12-28T14:38:37.243Z"
   },
   {
    "duration": 13,
    "start_time": "2022-12-28T14:38:57.879Z"
   },
   {
    "duration": 10,
    "start_time": "2022-12-28T14:39:04.786Z"
   },
   {
    "duration": 10,
    "start_time": "2022-12-28T14:39:16.691Z"
   },
   {
    "duration": 10,
    "start_time": "2022-12-28T14:39:31.424Z"
   },
   {
    "duration": 16,
    "start_time": "2022-12-28T14:40:43.838Z"
   },
   {
    "duration": 10,
    "start_time": "2022-12-28T14:41:48.764Z"
   },
   {
    "duration": 10,
    "start_time": "2022-12-28T14:46:13.576Z"
   },
   {
    "duration": 11,
    "start_time": "2022-12-28T14:49:25.060Z"
   },
   {
    "duration": 12,
    "start_time": "2022-12-28T14:50:48.821Z"
   },
   {
    "duration": 76,
    "start_time": "2022-12-28T14:51:24.226Z"
   },
   {
    "duration": 15,
    "start_time": "2022-12-28T14:51:24.304Z"
   },
   {
    "duration": 15,
    "start_time": "2022-12-28T14:51:24.320Z"
   },
   {
    "duration": 10,
    "start_time": "2022-12-28T14:51:24.337Z"
   },
   {
    "duration": 33,
    "start_time": "2022-12-28T14:51:24.348Z"
   },
   {
    "duration": 3,
    "start_time": "2022-12-28T14:51:24.383Z"
   },
   {
    "duration": 34,
    "start_time": "2022-12-28T14:51:24.387Z"
   },
   {
    "duration": 4,
    "start_time": "2022-12-28T14:51:24.422Z"
   },
   {
    "duration": 6,
    "start_time": "2022-12-28T14:51:24.428Z"
   },
   {
    "duration": 4,
    "start_time": "2022-12-28T14:51:24.436Z"
   },
   {
    "duration": 34,
    "start_time": "2022-12-28T14:51:24.441Z"
   },
   {
    "duration": 39,
    "start_time": "2022-12-28T14:51:24.477Z"
   },
   {
    "duration": 4,
    "start_time": "2022-12-28T14:51:24.517Z"
   },
   {
    "duration": 17,
    "start_time": "2022-12-28T14:51:24.523Z"
   },
   {
    "duration": 19,
    "start_time": "2022-12-28T14:51:24.541Z"
   },
   {
    "duration": 18,
    "start_time": "2022-12-28T14:51:24.562Z"
   },
   {
    "duration": 3,
    "start_time": "2022-12-28T14:51:24.582Z"
   },
   {
    "duration": 11,
    "start_time": "2022-12-28T14:51:24.587Z"
   },
   {
    "duration": 20,
    "start_time": "2022-12-28T14:51:24.599Z"
   },
   {
    "duration": 8,
    "start_time": "2022-12-28T14:51:24.621Z"
   },
   {
    "duration": 21,
    "start_time": "2022-12-28T14:51:24.631Z"
   },
   {
    "duration": 10,
    "start_time": "2022-12-28T14:51:24.653Z"
   },
   {
    "duration": 9,
    "start_time": "2022-12-28T14:51:24.664Z"
   },
   {
    "duration": 7,
    "start_time": "2022-12-28T14:51:24.675Z"
   },
   {
    "duration": 35,
    "start_time": "2022-12-28T14:51:24.683Z"
   },
   {
    "duration": 13,
    "start_time": "2022-12-28T14:51:24.719Z"
   },
   {
    "duration": 12,
    "start_time": "2022-12-28T14:51:24.733Z"
   },
   {
    "duration": 8,
    "start_time": "2022-12-28T14:51:24.748Z"
   },
   {
    "duration": 21,
    "start_time": "2022-12-28T14:51:24.758Z"
   },
   {
    "duration": 116,
    "start_time": "2022-12-28T14:51:24.780Z"
   },
   {
    "duration": 17,
    "start_time": "2022-12-28T14:51:24.898Z"
   },
   {
    "duration": 16,
    "start_time": "2022-12-28T14:51:24.917Z"
   },
   {
    "duration": 11,
    "start_time": "2022-12-28T14:51:24.934Z"
   },
   {
    "duration": 29,
    "start_time": "2022-12-28T14:51:24.947Z"
   },
   {
    "duration": 4,
    "start_time": "2022-12-28T14:51:24.978Z"
   },
   {
    "duration": 39,
    "start_time": "2022-12-28T14:51:24.983Z"
   },
   {
    "duration": 8,
    "start_time": "2022-12-28T14:51:25.024Z"
   },
   {
    "duration": 24,
    "start_time": "2022-12-28T14:51:25.034Z"
   },
   {
    "duration": 19,
    "start_time": "2022-12-28T14:51:25.060Z"
   },
   {
    "duration": 42,
    "start_time": "2022-12-28T14:51:25.080Z"
   },
   {
    "duration": 9,
    "start_time": "2022-12-28T14:51:25.123Z"
   },
   {
    "duration": 10,
    "start_time": "2022-12-28T14:51:32.007Z"
   },
   {
    "duration": 6,
    "start_time": "2022-12-28T14:53:28.792Z"
   },
   {
    "duration": 12,
    "start_time": "2022-12-28T14:53:44.498Z"
   },
   {
    "duration": 16,
    "start_time": "2022-12-28T15:02:08.610Z"
   }
  ],
  "colab": {
   "name": "dpp_template_part2.ipynb",
   "provenance": []
  },
  "kernelspec": {
   "display_name": "Python 3 (ipykernel)",
   "language": "python",
   "name": "python3"
  },
  "language_info": {
   "codemirror_mode": {
    "name": "ipython",
    "version": 3
   },
   "file_extension": ".py",
   "mimetype": "text/x-python",
   "name": "python",
   "nbconvert_exporter": "python",
   "pygments_lexer": "ipython3",
   "version": "3.9.15"
  },
  "toc": {
   "base_numbering": 1,
   "nav_menu": {},
   "number_sections": true,
   "sideBar": true,
   "skip_h1_title": true,
   "title_cell": "Содержание",
   "title_sidebar": "Contents",
   "toc_cell": true,
   "toc_position": {
    "height": "calc(100% - 180px)",
    "left": "10px",
    "top": "150px",
    "width": "297.6px"
   },
   "toc_section_display": true,
   "toc_window_display": false
  }
 },
 "nbformat": 4,
 "nbformat_minor": 5
}
